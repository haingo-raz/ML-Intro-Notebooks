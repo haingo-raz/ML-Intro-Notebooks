{
  "cells": [
    {
      "cell_type": "markdown",
      "id": "1e0541e1",
      "metadata": {},
      "source": [
        "# Regression and Classification Methods"
      ]
    },
    {
      "cell_type": "markdown",
      "id": "4a7102f5-f1bf-4104-a4a4-69010115180f",
      "metadata": {},
      "source": [
        "### Import necessary libraries"
      ]
    },
    {
      "cell_type": "code",
      "execution_count": 1,
      "id": "e1fd0bdd-7808-4031-98d6-89de854d2790",
      "metadata": {
        "trusted": true
      },
      "outputs": [],
      "source": [
        "import piplite\n",
        "await piplite.install('seaborn')"
      ]
    },
    {
      "cell_type": "code",
      "execution_count": 153,
      "id": "48cbf552",
      "metadata": {
        "trusted": true
      },
      "outputs": [],
      "source": [
        "import pandas as pd\n",
        "\n",
        "from matplotlib import pyplot\n",
        "import seaborn as sn\n",
        "\n",
        "from sklearn.model_selection import train_test_split\n",
        "\n",
        "from sklearn.linear_model import LinearRegression\n",
        "from sklearn.ensemble import RandomForestRegressor, GradientBoostingRegressor, RandomForestClassifier\n",
        "from sklearn.neighbors import KNeighborsClassifier\n",
        "\n",
        "from sklearn.tree import DecisionTreeClassifier\n",
        "\n",
        "from sklearn.preprocessing import LabelEncoder\n",
        "from sklearn.metrics import mean_absolute_error, r2_score, accuracy_score, classification_report, roc_auc_score"
      ]
    },
    {
      "cell_type": "markdown",
      "id": "ef379c2d",
      "metadata": {},
      "source": [
        "## A) Regression"
      ]
    },
    {
      "cell_type": "markdown",
      "id": "2b470d13",
      "metadata": {},
      "source": [
        "### 1. Dataset Selection and Objective Definition"
      ]
    },
    {
      "cell_type": "markdown",
      "id": "1a475ab8-b0d5-404f-92ac-a4f48f069f3d",
      "metadata": {},
      "source": [
        "We will work on a [car price prediction](https://www.kaggle.com/datasets/erolmasimov/price-prediction-multiple-linear-regression) dataset which can help new car selling companies to set up their price in the market. With this dataset, the objective is being able to guess the price of a car based on different features such as doornumbers, fuelsystem, compression ratio, etc. Let's investigate our dataset for more information."
      ]
    },
    {
      "cell_type": "code",
      "execution_count": 36,
      "id": "7fffc7b5",
      "metadata": {
        "trusted": true
      },
      "outputs": [
        {
          "data": {
            "text/html": [
              "<div>\n",
              "<style scoped>\n",
              "    .dataframe tbody tr th:only-of-type {\n",
              "        vertical-align: middle;\n",
              "    }\n",
              "\n",
              "    .dataframe tbody tr th {\n",
              "        vertical-align: top;\n",
              "    }\n",
              "\n",
              "    .dataframe thead th {\n",
              "        text-align: right;\n",
              "    }\n",
              "</style>\n",
              "<table border=\"1\" class=\"dataframe\">\n",
              "  <thead>\n",
              "    <tr style=\"text-align: right;\">\n",
              "      <th></th>\n",
              "      <th>ID</th>\n",
              "      <th>symboling</th>\n",
              "      <th>name</th>\n",
              "      <th>fueltypes</th>\n",
              "      <th>aspiration</th>\n",
              "      <th>doornumbers</th>\n",
              "      <th>carbody</th>\n",
              "      <th>drivewheels</th>\n",
              "      <th>enginelocation</th>\n",
              "      <th>wheelbase</th>\n",
              "      <th>...</th>\n",
              "      <th>enginesize</th>\n",
              "      <th>fuelsystem</th>\n",
              "      <th>boreratio</th>\n",
              "      <th>stroke</th>\n",
              "      <th>compressionratio</th>\n",
              "      <th>horsepower</th>\n",
              "      <th>peakrpm</th>\n",
              "      <th>citympg</th>\n",
              "      <th>highwaympg</th>\n",
              "      <th>price</th>\n",
              "    </tr>\n",
              "  </thead>\n",
              "  <tbody>\n",
              "    <tr>\n",
              "      <th>0</th>\n",
              "      <td>1</td>\n",
              "      <td>3</td>\n",
              "      <td>alfa-romero giulia</td>\n",
              "      <td>gas</td>\n",
              "      <td>std</td>\n",
              "      <td>two</td>\n",
              "      <td>convertible</td>\n",
              "      <td>rwd</td>\n",
              "      <td>front</td>\n",
              "      <td>88.6</td>\n",
              "      <td>...</td>\n",
              "      <td>130</td>\n",
              "      <td>mpfi</td>\n",
              "      <td>3.47</td>\n",
              "      <td>2.68</td>\n",
              "      <td>9.0</td>\n",
              "      <td>111</td>\n",
              "      <td>5000</td>\n",
              "      <td>21</td>\n",
              "      <td>27</td>\n",
              "      <td>13495.0</td>\n",
              "    </tr>\n",
              "    <tr>\n",
              "      <th>1</th>\n",
              "      <td>2</td>\n",
              "      <td>3</td>\n",
              "      <td>alfa-romero stelvio</td>\n",
              "      <td>gas</td>\n",
              "      <td>std</td>\n",
              "      <td>two</td>\n",
              "      <td>convertible</td>\n",
              "      <td>rwd</td>\n",
              "      <td>front</td>\n",
              "      <td>88.6</td>\n",
              "      <td>...</td>\n",
              "      <td>130</td>\n",
              "      <td>mpfi</td>\n",
              "      <td>3.47</td>\n",
              "      <td>2.68</td>\n",
              "      <td>9.0</td>\n",
              "      <td>111</td>\n",
              "      <td>5000</td>\n",
              "      <td>21</td>\n",
              "      <td>27</td>\n",
              "      <td>16500.0</td>\n",
              "    </tr>\n",
              "    <tr>\n",
              "      <th>2</th>\n",
              "      <td>3</td>\n",
              "      <td>1</td>\n",
              "      <td>alfa-romero Quadrifoglio</td>\n",
              "      <td>gas</td>\n",
              "      <td>std</td>\n",
              "      <td>two</td>\n",
              "      <td>hatchback</td>\n",
              "      <td>rwd</td>\n",
              "      <td>front</td>\n",
              "      <td>94.5</td>\n",
              "      <td>...</td>\n",
              "      <td>152</td>\n",
              "      <td>mpfi</td>\n",
              "      <td>2.68</td>\n",
              "      <td>3.47</td>\n",
              "      <td>9.0</td>\n",
              "      <td>154</td>\n",
              "      <td>5000</td>\n",
              "      <td>19</td>\n",
              "      <td>26</td>\n",
              "      <td>16500.0</td>\n",
              "    </tr>\n",
              "    <tr>\n",
              "      <th>3</th>\n",
              "      <td>4</td>\n",
              "      <td>2</td>\n",
              "      <td>audi 100 ls</td>\n",
              "      <td>gas</td>\n",
              "      <td>std</td>\n",
              "      <td>four</td>\n",
              "      <td>sedan</td>\n",
              "      <td>fwd</td>\n",
              "      <td>front</td>\n",
              "      <td>99.8</td>\n",
              "      <td>...</td>\n",
              "      <td>109</td>\n",
              "      <td>mpfi</td>\n",
              "      <td>3.19</td>\n",
              "      <td>3.40</td>\n",
              "      <td>10.0</td>\n",
              "      <td>102</td>\n",
              "      <td>5500</td>\n",
              "      <td>24</td>\n",
              "      <td>30</td>\n",
              "      <td>13950.0</td>\n",
              "    </tr>\n",
              "    <tr>\n",
              "      <th>4</th>\n",
              "      <td>5</td>\n",
              "      <td>2</td>\n",
              "      <td>audi 100ls</td>\n",
              "      <td>gas</td>\n",
              "      <td>std</td>\n",
              "      <td>four</td>\n",
              "      <td>sedan</td>\n",
              "      <td>4wd</td>\n",
              "      <td>front</td>\n",
              "      <td>99.4</td>\n",
              "      <td>...</td>\n",
              "      <td>136</td>\n",
              "      <td>mpfi</td>\n",
              "      <td>3.19</td>\n",
              "      <td>3.40</td>\n",
              "      <td>8.0</td>\n",
              "      <td>115</td>\n",
              "      <td>5500</td>\n",
              "      <td>18</td>\n",
              "      <td>22</td>\n",
              "      <td>17450.0</td>\n",
              "    </tr>\n",
              "    <tr>\n",
              "      <th>...</th>\n",
              "      <td>...</td>\n",
              "      <td>...</td>\n",
              "      <td>...</td>\n",
              "      <td>...</td>\n",
              "      <td>...</td>\n",
              "      <td>...</td>\n",
              "      <td>...</td>\n",
              "      <td>...</td>\n",
              "      <td>...</td>\n",
              "      <td>...</td>\n",
              "      <td>...</td>\n",
              "      <td>...</td>\n",
              "      <td>...</td>\n",
              "      <td>...</td>\n",
              "      <td>...</td>\n",
              "      <td>...</td>\n",
              "      <td>...</td>\n",
              "      <td>...</td>\n",
              "      <td>...</td>\n",
              "      <td>...</td>\n",
              "      <td>...</td>\n",
              "    </tr>\n",
              "    <tr>\n",
              "      <th>200</th>\n",
              "      <td>201</td>\n",
              "      <td>-1</td>\n",
              "      <td>volvo 145e (sw)</td>\n",
              "      <td>gas</td>\n",
              "      <td>std</td>\n",
              "      <td>four</td>\n",
              "      <td>sedan</td>\n",
              "      <td>rwd</td>\n",
              "      <td>front</td>\n",
              "      <td>109.1</td>\n",
              "      <td>...</td>\n",
              "      <td>141</td>\n",
              "      <td>mpfi</td>\n",
              "      <td>3.78</td>\n",
              "      <td>3.15</td>\n",
              "      <td>9.5</td>\n",
              "      <td>114</td>\n",
              "      <td>5400</td>\n",
              "      <td>23</td>\n",
              "      <td>28</td>\n",
              "      <td>16845.0</td>\n",
              "    </tr>\n",
              "    <tr>\n",
              "      <th>201</th>\n",
              "      <td>202</td>\n",
              "      <td>-1</td>\n",
              "      <td>volvo 144ea</td>\n",
              "      <td>gas</td>\n",
              "      <td>turbo</td>\n",
              "      <td>four</td>\n",
              "      <td>sedan</td>\n",
              "      <td>rwd</td>\n",
              "      <td>front</td>\n",
              "      <td>109.1</td>\n",
              "      <td>...</td>\n",
              "      <td>141</td>\n",
              "      <td>mpfi</td>\n",
              "      <td>3.78</td>\n",
              "      <td>3.15</td>\n",
              "      <td>8.7</td>\n",
              "      <td>160</td>\n",
              "      <td>5300</td>\n",
              "      <td>19</td>\n",
              "      <td>25</td>\n",
              "      <td>19045.0</td>\n",
              "    </tr>\n",
              "    <tr>\n",
              "      <th>202</th>\n",
              "      <td>203</td>\n",
              "      <td>-1</td>\n",
              "      <td>volvo 244dl</td>\n",
              "      <td>gas</td>\n",
              "      <td>std</td>\n",
              "      <td>four</td>\n",
              "      <td>sedan</td>\n",
              "      <td>rwd</td>\n",
              "      <td>front</td>\n",
              "      <td>109.1</td>\n",
              "      <td>...</td>\n",
              "      <td>173</td>\n",
              "      <td>mpfi</td>\n",
              "      <td>3.58</td>\n",
              "      <td>2.87</td>\n",
              "      <td>8.8</td>\n",
              "      <td>134</td>\n",
              "      <td>5500</td>\n",
              "      <td>18</td>\n",
              "      <td>23</td>\n",
              "      <td>21485.0</td>\n",
              "    </tr>\n",
              "    <tr>\n",
              "      <th>203</th>\n",
              "      <td>204</td>\n",
              "      <td>-1</td>\n",
              "      <td>volvo 246</td>\n",
              "      <td>diesel</td>\n",
              "      <td>turbo</td>\n",
              "      <td>four</td>\n",
              "      <td>sedan</td>\n",
              "      <td>rwd</td>\n",
              "      <td>front</td>\n",
              "      <td>109.1</td>\n",
              "      <td>...</td>\n",
              "      <td>145</td>\n",
              "      <td>idi</td>\n",
              "      <td>3.01</td>\n",
              "      <td>3.40</td>\n",
              "      <td>23.0</td>\n",
              "      <td>106</td>\n",
              "      <td>4800</td>\n",
              "      <td>26</td>\n",
              "      <td>27</td>\n",
              "      <td>22470.0</td>\n",
              "    </tr>\n",
              "    <tr>\n",
              "      <th>204</th>\n",
              "      <td>205</td>\n",
              "      <td>-1</td>\n",
              "      <td>volvo 264gl</td>\n",
              "      <td>gas</td>\n",
              "      <td>turbo</td>\n",
              "      <td>four</td>\n",
              "      <td>sedan</td>\n",
              "      <td>rwd</td>\n",
              "      <td>front</td>\n",
              "      <td>109.1</td>\n",
              "      <td>...</td>\n",
              "      <td>141</td>\n",
              "      <td>mpfi</td>\n",
              "      <td>3.78</td>\n",
              "      <td>3.15</td>\n",
              "      <td>9.5</td>\n",
              "      <td>114</td>\n",
              "      <td>5400</td>\n",
              "      <td>19</td>\n",
              "      <td>25</td>\n",
              "      <td>22625.0</td>\n",
              "    </tr>\n",
              "  </tbody>\n",
              "</table>\n",
              "<p>205 rows × 26 columns</p>\n",
              "</div>"
            ],
            "text/plain": [
              "      ID  symboling                      name fueltypes aspiration  \\\n",
              "0      1          3        alfa-romero giulia       gas        std   \n",
              "1      2          3       alfa-romero stelvio       gas        std   \n",
              "2      3          1  alfa-romero Quadrifoglio       gas        std   \n",
              "3      4          2               audi 100 ls       gas        std   \n",
              "4      5          2                audi 100ls       gas        std   \n",
              "..   ...        ...                       ...       ...        ...   \n",
              "200  201         -1           volvo 145e (sw)       gas        std   \n",
              "201  202         -1               volvo 144ea       gas      turbo   \n",
              "202  203         -1               volvo 244dl       gas        std   \n",
              "203  204         -1                 volvo 246    diesel      turbo   \n",
              "204  205         -1               volvo 264gl       gas      turbo   \n",
              "\n",
              "    doornumbers      carbody drivewheels enginelocation  wheelbase  ...  \\\n",
              "0           two  convertible         rwd          front       88.6  ...   \n",
              "1           two  convertible         rwd          front       88.6  ...   \n",
              "2           two    hatchback         rwd          front       94.5  ...   \n",
              "3          four        sedan         fwd          front       99.8  ...   \n",
              "4          four        sedan         4wd          front       99.4  ...   \n",
              "..          ...          ...         ...            ...        ...  ...   \n",
              "200        four        sedan         rwd          front      109.1  ...   \n",
              "201        four        sedan         rwd          front      109.1  ...   \n",
              "202        four        sedan         rwd          front      109.1  ...   \n",
              "203        four        sedan         rwd          front      109.1  ...   \n",
              "204        four        sedan         rwd          front      109.1  ...   \n",
              "\n",
              "     enginesize  fuelsystem  boreratio  stroke compressionratio horsepower  \\\n",
              "0           130        mpfi       3.47    2.68              9.0        111   \n",
              "1           130        mpfi       3.47    2.68              9.0        111   \n",
              "2           152        mpfi       2.68    3.47              9.0        154   \n",
              "3           109        mpfi       3.19    3.40             10.0        102   \n",
              "4           136        mpfi       3.19    3.40              8.0        115   \n",
              "..          ...         ...        ...     ...              ...        ...   \n",
              "200         141        mpfi       3.78    3.15              9.5        114   \n",
              "201         141        mpfi       3.78    3.15              8.7        160   \n",
              "202         173        mpfi       3.58    2.87              8.8        134   \n",
              "203         145         idi       3.01    3.40             23.0        106   \n",
              "204         141        mpfi       3.78    3.15              9.5        114   \n",
              "\n",
              "     peakrpm citympg  highwaympg    price  \n",
              "0       5000      21          27  13495.0  \n",
              "1       5000      21          27  16500.0  \n",
              "2       5000      19          26  16500.0  \n",
              "3       5500      24          30  13950.0  \n",
              "4       5500      18          22  17450.0  \n",
              "..       ...     ...         ...      ...  \n",
              "200     5400      23          28  16845.0  \n",
              "201     5300      19          25  19045.0  \n",
              "202     5500      18          23  21485.0  \n",
              "203     4800      26          27  22470.0  \n",
              "204     5400      19          25  22625.0  \n",
              "\n",
              "[205 rows x 26 columns]"
            ]
          },
          "execution_count": 36,
          "metadata": {},
          "output_type": "execute_result"
        }
      ],
      "source": [
        "car_price = pd.read_csv(\"scrap price.csv\")\n",
        "car_price"
      ]
    },
    {
      "cell_type": "markdown",
      "id": "40489093-3ca6-41eb-b5ce-6e88843e4b41",
      "metadata": {},
      "source": [
        "#### Check the columns "
      ]
    },
    {
      "cell_type": "code",
      "execution_count": 37,
      "id": "441f0c48-2ba0-460a-8dd6-9c4478cd1f3d",
      "metadata": {
        "trusted": true
      },
      "outputs": [
        {
          "data": {
            "text/plain": [
              "Index(['ID', 'symboling', 'name', 'fueltypes', 'aspiration', 'doornumbers',\n",
              "       'carbody', 'drivewheels', 'enginelocation', 'wheelbase', 'carlength',\n",
              "       'carwidth', 'carheight', 'curbweight', 'enginetype', 'cylindernumber',\n",
              "       'enginesize', 'fuelsystem', 'boreratio', 'stroke', 'compressionratio',\n",
              "       'horsepower', 'peakrpm', 'citympg', 'highwaympg', 'price'],\n",
              "      dtype='object')"
            ]
          },
          "execution_count": 37,
          "metadata": {},
          "output_type": "execute_result"
        }
      ],
      "source": [
        "car_price.columns"
      ]
    },
    {
      "cell_type": "markdown",
      "id": "3f0793ca-f672-4cc1-bbf8-c5d0284639c9",
      "metadata": {},
      "source": [
        "The different columns of the dataset are:\n",
        "* symboling\n",
        "* name\n",
        "* fueltypes\n",
        "* aspiration\n",
        "* doornumbers\n",
        "* carbody\n",
        "* drivewheels\n",
        "* enginelocation\n",
        "* wheelbase carlength\n",
        "* carwidth\n",
        "* carheight\n",
        "* curbweight\n",
        "* enginetype\n",
        "* cylindernumber\n",
        "* enginesize\n",
        "* fuelsystem\n",
        "* boreratio\n",
        "* stroke\n",
        "* compressionratio\n",
        "* horsepower\n",
        "* peakrpm\n",
        "* citympg\n",
        "* highwaympg\n",
        "* price: the price of the carrice"
      ]
    },
    {
      "cell_type": "markdown",
      "id": "ed04b252",
      "metadata": {},
      "source": [
        "### 2. Data Preprocessing"
      ]
    },
    {
      "cell_type": "markdown",
      "id": "1b6e4700-267e-461c-b96a-6260600fe2c9",
      "metadata": {},
      "source": [
        "#### Get basic information of the dataset"
      ]
    },
    {
      "cell_type": "code",
      "execution_count": 5,
      "id": "ee1db966-9ea7-499d-9b56-81369a02e32b",
      "metadata": {
        "trusted": true
      },
      "outputs": [
        {
          "name": "stdout",
          "output_type": "stream",
          "text": [
            "<class 'pandas.core.frame.DataFrame'>\n",
            "RangeIndex: 205 entries, 0 to 204\n",
            "Data columns (total 26 columns):\n",
            " #   Column            Non-Null Count  Dtype  \n",
            "---  ------            --------------  -----  \n",
            " 0   ID                205 non-null    int64  \n",
            " 1   symboling         205 non-null    int64  \n",
            " 2   name              205 non-null    object \n",
            " 3   fueltypes         205 non-null    object \n",
            " 4   aspiration        205 non-null    object \n",
            " 5   doornumbers       205 non-null    object \n",
            " 6   carbody           205 non-null    object \n",
            " 7   drivewheels       205 non-null    object \n",
            " 8   enginelocation    205 non-null    object \n",
            " 9   wheelbase         205 non-null    float64\n",
            " 10  carlength         205 non-null    float64\n",
            " 11  carwidth          205 non-null    float64\n",
            " 12  carheight         205 non-null    float64\n",
            " 13  curbweight        205 non-null    int64  \n",
            " 14  enginetype        205 non-null    object \n",
            " 15  cylindernumber    205 non-null    object \n",
            " 16  enginesize        205 non-null    int64  \n",
            " 17  fuelsystem        205 non-null    object \n",
            " 18  boreratio         205 non-null    float64\n",
            " 19  stroke            205 non-null    float64\n",
            " 20  compressionratio  205 non-null    float64\n",
            " 21  horsepower        205 non-null    int64  \n",
            " 22  peakrpm           205 non-null    int64  \n",
            " 23  citympg           205 non-null    int64  \n",
            " 24  highwaympg        205 non-null    int64  \n",
            " 25  price             205 non-null    float64\n",
            "dtypes: float64(8), int64(8), object(10)\n",
            "memory usage: 33.7+ KB\n"
          ]
        }
      ],
      "source": [
        "car_price.info()"
      ]
    },
    {
      "cell_type": "markdown",
      "id": "25e21753-4b08-4868-b75a-52edc6309281",
      "metadata": {},
      "source": [
        "The dataset has 205 observations and 26 columns."
      ]
    },
    {
      "cell_type": "markdown",
      "id": "24f0478b-972a-4acc-a18b-e1c161a0b43c",
      "metadata": {},
      "source": [
        "#### Removing the id column"
      ]
    },
    {
      "cell_type": "markdown",
      "id": "eecd301c-ab67-410e-bfce-67b7d3320f85",
      "metadata": {},
      "source": [
        "We will remove the ID column as we do not need it for machine learning purposes."
      ]
    },
    {
      "cell_type": "code",
      "execution_count": 6,
      "id": "e62a11fa-9234-4549-aca6-d5b2ff4e6a9a",
      "metadata": {
        "trusted": true
      },
      "outputs": [
        {
          "data": {
            "text/plain": [
              "Index(['symboling', 'name', 'fueltypes', 'aspiration', 'doornumbers',\n",
              "       'carbody', 'drivewheels', 'enginelocation', 'wheelbase', 'carlength',\n",
              "       'carwidth', 'carheight', 'curbweight', 'enginetype', 'cylindernumber',\n",
              "       'enginesize', 'fuelsystem', 'boreratio', 'stroke', 'compressionratio',\n",
              "       'horsepower', 'peakrpm', 'citympg', 'highwaympg', 'price'],\n",
              "      dtype='object')"
            ]
          },
          "execution_count": 6,
          "metadata": {},
          "output_type": "execute_result"
        }
      ],
      "source": [
        "car_price = car_price.drop('ID',axis=1)\n",
        "car_price.columns"
      ]
    },
    {
      "cell_type": "markdown",
      "id": "4eb74cbd-113c-4695-81db-9ffb3db2d794",
      "metadata": {},
      "source": [
        "#### Finding missing values"
      ]
    },
    {
      "cell_type": "code",
      "execution_count": 7,
      "id": "01fc4df0-963a-4566-8ced-cf8299cab932",
      "metadata": {
        "trusted": true
      },
      "outputs": [
        {
          "data": {
            "text/plain": [
              "symboling           0\n",
              "name                0\n",
              "fueltypes           0\n",
              "aspiration          0\n",
              "doornumbers         0\n",
              "carbody             0\n",
              "drivewheels         0\n",
              "enginelocation      0\n",
              "wheelbase           0\n",
              "carlength           0\n",
              "carwidth            0\n",
              "carheight           0\n",
              "curbweight          0\n",
              "enginetype          0\n",
              "cylindernumber      0\n",
              "enginesize          0\n",
              "fuelsystem          0\n",
              "boreratio           0\n",
              "stroke              0\n",
              "compressionratio    0\n",
              "horsepower          0\n",
              "peakrpm             0\n",
              "citympg             0\n",
              "highwaympg          0\n",
              "price               0\n",
              "dtype: int64"
            ]
          },
          "execution_count": 7,
          "metadata": {},
          "output_type": "execute_result"
        }
      ],
      "source": [
        "car_price.isnull().sum()"
      ]
    },
    {
      "cell_type": "markdown",
      "id": "98edd7fc-2a3b-4443-bdce-de906123e780",
      "metadata": {},
      "source": [
        "The dataset does not seem to have any null values."
      ]
    },
    {
      "cell_type": "markdown",
      "id": "1bff5058-c4b4-45de-ad9d-3334d0e99585",
      "metadata": {},
      "source": [
        "#### Looking for duplicated observations"
      ]
    },
    {
      "cell_type": "code",
      "execution_count": 8,
      "id": "e20846eb-0221-4312-9cc9-05ec2252954d",
      "metadata": {
        "trusted": true
      },
      "outputs": [
        {
          "data": {
            "text/plain": [
              "0"
            ]
          },
          "execution_count": 8,
          "metadata": {},
          "output_type": "execute_result"
        }
      ],
      "source": [
        "car_price.duplicated().sum()"
      ]
    },
    {
      "cell_type": "markdown",
      "id": "e22c7222-f40f-4642-808c-396b81909f39",
      "metadata": {},
      "source": [
        "There are no duplicated observations in the dataset."
      ]
    },
    {
      "cell_type": "markdown",
      "id": "a69dc000-45ad-4a6f-80b5-c7356e13de61",
      "metadata": {},
      "source": [
        "#### Checking column values"
      ]
    },
    {
      "cell_type": "markdown",
      "id": "c5880c19-c068-48ab-9572-72423bc15ed5",
      "metadata": {},
      "source": [
        "We will specifically look at the name column as there seem to be multiple values in it."
      ]
    },
    {
      "cell_type": "code",
      "execution_count": 9,
      "id": "979dfdbf-6165-4db2-b84a-4bb719a296bd",
      "metadata": {
        "trusted": true
      },
      "outputs": [
        {
          "data": {
            "text/plain": [
              "array(['alfa-romero giulia', 'alfa-romero stelvio',\n",
              "       'alfa-romero Quadrifoglio', 'audi 100 ls', 'audi 100ls',\n",
              "       'audi fox', 'audi 5000', 'audi 4000', 'audi 5000s (diesel)',\n",
              "       'bmw 320i', 'bmw x1', 'bmw x3', 'bmw z4', 'bmw x4', 'bmw x5',\n",
              "       'chevrolet impala', 'chevrolet monte carlo', 'chevrolet vega 2300',\n",
              "       'dodge rampage', 'dodge challenger se', 'dodge d200',\n",
              "       'dodge monaco (sw)', 'dodge colt hardtop', 'dodge colt (sw)',\n",
              "       'dodge coronet custom', 'dodge dart custom',\n",
              "       'dodge coronet custom (sw)', 'honda civic', 'honda civic cvcc',\n",
              "       'honda accord cvcc', 'honda accord lx', 'honda civic 1500 gl',\n",
              "       'honda accord', 'honda civic 1300', 'honda prelude',\n",
              "       'honda civic (auto)', 'isuzu MU-X', 'isuzu D-Max ',\n",
              "       'isuzu D-Max V-Cross', 'jaguar xj', 'jaguar xf', 'jaguar xk',\n",
              "       'maxda rx3', 'maxda glc deluxe', 'mazda rx2 coupe', 'mazda rx-4',\n",
              "       'mazda glc deluxe', 'mazda 626', 'mazda glc', 'mazda rx-7 gs',\n",
              "       'mazda glc 4', 'mazda glc custom l', 'mazda glc custom',\n",
              "       'buick electra 225 custom', 'buick century luxus (sw)',\n",
              "       'buick century', 'buick skyhawk', 'buick opel isuzu deluxe',\n",
              "       'buick skylark', 'buick century special',\n",
              "       'buick regal sport coupe (turbo)', 'mercury cougar',\n",
              "       'mitsubishi mirage', 'mitsubishi lancer', 'mitsubishi outlander',\n",
              "       'mitsubishi g4', 'mitsubishi mirage g4', 'mitsubishi montero',\n",
              "       'mitsubishi pajero', 'Nissan versa', 'nissan gt-r', 'nissan rogue',\n",
              "       'nissan latio', 'nissan titan', 'nissan leaf', 'nissan juke',\n",
              "       'nissan note', 'nissan clipper', 'nissan nv200', 'nissan dayz',\n",
              "       'nissan fuga', 'nissan otti', 'nissan teana', 'nissan kicks',\n",
              "       'peugeot 504', 'peugeot 304', 'peugeot 504 (sw)', 'peugeot 604sl',\n",
              "       'peugeot 505s turbo diesel', 'plymouth fury iii',\n",
              "       'plymouth cricket', 'plymouth satellite custom (sw)',\n",
              "       'plymouth fury gran sedan', 'plymouth valiant', 'plymouth duster',\n",
              "       'porsche macan', 'porcshce panamera', 'porsche cayenne',\n",
              "       'porsche boxter', 'renault 12tl', 'renault 5 gtl', 'saab 99e',\n",
              "       'saab 99le', 'saab 99gle', 'subaru', 'subaru dl', 'subaru brz',\n",
              "       'subaru baja', 'subaru r1', 'subaru r2', 'subaru trezia',\n",
              "       'subaru tribeca', 'toyota corona mark ii', 'toyota corona',\n",
              "       'toyota corolla 1200', 'toyota corona hardtop',\n",
              "       'toyota corolla 1600 (sw)', 'toyota carina', 'toyota mark ii',\n",
              "       'toyota corolla', 'toyota corolla liftback',\n",
              "       'toyota celica gt liftback', 'toyota corolla tercel',\n",
              "       'toyota corona liftback', 'toyota starlet', 'toyota tercel',\n",
              "       'toyota cressida', 'toyota celica gt', 'toyouta tercel',\n",
              "       'vokswagen rabbit', 'volkswagen 1131 deluxe sedan',\n",
              "       'volkswagen model 111', 'volkswagen type 3', 'volkswagen 411 (sw)',\n",
              "       'volkswagen super beetle', 'volkswagen dasher', 'vw dasher',\n",
              "       'vw rabbit', 'volkswagen rabbit', 'volkswagen rabbit custom',\n",
              "       'volvo 145e (sw)', 'volvo 144ea', 'volvo 244dl', 'volvo 245',\n",
              "       'volvo 264gl', 'volvo diesel', 'volvo 246'], dtype=object)"
            ]
          },
          "execution_count": 9,
          "metadata": {},
          "output_type": "execute_result"
        }
      ],
      "source": [
        "car_price.name.unique()"
      ]
    },
    {
      "cell_type": "markdown",
      "id": "080f7057-8d0a-447e-a508-f7d379985733",
      "metadata": {},
      "source": [
        "We will transform the name of the cars so that we only pick the model name at the start. We will create a new column called model_name to hold these new values, and delete the old **name** column."
      ]
    },
    {
      "cell_type": "code",
      "execution_count": 38,
      "id": "84df0d8d-4f74-4c95-b891-b36ccd49e537",
      "metadata": {
        "trusted": true
      },
      "outputs": [
        {
          "data": {
            "text/plain": [
              "array(['alfa-romero', 'audi', 'bmw', 'chevrolet', 'dodge', 'honda',\n",
              "       'isuzu', 'jaguar', 'maxda', 'mazda', 'buick', 'mercury',\n",
              "       'mitsubishi', 'Nissan', 'nissan', 'peugeot', 'plymouth', 'porsche',\n",
              "       'porcshce', 'renault', 'saab', 'subaru', 'toyota', 'toyouta',\n",
              "       'vokswagen', 'volkswagen', 'vw', 'volvo'], dtype=object)"
            ]
          },
          "execution_count": 38,
          "metadata": {},
          "output_type": "execute_result"
        }
      ],
      "source": [
        "model_name = car_price['name'].apply(lambda x : x.split(' ')[0])\n",
        "car_price.insert(3,'model_name', model_name)\n",
        "car_price.drop(['name'],axis=1,inplace=True)\n",
        "car_price['model_name'].unique()"
      ]
    },
    {
      "cell_type": "markdown",
      "id": "1e73749c-ace4-4a8c-92b1-0a288994cadd",
      "metadata": {},
      "source": [
        "Furthermore, some values are repeated twice such as **Nissan** and **nissan** as it it case sensitive. So we will address that by transforming the uppercase values to lower case values.\n",
        "We also notice that some values such as maxda, porcshe, toyouta, vokswagen and vw are mispelled. We will also address that by replacing the values with the correct ones."
      ]
    },
    {
      "cell_type": "code",
      "execution_count": 39,
      "id": "192b74d8-37cb-4844-aa7d-0e201415f19f",
      "metadata": {
        "trusted": true
      },
      "outputs": [
        {
          "data": {
            "text/plain": [
              "array(['alfa-romero', 'audi', 'bmw', 'chevrolet', 'dodge', 'honda',\n",
              "       'isuzu', 'jaguar', 'mazda', 'buick', 'mercury', 'mitsubishi',\n",
              "       'nissan', 'peugeot', 'plymouth', 'porsche', 'renault', 'saab',\n",
              "       'subaru', 'toyota', 'volkswagen', 'volvo'], dtype=object)"
            ]
          },
          "execution_count": 39,
          "metadata": {},
          "output_type": "execute_result"
        }
      ],
      "source": [
        "car_price['model_name'] = car_price['model_name'].replace(\n",
        "    {'maxda': 'mazda', 'Nissan': 'nissan', 'porcshce': 'porsche', 'toyouta': 'toyota', 'vokswagen': 'volkswagen', 'vw': 'volkswagen'})\n",
        "car_price['model_name'].unique()"
      ]
    },
    {
      "cell_type": "markdown",
      "id": "534bdc60-e220-4e0d-8a36-8ded0c90c835",
      "metadata": {},
      "source": [
        "#### Checking distribution"
      ]
    },
    {
      "cell_type": "code",
      "execution_count": 40,
      "id": "3eb024e1-fe22-4051-aa75-287dca91a80d",
      "metadata": {
        "trusted": true
      },
      "outputs": [
        {
          "data": {
            "text/plain": [
              "<AxesSubplot:xlabel='price', ylabel='enginesize'>"
            ]
          },
          "execution_count": 40,
          "metadata": {},
          "output_type": "execute_result"
        },
        {
          "data": {
            "image/png": "[encoded data removed]",
            "text/plain": [
              "<Figure size 640x480 with 1 Axes>"
            ]
          },
          "metadata": {},
          "output_type": "display_data"
        }
      ],
      "source": [
        "sn.scatterplot(data=car_price, x=\"price\", y=\"enginesize\")"
      ]
    },
    {
      "cell_type": "markdown",
      "id": "e012f416-a5c2-44fb-9e6e-48631dd98a1b",
      "metadata": {},
      "source": [
        "We can see from this plot that there is a positive linear relationship between the variables price and enginesize. Most of the data points are on the left side of the plot, and a few are on the top right side."
      ]
    },
    {
      "cell_type": "markdown",
      "id": "d2a34051-beaf-476f-a25d-d90ccf56d613",
      "metadata": {},
      "source": [
        "#### Checking for outliers using boxplots"
      ]
    },
    {
      "cell_type": "markdown",
      "id": "a71e9515-5057-477d-b052-aa919c25b84c",
      "metadata": {},
      "source": [
        "We will create a box plot for the target variable (price)"
      ]
    },
    {
      "cell_type": "code",
      "execution_count": 41,
      "id": "284602f9-ebf3-45ad-8e0a-4d1501acfd9d",
      "metadata": {
        "trusted": true
      },
      "outputs": [
        {
          "data": {
            "text/plain": [
              "<AxesSubplot:>"
            ]
          },
          "execution_count": 41,
          "metadata": {},
          "output_type": "execute_result"
        },
        {
          "data": {
            "image/png": "[encoded data removed]",
            "text/plain": [
              "<Figure size 640x480 with 1 Axes>"
            ]
          },
          "metadata": {},
          "output_type": "display_data"
        }
      ],
      "source": [
        "car_price.price.plot(kind='box')"
      ]
    },
    {
      "cell_type": "markdown",
      "id": "e168c41a-fba3-4573-9a8d-277498a34224",
      "metadata": {},
      "source": [
        "The box plot above shows the outliers within the price variable. We will use the **Interquartile Range method** to address these outliers."
      ]
    },
    {
      "cell_type": "markdown",
      "id": "c37d5e45-83ce-4d10-95ee-ab966adb97f8",
      "metadata": {},
      "source": [
        "#### Addressing the outliers with the Interquartile Range method"
      ]
    },
    {
      "cell_type": "code",
      "execution_count": 42,
      "id": "3fbd2d28-2373-4812-a75e-4af715fcfc68",
      "metadata": {
        "trusted": true
      },
      "outputs": [],
      "source": [
        "Q1 = car_price['price'].quantile(0.25)\n",
        "Q3 = car_price['price'].quantile(0.75)\n",
        "IQR = Q3 - Q1\n",
        "car_price = car_price[~((car_price['price'] < (Q1 - 1.5 * IQR))|(car_price['price'] > (Q3 + 1.5*IQR)))]"
      ]
    },
    {
      "cell_type": "code",
      "execution_count": 43,
      "id": "ae44e549-6b67-46d1-91df-491580426211",
      "metadata": {
        "trusted": true
      },
      "outputs": [
        {
          "data": {
            "text/plain": [
              "<AxesSubplot:>"
            ]
          },
          "execution_count": 43,
          "metadata": {},
          "output_type": "execute_result"
        },
        {
          "data": {
            "image/png": "[encoded data removed]",
            "text/plain": [
              "<Figure size 640x480 with 1 Axes>"
            ]
          },
          "metadata": {},
          "output_type": "display_data"
        }
      ],
      "source": [
        "car_price.price.plot(kind='box')"
      ]
    },
    {
      "cell_type": "markdown",
      "id": "8fb7fe57-9c5d-4cac-834d-5c1e78764c14",
      "metadata": {},
      "source": [
        "We have seen a significant reduced number of outliers."
      ]
    },
    {
      "cell_type": "markdown",
      "id": "53dcfb10-3839-4078-b3f8-25e52b154596",
      "metadata": {},
      "source": [
        "#### Checking correlation"
      ]
    },
    {
      "cell_type": "code",
      "execution_count": 44,
      "id": "404312bc-b103-4cbe-9bf0-9debc2864d7a",
      "metadata": {
        "trusted": true
      },
      "outputs": [
        {
          "data": {
            "text/plain": [
              "<AxesSubplot:>"
            ]
          },
          "execution_count": 44,
          "metadata": {},
          "output_type": "execute_result"
        },
        {
          "data": {
            "image/png": "[encoded data removed]",
            "text/plain": [
              "<Figure size 1000x600 with 2 Axes>"
            ]
          },
          "metadata": {},
          "output_type": "display_data"
        }
      ],
      "source": [
        "pyplot.figure(figsize=(10, 6))\n",
        "correlations = car_price.corr(numeric_only=True)\n",
        "sn.heatmap(correlations, annot=True)"
      ]
    },
    {
      "cell_type": "markdown",
      "id": "bbbac756-775a-463d-9e2d-9c28529f46a2",
      "metadata": {},
      "source": [
        "We would like to use linear regression model on this dataset. However, with linear regression, independent variables should not be too highly correlated with each other.\n",
        "\n",
        "We can see that the following variables are highly correlated:\n",
        "* wheelbase and carlength \n",
        "* carlength and carwidth \n",
        "* carwidth and curbweight \n",
        "* curbweight and carlength\n",
        "* curbweight and enginesize \n",
        "* curbweight and horsepower\n",
        "* curbweight and citympg\n",
        "* curbweight and highwaympg \n",
        "* horsepower and citympg \n",
        "* horsepower and highwaympg \n",
        "* citympg and highwaympg \n",
        "\n",
        "Between the highly correlated variables, we will remove the ones who have a weaker relationship with the price (dependent) variable. We will remove wheelbase, carlength, carwidth, highwaympg."
      ]
    },
    {
      "cell_type": "code",
      "execution_count": 45,
      "id": "629e7ddb-c0fa-434e-9cac-3dd2980c0621",
      "metadata": {
        "trusted": true
      },
      "outputs": [],
      "source": [
        "car_price = car_price.drop(columns=['wheelbase','carwidth','carlength','highwaympg'],axis=1)"
      ]
    },
    {
      "cell_type": "code",
      "execution_count": 46,
      "id": "8b7ec15c-5b70-4350-80ce-2422a728763b",
      "metadata": {
        "trusted": true
      },
      "outputs": [
        {
          "data": {
            "text/plain": [
              "Index(['ID', 'symboling', 'model_name', 'fueltypes', 'aspiration',\n",
              "       'doornumbers', 'carbody', 'drivewheels', 'enginelocation', 'carheight',\n",
              "       'curbweight', 'enginetype', 'cylindernumber', 'enginesize',\n",
              "       'fuelsystem', 'boreratio', 'stroke', 'compressionratio', 'horsepower',\n",
              "       'peakrpm', 'citympg', 'price'],\n",
              "      dtype='object')"
            ]
          },
          "execution_count": 46,
          "metadata": {},
          "output_type": "execute_result"
        }
      ],
      "source": [
        "car_price.columns"
      ]
    },
    {
      "cell_type": "markdown",
      "id": "fc04fe4d-24f4-4a53-8b92-e429bc2c423d",
      "metadata": {},
      "source": [
        "#### Checking the variable types"
      ]
    },
    {
      "cell_type": "code",
      "execution_count": 47,
      "id": "ccba1d64-42a1-4f3e-b06a-5572790a88bb",
      "metadata": {
        "trusted": true
      },
      "outputs": [
        {
          "data": {
            "text/plain": [
              "ID                    int64\n",
              "symboling             int64\n",
              "model_name           object\n",
              "fueltypes            object\n",
              "aspiration           object\n",
              "doornumbers          object\n",
              "carbody              object\n",
              "drivewheels          object\n",
              "enginelocation       object\n",
              "carheight           float64\n",
              "curbweight            int64\n",
              "enginetype           object\n",
              "cylindernumber       object\n",
              "enginesize            int64\n",
              "fuelsystem           object\n",
              "boreratio           float64\n",
              "stroke              float64\n",
              "compressionratio    float64\n",
              "horsepower            int64\n",
              "peakrpm               int64\n",
              "citympg               int64\n",
              "price               float64\n",
              "dtype: object"
            ]
          },
          "execution_count": 47,
          "metadata": {},
          "output_type": "execute_result"
        }
      ],
      "source": [
        "car_price.dtypes"
      ]
    },
    {
      "cell_type": "markdown",
      "id": "04c58b01-d473-428d-a134-d9de7a24ffce",
      "metadata": {},
      "source": [
        "We can see that the variable types are object, float64, and int64.\n",
        "\n",
        "Let's look at each of the object variables and their unique values."
      ]
    },
    {
      "cell_type": "code",
      "execution_count": 48,
      "id": "7944cbc4-d73d-46a6-9456-29e661626f79",
      "metadata": {
        "trusted": true
      },
      "outputs": [
        {
          "name": "stdout",
          "output_type": "stream",
          "text": [
            "Unique values for model_name : ['alfa-romero' 'audi' 'bmw' 'chevrolet' 'dodge' 'honda' 'isuzu' 'mazda'\n",
            " 'buick' 'mercury' 'mitsubishi' 'nissan' 'peugeot' 'plymouth' 'porsche'\n",
            " 'renault' 'saab' 'subaru' 'toyota' 'volkswagen' 'volvo']\n",
            "Unique values for fueltypes : ['gas' 'diesel']\n",
            "Unique values for aspiration : ['std' 'turbo']\n",
            "Unique values for doornumbers : ['two' 'four']\n",
            "Unique values for carbody : ['convertible' 'hatchback' 'sedan' 'wagon' 'hardtop']\n",
            "Unique values for drivewheels : ['rwd' 'fwd' '4wd']\n",
            "Unique values for enginelocation : ['front']\n",
            "Unique values for enginetype : ['dohc' 'ohcv' 'ohc' 'l' 'rotor' 'ohcf']\n",
            "Unique values for cylindernumber : ['four' 'six' 'five' 'three' 'two']\n",
            "Unique values for fuelsystem : ['mpfi' '2bbl' 'mfi' '1bbl' 'spfi' '4bbl' 'idi' 'spdi']\n"
          ]
        }
      ],
      "source": [
        "column = car_price.select_dtypes(include=['object']).columns\n",
        "for i in column:\n",
        "    print(\"Unique values for {0} :\".format(i), car_price[i].unique())"
      ]
    },
    {
      "cell_type": "markdown",
      "id": "bb2eaa77-ea21-4020-bff6-4262d4365f4e",
      "metadata": {},
      "source": [
        "#### Transforming the values"
      ]
    },
    {
      "cell_type": "markdown",
      "id": "738316b2-b4cf-46ff-aff9-224c858b09fd",
      "metadata": {},
      "source": [
        "We will categorize the variables into binary, ordinal, and nominal."
      ]
    },
    {
      "cell_type": "code",
      "execution_count": 49,
      "id": "c328dfcc-4df4-4b69-baa8-683fe13a02e3",
      "metadata": {
        "trusted": true
      },
      "outputs": [],
      "source": [
        "binary_labels = ['aspiration', 'doornumbers', 'enginelocation', 'fueltypes']\n",
        "\n",
        "ordinal_labels = ['cylindernumber', 'symboling',\n",
        "                  'carheight', 'curbweight', 'enginesize', 'boreratio', 'stroke', 'compressionratio', 'horsepower',\n",
        "                  'peakrpm', 'citympg']\n",
        "\n",
        "nominal_labels = ['carbody', 'drivewheels', 'enginetype', 'fuelsystem', 'model_name']"
      ]
    },
    {
      "cell_type": "markdown",
      "id": "89371117-b219-4d64-acfe-51048b83dcfd",
      "metadata": {},
      "source": [
        "#### Address the ordinal and binary values"
      ]
    },
    {
      "cell_type": "code",
      "execution_count": 50,
      "id": "2747752a-c83c-4bfc-9af5-4510a43e48c3",
      "metadata": {
        "trusted": true
      },
      "outputs": [
        {
          "data": {
            "text/html": [
              "<div>\n",
              "<style scoped>\n",
              "    .dataframe tbody tr th:only-of-type {\n",
              "        vertical-align: middle;\n",
              "    }\n",
              "\n",
              "    .dataframe tbody tr th {\n",
              "        vertical-align: top;\n",
              "    }\n",
              "\n",
              "    .dataframe thead th {\n",
              "        text-align: right;\n",
              "    }\n",
              "</style>\n",
              "<table border=\"1\" class=\"dataframe\">\n",
              "  <thead>\n",
              "    <tr style=\"text-align: right;\">\n",
              "      <th></th>\n",
              "      <th>ID</th>\n",
              "      <th>symboling</th>\n",
              "      <th>model_name</th>\n",
              "      <th>fueltypes</th>\n",
              "      <th>aspiration</th>\n",
              "      <th>doornumbers</th>\n",
              "      <th>carbody</th>\n",
              "      <th>drivewheels</th>\n",
              "      <th>enginelocation</th>\n",
              "      <th>carheight</th>\n",
              "      <th>...</th>\n",
              "      <th>cylindernumber</th>\n",
              "      <th>enginesize</th>\n",
              "      <th>fuelsystem</th>\n",
              "      <th>boreratio</th>\n",
              "      <th>stroke</th>\n",
              "      <th>compressionratio</th>\n",
              "      <th>horsepower</th>\n",
              "      <th>peakrpm</th>\n",
              "      <th>citympg</th>\n",
              "      <th>price</th>\n",
              "    </tr>\n",
              "  </thead>\n",
              "  <tbody>\n",
              "    <tr>\n",
              "      <th>0</th>\n",
              "      <td>1</td>\n",
              "      <td>5</td>\n",
              "      <td>alfa-romero</td>\n",
              "      <td>1</td>\n",
              "      <td>0</td>\n",
              "      <td>1</td>\n",
              "      <td>convertible</td>\n",
              "      <td>rwd</td>\n",
              "      <td>0</td>\n",
              "      <td>0</td>\n",
              "      <td>...</td>\n",
              "      <td>1</td>\n",
              "      <td>18</td>\n",
              "      <td>mpfi</td>\n",
              "      <td>23</td>\n",
              "      <td>4</td>\n",
              "      <td>12</td>\n",
              "      <td>30</td>\n",
              "      <td>9</td>\n",
              "      <td>5</td>\n",
              "      <td>13495.0</td>\n",
              "    </tr>\n",
              "    <tr>\n",
              "      <th>1</th>\n",
              "      <td>2</td>\n",
              "      <td>5</td>\n",
              "      <td>alfa-romero</td>\n",
              "      <td>1</td>\n",
              "      <td>0</td>\n",
              "      <td>1</td>\n",
              "      <td>convertible</td>\n",
              "      <td>rwd</td>\n",
              "      <td>0</td>\n",
              "      <td>0</td>\n",
              "      <td>...</td>\n",
              "      <td>1</td>\n",
              "      <td>18</td>\n",
              "      <td>mpfi</td>\n",
              "      <td>23</td>\n",
              "      <td>4</td>\n",
              "      <td>12</td>\n",
              "      <td>30</td>\n",
              "      <td>9</td>\n",
              "      <td>5</td>\n",
              "      <td>16500.0</td>\n",
              "    </tr>\n",
              "    <tr>\n",
              "      <th>2</th>\n",
              "      <td>3</td>\n",
              "      <td>3</td>\n",
              "      <td>alfa-romero</td>\n",
              "      <td>1</td>\n",
              "      <td>0</td>\n",
              "      <td>1</td>\n",
              "      <td>hatchback</td>\n",
              "      <td>rwd</td>\n",
              "      <td>0</td>\n",
              "      <td>12</td>\n",
              "      <td>...</td>\n",
              "      <td>2</td>\n",
              "      <td>28</td>\n",
              "      <td>mpfi</td>\n",
              "      <td>1</td>\n",
              "      <td>25</td>\n",
              "      <td>12</td>\n",
              "      <td>45</td>\n",
              "      <td>9</td>\n",
              "      <td>3</td>\n",
              "      <td>16500.0</td>\n",
              "    </tr>\n",
              "    <tr>\n",
              "      <th>3</th>\n",
              "      <td>4</td>\n",
              "      <td>4</td>\n",
              "      <td>audi</td>\n",
              "      <td>1</td>\n",
              "      <td>0</td>\n",
              "      <td>0</td>\n",
              "      <td>sedan</td>\n",
              "      <td>fwd</td>\n",
              "      <td>0</td>\n",
              "      <td>24</td>\n",
              "      <td>...</td>\n",
              "      <td>1</td>\n",
              "      <td>11</td>\n",
              "      <td>mpfi</td>\n",
              "      <td>13</td>\n",
              "      <td>22</td>\n",
              "      <td>21</td>\n",
              "      <td>27</td>\n",
              "      <td>15</td>\n",
              "      <td>8</td>\n",
              "      <td>13950.0</td>\n",
              "    </tr>\n",
              "    <tr>\n",
              "      <th>4</th>\n",
              "      <td>5</td>\n",
              "      <td>4</td>\n",
              "      <td>audi</td>\n",
              "      <td>1</td>\n",
              "      <td>0</td>\n",
              "      <td>0</td>\n",
              "      <td>sedan</td>\n",
              "      <td>4wd</td>\n",
              "      <td>0</td>\n",
              "      <td>24</td>\n",
              "      <td>...</td>\n",
              "      <td>0</td>\n",
              "      <td>22</td>\n",
              "      <td>mpfi</td>\n",
              "      <td>13</td>\n",
              "      <td>22</td>\n",
              "      <td>5</td>\n",
              "      <td>33</td>\n",
              "      <td>15</td>\n",
              "      <td>2</td>\n",
              "      <td>17450.0</td>\n",
              "    </tr>\n",
              "  </tbody>\n",
              "</table>\n",
              "<p>5 rows × 22 columns</p>\n",
              "</div>"
            ],
            "text/plain": [
              "   ID  symboling   model_name  fueltypes  aspiration  doornumbers  \\\n",
              "0   1          5  alfa-romero          1           0            1   \n",
              "1   2          5  alfa-romero          1           0            1   \n",
              "2   3          3  alfa-romero          1           0            1   \n",
              "3   4          4         audi          1           0            0   \n",
              "4   5          4         audi          1           0            0   \n",
              "\n",
              "       carbody drivewheels  enginelocation  carheight  ...  cylindernumber  \\\n",
              "0  convertible         rwd               0          0  ...               1   \n",
              "1  convertible         rwd               0          0  ...               1   \n",
              "2    hatchback         rwd               0         12  ...               2   \n",
              "3        sedan         fwd               0         24  ...               1   \n",
              "4        sedan         4wd               0         24  ...               0   \n",
              "\n",
              "  enginesize  fuelsystem  boreratio stroke  compressionratio  horsepower  \\\n",
              "0         18        mpfi         23      4                12          30   \n",
              "1         18        mpfi         23      4                12          30   \n",
              "2         28        mpfi          1     25                12          45   \n",
              "3         11        mpfi         13     22                21          27   \n",
              "4         22        mpfi         13     22                 5          33   \n",
              "\n",
              "   peakrpm  citympg    price  \n",
              "0        9        5  13495.0  \n",
              "1        9        5  16500.0  \n",
              "2        9        3  16500.0  \n",
              "3       15        8  13950.0  \n",
              "4       15        2  17450.0  \n",
              "\n",
              "[5 rows x 22 columns]"
            ]
          },
          "execution_count": 50,
          "metadata": {},
          "output_type": "execute_result"
        }
      ],
      "source": [
        "le = LabelEncoder()\n",
        "\n",
        "for i in ordinal_labels:\n",
        "    car_price[i] = le.fit_transform(car_price[i])\n",
        "\n",
        "for i in binary_labels:\n",
        "    car_price[i] = le.fit_transform(car_price[i])\n",
        "    \n",
        "car_price.head()"
      ]
    },
    {
      "cell_type": "markdown",
      "id": "107daaa3-6ee9-43c2-83ba-a8ba67cb040e",
      "metadata": {},
      "source": [
        "We can see from the data sample above that the ordinal and binary variables have been converted into integers."
      ]
    },
    {
      "cell_type": "markdown",
      "id": "b9561439-cd64-4fd1-a1e4-8cbae6a4b111",
      "metadata": {},
      "source": [
        "#### Tranform the nominal values"
      ]
    },
    {
      "cell_type": "code",
      "execution_count": 51,
      "id": "6ba6da41-c295-4a20-94fd-41617db3ab41",
      "metadata": {
        "trusted": true
      },
      "outputs": [],
      "source": [
        "car_price = pd.get_dummies(data=car_price, columns=nominal_labels)"
      ]
    },
    {
      "cell_type": "code",
      "execution_count": 52,
      "id": "02c3f871-8805-48d7-b3b1-678320cc509d",
      "metadata": {
        "trusted": true
      },
      "outputs": [
        {
          "data": {
            "text/html": [
              "<div>\n",
              "<style scoped>\n",
              "    .dataframe tbody tr th:only-of-type {\n",
              "        vertical-align: middle;\n",
              "    }\n",
              "\n",
              "    .dataframe tbody tr th {\n",
              "        vertical-align: top;\n",
              "    }\n",
              "\n",
              "    .dataframe thead th {\n",
              "        text-align: right;\n",
              "    }\n",
              "</style>\n",
              "<table border=\"1\" class=\"dataframe\">\n",
              "  <thead>\n",
              "    <tr style=\"text-align: right;\">\n",
              "      <th></th>\n",
              "      <th>ID</th>\n",
              "      <th>symboling</th>\n",
              "      <th>fueltypes</th>\n",
              "      <th>aspiration</th>\n",
              "      <th>doornumbers</th>\n",
              "      <th>enginelocation</th>\n",
              "      <th>carheight</th>\n",
              "      <th>curbweight</th>\n",
              "      <th>cylindernumber</th>\n",
              "      <th>enginesize</th>\n",
              "      <th>...</th>\n",
              "      <th>model_name_nissan</th>\n",
              "      <th>model_name_peugeot</th>\n",
              "      <th>model_name_plymouth</th>\n",
              "      <th>model_name_porsche</th>\n",
              "      <th>model_name_renault</th>\n",
              "      <th>model_name_saab</th>\n",
              "      <th>model_name_subaru</th>\n",
              "      <th>model_name_toyota</th>\n",
              "      <th>model_name_volkswagen</th>\n",
              "      <th>model_name_volvo</th>\n",
              "    </tr>\n",
              "  </thead>\n",
              "  <tbody>\n",
              "    <tr>\n",
              "      <th>0</th>\n",
              "      <td>1</td>\n",
              "      <td>5</td>\n",
              "      <td>1</td>\n",
              "      <td>0</td>\n",
              "      <td>1</td>\n",
              "      <td>0</td>\n",
              "      <td>0</td>\n",
              "      <td>92</td>\n",
              "      <td>1</td>\n",
              "      <td>18</td>\n",
              "      <td>...</td>\n",
              "      <td>0</td>\n",
              "      <td>0</td>\n",
              "      <td>0</td>\n",
              "      <td>0</td>\n",
              "      <td>0</td>\n",
              "      <td>0</td>\n",
              "      <td>0</td>\n",
              "      <td>0</td>\n",
              "      <td>0</td>\n",
              "      <td>0</td>\n",
              "    </tr>\n",
              "    <tr>\n",
              "      <th>1</th>\n",
              "      <td>2</td>\n",
              "      <td>5</td>\n",
              "      <td>1</td>\n",
              "      <td>0</td>\n",
              "      <td>1</td>\n",
              "      <td>0</td>\n",
              "      <td>0</td>\n",
              "      <td>92</td>\n",
              "      <td>1</td>\n",
              "      <td>18</td>\n",
              "      <td>...</td>\n",
              "      <td>0</td>\n",
              "      <td>0</td>\n",
              "      <td>0</td>\n",
              "      <td>0</td>\n",
              "      <td>0</td>\n",
              "      <td>0</td>\n",
              "      <td>0</td>\n",
              "      <td>0</td>\n",
              "      <td>0</td>\n",
              "      <td>0</td>\n",
              "    </tr>\n",
              "    <tr>\n",
              "      <th>2</th>\n",
              "      <td>3</td>\n",
              "      <td>3</td>\n",
              "      <td>1</td>\n",
              "      <td>0</td>\n",
              "      <td>1</td>\n",
              "      <td>0</td>\n",
              "      <td>12</td>\n",
              "      <td>113</td>\n",
              "      <td>2</td>\n",
              "      <td>28</td>\n",
              "      <td>...</td>\n",
              "      <td>0</td>\n",
              "      <td>0</td>\n",
              "      <td>0</td>\n",
              "      <td>0</td>\n",
              "      <td>0</td>\n",
              "      <td>0</td>\n",
              "      <td>0</td>\n",
              "      <td>0</td>\n",
              "      <td>0</td>\n",
              "      <td>0</td>\n",
              "    </tr>\n",
              "    <tr>\n",
              "      <th>3</th>\n",
              "      <td>4</td>\n",
              "      <td>4</td>\n",
              "      <td>1</td>\n",
              "      <td>0</td>\n",
              "      <td>0</td>\n",
              "      <td>0</td>\n",
              "      <td>24</td>\n",
              "      <td>66</td>\n",
              "      <td>1</td>\n",
              "      <td>11</td>\n",
              "      <td>...</td>\n",
              "      <td>0</td>\n",
              "      <td>0</td>\n",
              "      <td>0</td>\n",
              "      <td>0</td>\n",
              "      <td>0</td>\n",
              "      <td>0</td>\n",
              "      <td>0</td>\n",
              "      <td>0</td>\n",
              "      <td>0</td>\n",
              "      <td>0</td>\n",
              "    </tr>\n",
              "    <tr>\n",
              "      <th>4</th>\n",
              "      <td>5</td>\n",
              "      <td>4</td>\n",
              "      <td>1</td>\n",
              "      <td>0</td>\n",
              "      <td>0</td>\n",
              "      <td>0</td>\n",
              "      <td>24</td>\n",
              "      <td>114</td>\n",
              "      <td>0</td>\n",
              "      <td>22</td>\n",
              "      <td>...</td>\n",
              "      <td>0</td>\n",
              "      <td>0</td>\n",
              "      <td>0</td>\n",
              "      <td>0</td>\n",
              "      <td>0</td>\n",
              "      <td>0</td>\n",
              "      <td>0</td>\n",
              "      <td>0</td>\n",
              "      <td>0</td>\n",
              "      <td>0</td>\n",
              "    </tr>\n",
              "  </tbody>\n",
              "</table>\n",
              "<p>5 rows × 60 columns</p>\n",
              "</div>"
            ],
            "text/plain": [
              "   ID  symboling  fueltypes  aspiration  doornumbers  enginelocation  \\\n",
              "0   1          5          1           0            1               0   \n",
              "1   2          5          1           0            1               0   \n",
              "2   3          3          1           0            1               0   \n",
              "3   4          4          1           0            0               0   \n",
              "4   5          4          1           0            0               0   \n",
              "\n",
              "   carheight  curbweight  cylindernumber  enginesize  ...  model_name_nissan  \\\n",
              "0          0          92               1          18  ...                  0   \n",
              "1          0          92               1          18  ...                  0   \n",
              "2         12         113               2          28  ...                  0   \n",
              "3         24          66               1          11  ...                  0   \n",
              "4         24         114               0          22  ...                  0   \n",
              "\n",
              "   model_name_peugeot  model_name_plymouth  model_name_porsche  \\\n",
              "0                   0                    0                   0   \n",
              "1                   0                    0                   0   \n",
              "2                   0                    0                   0   \n",
              "3                   0                    0                   0   \n",
              "4                   0                    0                   0   \n",
              "\n",
              "   model_name_renault  model_name_saab  model_name_subaru  model_name_toyota  \\\n",
              "0                   0                0                  0                  0   \n",
              "1                   0                0                  0                  0   \n",
              "2                   0                0                  0                  0   \n",
              "3                   0                0                  0                  0   \n",
              "4                   0                0                  0                  0   \n",
              "\n",
              "   model_name_volkswagen  model_name_volvo  \n",
              "0                      0                 0  \n",
              "1                      0                 0  \n",
              "2                      0                 0  \n",
              "3                      0                 0  \n",
              "4                      0                 0  \n",
              "\n",
              "[5 rows x 60 columns]"
            ]
          },
          "execution_count": 52,
          "metadata": {},
          "output_type": "execute_result"
        }
      ],
      "source": [
        "car_price.head()"
      ]
    },
    {
      "cell_type": "code",
      "execution_count": 53,
      "id": "d2fb6899-2c30-4320-b9ab-b3c3d3abfce8",
      "metadata": {
        "trusted": true
      },
      "outputs": [
        {
          "data": {
            "text/plain": [
              "ID                          int64\n",
              "symboling                   int32\n",
              "fueltypes                   int32\n",
              "aspiration                  int32\n",
              "doornumbers                 int32\n",
              "enginelocation              int32\n",
              "carheight                   int32\n",
              "curbweight                  int32\n",
              "cylindernumber              int32\n",
              "enginesize                  int32\n",
              "boreratio                   int32\n",
              "stroke                      int32\n",
              "compressionratio            int32\n",
              "horsepower                  int32\n",
              "peakrpm                     int32\n",
              "citympg                     int32\n",
              "price                     float64\n",
              "carbody_convertible         uint8\n",
              "carbody_hardtop             uint8\n",
              "carbody_hatchback           uint8\n",
              "carbody_sedan               uint8\n",
              "carbody_wagon               uint8\n",
              "drivewheels_4wd             uint8\n",
              "drivewheels_fwd             uint8\n",
              "drivewheels_rwd             uint8\n",
              "enginetype_dohc             uint8\n",
              "enginetype_l                uint8\n",
              "enginetype_ohc              uint8\n",
              "enginetype_ohcf             uint8\n",
              "enginetype_ohcv             uint8\n",
              "enginetype_rotor            uint8\n",
              "fuelsystem_1bbl             uint8\n",
              "fuelsystem_2bbl             uint8\n",
              "fuelsystem_4bbl             uint8\n",
              "fuelsystem_idi              uint8\n",
              "fuelsystem_mfi              uint8\n",
              "fuelsystem_mpfi             uint8\n",
              "fuelsystem_spdi             uint8\n",
              "fuelsystem_spfi             uint8\n",
              "model_name_alfa-romero      uint8\n",
              "model_name_audi             uint8\n",
              "model_name_bmw              uint8\n",
              "model_name_buick            uint8\n",
              "model_name_chevrolet        uint8\n",
              "model_name_dodge            uint8\n",
              "model_name_honda            uint8\n",
              "model_name_isuzu            uint8\n",
              "model_name_mazda            uint8\n",
              "model_name_mercury          uint8\n",
              "model_name_mitsubishi       uint8\n",
              "model_name_nissan           uint8\n",
              "model_name_peugeot          uint8\n",
              "model_name_plymouth         uint8\n",
              "model_name_porsche          uint8\n",
              "model_name_renault          uint8\n",
              "model_name_saab             uint8\n",
              "model_name_subaru           uint8\n",
              "model_name_toyota           uint8\n",
              "model_name_volkswagen       uint8\n",
              "model_name_volvo            uint8\n",
              "dtype: object"
            ]
          },
          "execution_count": 53,
          "metadata": {},
          "output_type": "execute_result"
        }
      ],
      "source": [
        "car_price.dtypes"
      ]
    },
    {
      "cell_type": "markdown",
      "id": "01886ec5-e9b8-4b5e-98b3-96f78c71720b",
      "metadata": {},
      "source": [
        "Now, our dataset is ready for the next phase."
      ]
    },
    {
      "cell_type": "markdown",
      "id": "6cd2dfdf",
      "metadata": {},
      "source": [
        "### 3. Model Implementation and 4. evaluation"
      ]
    },
    {
      "cell_type": "markdown",
      "id": "8c7b7036-0933-4a6e-aa00-40ad803b33af",
      "metadata": {},
      "source": [
        "#### Feature selection and split the dataset"
      ]
    },
    {
      "cell_type": "markdown",
      "id": "a2e1d550-c982-479d-bba0-8b26b71de322",
      "metadata": {},
      "source": [
        "We will choose 80/20 for our data split."
      ]
    },
    {
      "cell_type": "code",
      "execution_count": 91,
      "id": "e77e2bed-72dd-450e-aed9-bc32f937428a",
      "metadata": {
        "trusted": true
      },
      "outputs": [],
      "source": [
        "# Feature selection \n",
        "y = car_price['price']\n",
        "X = car_price.drop(['price'],axis=1)\n",
        "\n",
        "# Splitting the dataset\n",
        "X_train, X_test, y_train, y_test = train_test_split(X, y, test_size=0.2, random_state=42)"
      ]
    },
    {
      "cell_type": "markdown",
      "id": "830678c4-872d-46dd-a640-5144f25b56ea",
      "metadata": {},
      "source": [
        "#### 3.1. Linear Regression"
      ]
    },
    {
      "cell_type": "markdown",
      "id": "0abdae41-36d6-470e-96a6-84db268e2a82",
      "metadata": {},
      "source": [
        "#### Create and train the model"
      ]
    },
    {
      "cell_type": "code",
      "execution_count": 76,
      "id": "2fe24538-2fd1-451f-9ddf-98f813fa3dca",
      "metadata": {
        "trusted": true
      },
      "outputs": [
        {
          "data": {
            "text/html": [
              "<style>#sk-container-id-12 {color: black;}#sk-container-id-12 pre{padding: 0;}#sk-container-id-12 div.sk-toggleable {background-color: white;}#sk-container-id-12 label.sk-toggleable__label {cursor: pointer;display: block;width: 100%;margin-bottom: 0;padding: 0.3em;box-sizing: border-box;text-align: center;}#sk-container-id-12 label.sk-toggleable__label-arrow:before {content: \"▸\";float: left;margin-right: 0.25em;color: #696969;}#sk-container-id-12 label.sk-toggleable__label-arrow:hover:before {color: black;}#sk-container-id-12 div.sk-estimator:hover label.sk-toggleable__label-arrow:before {color: black;}#sk-container-id-12 div.sk-toggleable__content {max-height: 0;max-width: 0;overflow: hidden;text-align: left;background-color: #f0f8ff;}#sk-container-id-12 div.sk-toggleable__content pre {margin: 0.2em;color: black;border-radius: 0.25em;background-color: #f0f8ff;}#sk-container-id-12 input.sk-toggleable__control:checked~div.sk-toggleable__content {max-height: 200px;max-width: 100%;overflow: auto;}#sk-container-id-12 input.sk-toggleable__control:checked~label.sk-toggleable__label-arrow:before {content: \"▾\";}#sk-container-id-12 div.sk-estimator input.sk-toggleable__control:checked~label.sk-toggleable__label {background-color: #d4ebff;}#sk-container-id-12 div.sk-label input.sk-toggleable__control:checked~label.sk-toggleable__label {background-color: #d4ebff;}#sk-container-id-12 input.sk-hidden--visually {border: 0;clip: rect(1px 1px 1px 1px);clip: rect(1px, 1px, 1px, 1px);height: 1px;margin: -1px;overflow: hidden;padding: 0;position: absolute;width: 1px;}#sk-container-id-12 div.sk-estimator {font-family: monospace;background-color: #f0f8ff;border: 1px dotted black;border-radius: 0.25em;box-sizing: border-box;margin-bottom: 0.5em;}#sk-container-id-12 div.sk-estimator:hover {background-color: #d4ebff;}#sk-container-id-12 div.sk-parallel-item::after {content: \"\";width: 100%;border-bottom: 1px solid gray;flex-grow: 1;}#sk-container-id-12 div.sk-label:hover label.sk-toggleable__label {background-color: #d4ebff;}#sk-container-id-12 div.sk-serial::before {content: \"\";position: absolute;border-left: 1px solid gray;box-sizing: border-box;top: 0;bottom: 0;left: 50%;z-index: 0;}#sk-container-id-12 div.sk-serial {display: flex;flex-direction: column;align-items: center;background-color: white;padding-right: 0.2em;padding-left: 0.2em;position: relative;}#sk-container-id-12 div.sk-item {position: relative;z-index: 1;}#sk-container-id-12 div.sk-parallel {display: flex;align-items: stretch;justify-content: center;background-color: white;position: relative;}#sk-container-id-12 div.sk-item::before, #sk-container-id-12 div.sk-parallel-item::before {content: \"\";position: absolute;border-left: 1px solid gray;box-sizing: border-box;top: 0;bottom: 0;left: 50%;z-index: -1;}#sk-container-id-12 div.sk-parallel-item {display: flex;flex-direction: column;z-index: 1;position: relative;background-color: white;}#sk-container-id-12 div.sk-parallel-item:first-child::after {align-self: flex-end;width: 50%;}#sk-container-id-12 div.sk-parallel-item:last-child::after {align-self: flex-start;width: 50%;}#sk-container-id-12 div.sk-parallel-item:only-child::after {width: 0;}#sk-container-id-12 div.sk-dashed-wrapped {border: 1px dashed gray;margin: 0 0.4em 0.5em 0.4em;box-sizing: border-box;padding-bottom: 0.4em;background-color: white;}#sk-container-id-12 div.sk-label label {font-family: monospace;font-weight: bold;display: inline-block;line-height: 1.2em;}#sk-container-id-12 div.sk-label-container {text-align: center;}#sk-container-id-12 div.sk-container {/* jupyter's `normalize.less` sets `[hidden] { display: none; }` but bootstrap.min.css set `[hidden] { display: none !important; }` so we also need the `!important` here to be able to override the default hidden behavior on the sphinx rendered scikit-learn.org. See: https://github.com/scikit-learn/scikit-learn/issues/21755 */display: inline-block !important;position: relative;}#sk-container-id-12 div.sk-text-repr-fallback {display: none;}</style><div id=\"sk-container-id-12\" class=\"sk-top-container\"><div class=\"sk-text-repr-fallback\"><pre>LinearRegression()</pre><b>In a Jupyter environment, please rerun this cell to show the HTML representation or trust the notebook. <br />On GitHub, the HTML representation is unable to render, please try loading this page with nbviewer.org.</b></div><div class=\"sk-container\" hidden><div class=\"sk-item\"><div class=\"sk-estimator sk-toggleable\"><input class=\"sk-toggleable__control sk-hidden--visually\" id=\"sk-estimator-id-12\" type=\"checkbox\" checked><label for=\"sk-estimator-id-12\" class=\"sk-toggleable__label sk-toggleable__label-arrow\">LinearRegression</label><div class=\"sk-toggleable__content\"><pre>LinearRegression()</pre></div></div></div></div></div>"
            ],
            "text/plain": [
              "LinearRegression()"
            ]
          },
          "execution_count": 76,
          "metadata": {},
          "output_type": "execute_result"
        }
      ],
      "source": [
        "lr_model = LinearRegression()\n",
        "lr_model.fit(X_train, y_train)"
      ]
    },
    {
      "cell_type": "markdown",
      "id": "19c912df-245f-4162-bac7-25bf41b06685",
      "metadata": {},
      "source": [
        "#### Model evaluation"
      ]
    },
    {
      "cell_type": "code",
      "execution_count": 77,
      "id": "d64f1db4-b3c9-4ed7-91c1-8a610d33536d",
      "metadata": {
        "trusted": true
      },
      "outputs": [
        {
          "name": "stdout",
          "output_type": "stream",
          "text": [
            "Mean Absolute Error: 996.57\n",
            "R-squared: 0.89\n"
          ]
        }
      ],
      "source": [
        "y_pred = lr_model.predict(X_test)\n",
        "mae_lr = mean_absolute_error(y_test, y_pred)\n",
        "r2_lr = r2_score(y_test, y_pred)\n",
        "\n",
        "print(f\"Mean Absolute Error: {mae_lr:.2f}\")\n",
        "print(f\"R-squared: {r2_lr:.2f}\")"
      ]
    },
    {
      "cell_type": "markdown",
      "id": "48eb7229-235c-49bc-8b1a-32c454da63e6",
      "metadata": {},
      "source": [
        "The mean absolute error of 996.57 means that the predictions are of by by around 996.57$ assuming that the car price is in dollars.\n",
        "\n",
        "The R-squared value of 0.89 is closer to 1 than 0, which suggest a good fit."
      ]
    },
    {
      "cell_type": "markdown",
      "id": "91078afb-fb6e-4e1a-a7eb-ed3fca15791d",
      "metadata": {},
      "source": [
        "#### 3.2. Random Forest"
      ]
    },
    {
      "cell_type": "code",
      "execution_count": 88,
      "id": "c4721f73-13a9-4776-9c85-059456031209",
      "metadata": {
        "trusted": true
      },
      "outputs": [
        {
          "data": {
            "text/html": [
              "<style>#sk-container-id-16 {color: black;}#sk-container-id-16 pre{padding: 0;}#sk-container-id-16 div.sk-toggleable {background-color: white;}#sk-container-id-16 label.sk-toggleable__label {cursor: pointer;display: block;width: 100%;margin-bottom: 0;padding: 0.3em;box-sizing: border-box;text-align: center;}#sk-container-id-16 label.sk-toggleable__label-arrow:before {content: \"▸\";float: left;margin-right: 0.25em;color: #696969;}#sk-container-id-16 label.sk-toggleable__label-arrow:hover:before {color: black;}#sk-container-id-16 div.sk-estimator:hover label.sk-toggleable__label-arrow:before {color: black;}#sk-container-id-16 div.sk-toggleable__content {max-height: 0;max-width: 0;overflow: hidden;text-align: left;background-color: #f0f8ff;}#sk-container-id-16 div.sk-toggleable__content pre {margin: 0.2em;color: black;border-radius: 0.25em;background-color: #f0f8ff;}#sk-container-id-16 input.sk-toggleable__control:checked~div.sk-toggleable__content {max-height: 200px;max-width: 100%;overflow: auto;}#sk-container-id-16 input.sk-toggleable__control:checked~label.sk-toggleable__label-arrow:before {content: \"▾\";}#sk-container-id-16 div.sk-estimator input.sk-toggleable__control:checked~label.sk-toggleable__label {background-color: #d4ebff;}#sk-container-id-16 div.sk-label input.sk-toggleable__control:checked~label.sk-toggleable__label {background-color: #d4ebff;}#sk-container-id-16 input.sk-hidden--visually {border: 0;clip: rect(1px 1px 1px 1px);clip: rect(1px, 1px, 1px, 1px);height: 1px;margin: -1px;overflow: hidden;padding: 0;position: absolute;width: 1px;}#sk-container-id-16 div.sk-estimator {font-family: monospace;background-color: #f0f8ff;border: 1px dotted black;border-radius: 0.25em;box-sizing: border-box;margin-bottom: 0.5em;}#sk-container-id-16 div.sk-estimator:hover {background-color: #d4ebff;}#sk-container-id-16 div.sk-parallel-item::after {content: \"\";width: 100%;border-bottom: 1px solid gray;flex-grow: 1;}#sk-container-id-16 div.sk-label:hover label.sk-toggleable__label {background-color: #d4ebff;}#sk-container-id-16 div.sk-serial::before {content: \"\";position: absolute;border-left: 1px solid gray;box-sizing: border-box;top: 0;bottom: 0;left: 50%;z-index: 0;}#sk-container-id-16 div.sk-serial {display: flex;flex-direction: column;align-items: center;background-color: white;padding-right: 0.2em;padding-left: 0.2em;position: relative;}#sk-container-id-16 div.sk-item {position: relative;z-index: 1;}#sk-container-id-16 div.sk-parallel {display: flex;align-items: stretch;justify-content: center;background-color: white;position: relative;}#sk-container-id-16 div.sk-item::before, #sk-container-id-16 div.sk-parallel-item::before {content: \"\";position: absolute;border-left: 1px solid gray;box-sizing: border-box;top: 0;bottom: 0;left: 50%;z-index: -1;}#sk-container-id-16 div.sk-parallel-item {display: flex;flex-direction: column;z-index: 1;position: relative;background-color: white;}#sk-container-id-16 div.sk-parallel-item:first-child::after {align-self: flex-end;width: 50%;}#sk-container-id-16 div.sk-parallel-item:last-child::after {align-self: flex-start;width: 50%;}#sk-container-id-16 div.sk-parallel-item:only-child::after {width: 0;}#sk-container-id-16 div.sk-dashed-wrapped {border: 1px dashed gray;margin: 0 0.4em 0.5em 0.4em;box-sizing: border-box;padding-bottom: 0.4em;background-color: white;}#sk-container-id-16 div.sk-label label {font-family: monospace;font-weight: bold;display: inline-block;line-height: 1.2em;}#sk-container-id-16 div.sk-label-container {text-align: center;}#sk-container-id-16 div.sk-container {/* jupyter's `normalize.less` sets `[hidden] { display: none; }` but bootstrap.min.css set `[hidden] { display: none !important; }` so we also need the `!important` here to be able to override the default hidden behavior on the sphinx rendered scikit-learn.org. See: https://github.com/scikit-learn/scikit-learn/issues/21755 */display: inline-block !important;position: relative;}#sk-container-id-16 div.sk-text-repr-fallback {display: none;}</style><div id=\"sk-container-id-16\" class=\"sk-top-container\"><div class=\"sk-text-repr-fallback\"><pre>RandomForestRegressor()</pre><b>In a Jupyter environment, please rerun this cell to show the HTML representation or trust the notebook. <br />On GitHub, the HTML representation is unable to render, please try loading this page with nbviewer.org.</b></div><div class=\"sk-container\" hidden><div class=\"sk-item\"><div class=\"sk-estimator sk-toggleable\"><input class=\"sk-toggleable__control sk-hidden--visually\" id=\"sk-estimator-id-16\" type=\"checkbox\" checked><label for=\"sk-estimator-id-16\" class=\"sk-toggleable__label sk-toggleable__label-arrow\">RandomForestRegressor</label><div class=\"sk-toggleable__content\"><pre>RandomForestRegressor()</pre></div></div></div></div></div>"
            ],
            "text/plain": [
              "RandomForestRegressor()"
            ]
          },
          "execution_count": 88,
          "metadata": {},
          "output_type": "execute_result"
        }
      ],
      "source": [
        "rdf_model = RandomForestRegressor()\n",
        "rdf_model.fit(X_train, y_train)"
      ]
    },
    {
      "cell_type": "markdown",
      "id": "8dc71f76-30db-4094-afd1-66d8af410344",
      "metadata": {},
      "source": [
        "#### Model evaluation"
      ]
    },
    {
      "cell_type": "code",
      "execution_count": 90,
      "id": "1b832782-17fc-4ab1-8cf7-99ce3357597e",
      "metadata": {
        "trusted": true
      },
      "outputs": [
        {
          "name": "stdout",
          "output_type": "stream",
          "text": [
            "Mean Absolute Error: 817.54\n",
            "R-squared: 0.92\n"
          ]
        }
      ],
      "source": [
        "y_pred = rdf_model.predict(X_test)\n",
        "mae_rdf = mean_absolute_error(y_test, y_pred)\n",
        "r2_rdf = r2_score(y_test, y_pred)\n",
        "\n",
        "print(f\"Mean Absolute Error: {mae_rdf:.2f}\")\n",
        "print(f\"R-squared: {r2_rdf:.2f}\")"
      ]
    },
    {
      "cell_type": "markdown",
      "id": "521325fd-ed3a-4f0a-91df-37f8cbb46ca7",
      "metadata": {},
      "source": [
        "We have a smaller MAE of 817.54 and a higher R-squared of 0.92. \n",
        "\n",
        "The Random Forest model appears to be better than the Linear Regression model."
      ]
    },
    {
      "cell_type": "markdown",
      "id": "fd9fdccd-f431-42f5-ba5e-ec52f03944ff",
      "metadata": {},
      "source": [
        "#### 3.3. GradientBoostingRegressor"
      ]
    },
    {
      "cell_type": "code",
      "execution_count": 92,
      "id": "f9446da1-6529-4666-b78f-6a49e36757fb",
      "metadata": {
        "trusted": true
      },
      "outputs": [
        {
          "data": {
            "text/html": [
              "<style>#sk-container-id-17 {color: black;}#sk-container-id-17 pre{padding: 0;}#sk-container-id-17 div.sk-toggleable {background-color: white;}#sk-container-id-17 label.sk-toggleable__label {cursor: pointer;display: block;width: 100%;margin-bottom: 0;padding: 0.3em;box-sizing: border-box;text-align: center;}#sk-container-id-17 label.sk-toggleable__label-arrow:before {content: \"▸\";float: left;margin-right: 0.25em;color: #696969;}#sk-container-id-17 label.sk-toggleable__label-arrow:hover:before {color: black;}#sk-container-id-17 div.sk-estimator:hover label.sk-toggleable__label-arrow:before {color: black;}#sk-container-id-17 div.sk-toggleable__content {max-height: 0;max-width: 0;overflow: hidden;text-align: left;background-color: #f0f8ff;}#sk-container-id-17 div.sk-toggleable__content pre {margin: 0.2em;color: black;border-radius: 0.25em;background-color: #f0f8ff;}#sk-container-id-17 input.sk-toggleable__control:checked~div.sk-toggleable__content {max-height: 200px;max-width: 100%;overflow: auto;}#sk-container-id-17 input.sk-toggleable__control:checked~label.sk-toggleable__label-arrow:before {content: \"▾\";}#sk-container-id-17 div.sk-estimator input.sk-toggleable__control:checked~label.sk-toggleable__label {background-color: #d4ebff;}#sk-container-id-17 div.sk-label input.sk-toggleable__control:checked~label.sk-toggleable__label {background-color: #d4ebff;}#sk-container-id-17 input.sk-hidden--visually {border: 0;clip: rect(1px 1px 1px 1px);clip: rect(1px, 1px, 1px, 1px);height: 1px;margin: -1px;overflow: hidden;padding: 0;position: absolute;width: 1px;}#sk-container-id-17 div.sk-estimator {font-family: monospace;background-color: #f0f8ff;border: 1px dotted black;border-radius: 0.25em;box-sizing: border-box;margin-bottom: 0.5em;}#sk-container-id-17 div.sk-estimator:hover {background-color: #d4ebff;}#sk-container-id-17 div.sk-parallel-item::after {content: \"\";width: 100%;border-bottom: 1px solid gray;flex-grow: 1;}#sk-container-id-17 div.sk-label:hover label.sk-toggleable__label {background-color: #d4ebff;}#sk-container-id-17 div.sk-serial::before {content: \"\";position: absolute;border-left: 1px solid gray;box-sizing: border-box;top: 0;bottom: 0;left: 50%;z-index: 0;}#sk-container-id-17 div.sk-serial {display: flex;flex-direction: column;align-items: center;background-color: white;padding-right: 0.2em;padding-left: 0.2em;position: relative;}#sk-container-id-17 div.sk-item {position: relative;z-index: 1;}#sk-container-id-17 div.sk-parallel {display: flex;align-items: stretch;justify-content: center;background-color: white;position: relative;}#sk-container-id-17 div.sk-item::before, #sk-container-id-17 div.sk-parallel-item::before {content: \"\";position: absolute;border-left: 1px solid gray;box-sizing: border-box;top: 0;bottom: 0;left: 50%;z-index: -1;}#sk-container-id-17 div.sk-parallel-item {display: flex;flex-direction: column;z-index: 1;position: relative;background-color: white;}#sk-container-id-17 div.sk-parallel-item:first-child::after {align-self: flex-end;width: 50%;}#sk-container-id-17 div.sk-parallel-item:last-child::after {align-self: flex-start;width: 50%;}#sk-container-id-17 div.sk-parallel-item:only-child::after {width: 0;}#sk-container-id-17 div.sk-dashed-wrapped {border: 1px dashed gray;margin: 0 0.4em 0.5em 0.4em;box-sizing: border-box;padding-bottom: 0.4em;background-color: white;}#sk-container-id-17 div.sk-label label {font-family: monospace;font-weight: bold;display: inline-block;line-height: 1.2em;}#sk-container-id-17 div.sk-label-container {text-align: center;}#sk-container-id-17 div.sk-container {/* jupyter's `normalize.less` sets `[hidden] { display: none; }` but bootstrap.min.css set `[hidden] { display: none !important; }` so we also need the `!important` here to be able to override the default hidden behavior on the sphinx rendered scikit-learn.org. See: https://github.com/scikit-learn/scikit-learn/issues/21755 */display: inline-block !important;position: relative;}#sk-container-id-17 div.sk-text-repr-fallback {display: none;}</style><div id=\"sk-container-id-17\" class=\"sk-top-container\"><div class=\"sk-text-repr-fallback\"><pre>GradientBoostingRegressor()</pre><b>In a Jupyter environment, please rerun this cell to show the HTML representation or trust the notebook. <br />On GitHub, the HTML representation is unable to render, please try loading this page with nbviewer.org.</b></div><div class=\"sk-container\" hidden><div class=\"sk-item\"><div class=\"sk-estimator sk-toggleable\"><input class=\"sk-toggleable__control sk-hidden--visually\" id=\"sk-estimator-id-17\" type=\"checkbox\" checked><label for=\"sk-estimator-id-17\" class=\"sk-toggleable__label sk-toggleable__label-arrow\">GradientBoostingRegressor</label><div class=\"sk-toggleable__content\"><pre>GradientBoostingRegressor()</pre></div></div></div></div></div>"
            ],
            "text/plain": [
              "GradientBoostingRegressor()"
            ]
          },
          "execution_count": 92,
          "metadata": {},
          "output_type": "execute_result"
        }
      ],
      "source": [
        "gbr_model = GradientBoostingRegressor()\n",
        "gbr_model.fit(X_train, y_train)"
      ]
    },
    {
      "cell_type": "markdown",
      "id": "5c263e79-3295-4d0b-904a-e7d3c8ecfeb4",
      "metadata": {},
      "source": [
        "#### Model evaluation"
      ]
    },
    {
      "cell_type": "code",
      "execution_count": 93,
      "id": "1562e0f3-0df1-4861-b24c-c16cb860fca1",
      "metadata": {
        "trusted": true
      },
      "outputs": [
        {
          "name": "stdout",
          "output_type": "stream",
          "text": [
            "Mean Absolute Error: 859.24\n",
            "R-squared: 0.91\n"
          ]
        }
      ],
      "source": [
        "y_pred = gbr_model.predict(X_test)\n",
        "mae_gb = mean_absolute_error(y_test, y_pred)\n",
        "r2_gb = r2_score(y_test, y_pred)\n",
        "\n",
        "print(f\"Mean Absolute Error: {mae_gb:.2f}\")\n",
        "print(f\"R-squared: {r2_gb:.2f}\")"
      ]
    },
    {
      "cell_type": "markdown",
      "id": "e121e184-d362-4a78-aa09-ff3507cc1492",
      "metadata": {},
      "source": [
        "We have an MAE of around 859.24 and an R-Squared of 0.91. This model seems to fit better than the Linear Regression but perform less better than the Random Forest Regression."
      ]
    },
    {
      "cell_type": "markdown",
      "id": "ab668fc7",
      "metadata": {},
      "source": [
        "### 5. Results Interpretation"
      ]
    },
    {
      "cell_type": "markdown",
      "id": "71401009-4257-4e70-b952-77bde027462a",
      "metadata": {},
      "source": [
        "From the results above, we can see that the 3 models perform reasonably well on the car_price dataset.\n",
        "* The Random Forest Regressor has the highest R-square of 0.92 and the lowest MAE of 817.54. This suggest that it has the best performance among the three models.\n",
        "* The Linear Regression model has an R-square value of 0.89 and an MAE of 996.57. Even if it is not performing as well as well as the Random Forest model, it still explains a significant amount of the variance in the target variable.\n",
        "* The performance of the Gradient Boosting Regressor falls  between the two models with an R-squared value of 0.91 and an MAE of 859.24."
      ]
    },
    {
      "cell_type": "markdown",
      "id": "50e1f354-3fba-4d88-a3ac-9f5171387729",
      "metadata": {},
      "source": [
        "### Visualize the findings"
      ]
    },
    {
      "cell_type": "markdown",
      "id": "b64c5fa4-f9e7-4054-9189-bc2014a38559",
      "metadata": {},
      "source": [
        "We will create bar plots to visually compare the metrics received from the previous trained models."
      ]
    },
    {
      "cell_type": "code",
      "execution_count": 94,
      "id": "be4cd10d-4129-44db-9e8b-b02cd7a3f754",
      "metadata": {
        "trusted": true
      },
      "outputs": [],
      "source": [
        "reg_models = ['Linear Regression', 'Random Forest', 'Gradient Boosting']\n",
        "mae_list = [mae_lr, mae_rdf, mae_gb]\n",
        "r2_list = [r2_lr, r2_rdf, r2_gb]"
      ]
    },
    {
      "cell_type": "code",
      "execution_count": 102,
      "id": "b26eaa20-6bcf-4052-9188-61299c2223ad",
      "metadata": {
        "trusted": true
      },
      "outputs": [
        {
          "data": {
            "image/png": "[encoded data removed]",
            "text/plain": [
              "<Figure size 640x480 with 2 Axes>"
            ]
          },
          "metadata": {},
          "output_type": "display_data"
        }
      ],
      "source": [
        "fig, axs = pyplot.subplots(nrows=2)\n",
        "sn.barplot(x=reg_models, y=mae_list, ax=axs[0])\n",
        "axs[0].set_title('Mean Absolute Error Comparison')\n",
        "axs[0].set_ylabel('MAE')\n",
        "\n",
        "sn.barplot(x=reg_models, y=r2_list, ax=axs[1])\n",
        "axs[1].set_title('R-squared Comparison')\n",
        "axs[1].set_ylabel('R-squared')\n",
        "\n",
        "pyplot.tight_layout()\n",
        "pyplot.show()"
      ]
    },
    {
      "cell_type": "markdown",
      "id": "e5fde348-a9a7-4dec-831b-d8942164292c",
      "metadata": {},
      "source": [
        "As we have confirmed earlier, the random forest model has the highest R-squared and the lowest MAE, which suggests the best performance. Performance-wise, the model is followed by gradient boosting, then lastly linear regression."
      ]
    },
    {
      "cell_type": "markdown",
      "id": "771c376a-7767-41ad-b1a8-9b83d0d923d9",
      "metadata": {},
      "source": [
        "## B) Classification"
      ]
    },
    {
      "cell_type": "markdown",
      "id": "a5eacd22",
      "metadata": {},
      "source": [
        "### 1. Dataset Selection and Objective Definition"
      ]
    },
    {
      "cell_type": "markdown",
      "id": "c117d88a",
      "metadata": {},
      "source": [
        "For this project, we will choose a dataset from [Kaggle](https://www.kaggle.com/datasets/aravindpcoder/obesity-or-cvd-risk-classifyregressorcluster) which estimate the obesity level of an individual while considering factors such as their country of origin, age, eating habits and physical condition. Getting insights from this dataset may allow to predit obesity in an individual and allow for targeted interventions and healthcare management strategies.\n"
      ]
    },
    {
      "cell_type": "code",
      "execution_count": 141,
      "id": "b94e2080",
      "metadata": {
        "trusted": true
      },
      "outputs": [
        {
          "data": {
            "text/html": [
              "<div>\n",
              "<style scoped>\n",
              "    .dataframe tbody tr th:only-of-type {\n",
              "        vertical-align: middle;\n",
              "    }\n",
              "\n",
              "    .dataframe tbody tr th {\n",
              "        vertical-align: top;\n",
              "    }\n",
              "\n",
              "    .dataframe thead th {\n",
              "        text-align: right;\n",
              "    }\n",
              "</style>\n",
              "<table border=\"1\" class=\"dataframe\">\n",
              "  <thead>\n",
              "    <tr style=\"text-align: right;\">\n",
              "      <th></th>\n",
              "      <th>Gender</th>\n",
              "      <th>Age</th>\n",
              "      <th>Height</th>\n",
              "      <th>Weight</th>\n",
              "      <th>family_history_with_overweight</th>\n",
              "      <th>FAVC</th>\n",
              "      <th>FCVC</th>\n",
              "      <th>NCP</th>\n",
              "      <th>CAEC</th>\n",
              "      <th>SMOKE</th>\n",
              "      <th>CH2O</th>\n",
              "      <th>SCC</th>\n",
              "      <th>FAF</th>\n",
              "      <th>TUE</th>\n",
              "      <th>CALC</th>\n",
              "      <th>MTRANS</th>\n",
              "      <th>NObeyesdad</th>\n",
              "    </tr>\n",
              "  </thead>\n",
              "  <tbody>\n",
              "    <tr>\n",
              "      <th>0</th>\n",
              "      <td>Female</td>\n",
              "      <td>21.000000</td>\n",
              "      <td>1.620000</td>\n",
              "      <td>64.000000</td>\n",
              "      <td>yes</td>\n",
              "      <td>no</td>\n",
              "      <td>2.0</td>\n",
              "      <td>3.0</td>\n",
              "      <td>Sometimes</td>\n",
              "      <td>no</td>\n",
              "      <td>2.000000</td>\n",
              "      <td>no</td>\n",
              "      <td>0.000000</td>\n",
              "      <td>1.000000</td>\n",
              "      <td>no</td>\n",
              "      <td>Public_Transportation</td>\n",
              "      <td>Normal_Weight</td>\n",
              "    </tr>\n",
              "    <tr>\n",
              "      <th>1</th>\n",
              "      <td>Female</td>\n",
              "      <td>21.000000</td>\n",
              "      <td>1.520000</td>\n",
              "      <td>56.000000</td>\n",
              "      <td>yes</td>\n",
              "      <td>no</td>\n",
              "      <td>3.0</td>\n",
              "      <td>3.0</td>\n",
              "      <td>Sometimes</td>\n",
              "      <td>yes</td>\n",
              "      <td>3.000000</td>\n",
              "      <td>yes</td>\n",
              "      <td>3.000000</td>\n",
              "      <td>0.000000</td>\n",
              "      <td>Sometimes</td>\n",
              "      <td>Public_Transportation</td>\n",
              "      <td>Normal_Weight</td>\n",
              "    </tr>\n",
              "    <tr>\n",
              "      <th>2</th>\n",
              "      <td>Male</td>\n",
              "      <td>23.000000</td>\n",
              "      <td>1.800000</td>\n",
              "      <td>77.000000</td>\n",
              "      <td>yes</td>\n",
              "      <td>no</td>\n",
              "      <td>2.0</td>\n",
              "      <td>3.0</td>\n",
              "      <td>Sometimes</td>\n",
              "      <td>no</td>\n",
              "      <td>2.000000</td>\n",
              "      <td>no</td>\n",
              "      <td>2.000000</td>\n",
              "      <td>1.000000</td>\n",
              "      <td>Frequently</td>\n",
              "      <td>Public_Transportation</td>\n",
              "      <td>Normal_Weight</td>\n",
              "    </tr>\n",
              "    <tr>\n",
              "      <th>3</th>\n",
              "      <td>Male</td>\n",
              "      <td>27.000000</td>\n",
              "      <td>1.800000</td>\n",
              "      <td>87.000000</td>\n",
              "      <td>no</td>\n",
              "      <td>no</td>\n",
              "      <td>3.0</td>\n",
              "      <td>3.0</td>\n",
              "      <td>Sometimes</td>\n",
              "      <td>no</td>\n",
              "      <td>2.000000</td>\n",
              "      <td>no</td>\n",
              "      <td>2.000000</td>\n",
              "      <td>0.000000</td>\n",
              "      <td>Frequently</td>\n",
              "      <td>Walking</td>\n",
              "      <td>Overweight_Level_I</td>\n",
              "    </tr>\n",
              "    <tr>\n",
              "      <th>4</th>\n",
              "      <td>Male</td>\n",
              "      <td>22.000000</td>\n",
              "      <td>1.780000</td>\n",
              "      <td>89.800000</td>\n",
              "      <td>no</td>\n",
              "      <td>no</td>\n",
              "      <td>2.0</td>\n",
              "      <td>1.0</td>\n",
              "      <td>Sometimes</td>\n",
              "      <td>no</td>\n",
              "      <td>2.000000</td>\n",
              "      <td>no</td>\n",
              "      <td>0.000000</td>\n",
              "      <td>0.000000</td>\n",
              "      <td>Sometimes</td>\n",
              "      <td>Public_Transportation</td>\n",
              "      <td>Overweight_Level_II</td>\n",
              "    </tr>\n",
              "    <tr>\n",
              "      <th>...</th>\n",
              "      <td>...</td>\n",
              "      <td>...</td>\n",
              "      <td>...</td>\n",
              "      <td>...</td>\n",
              "      <td>...</td>\n",
              "      <td>...</td>\n",
              "      <td>...</td>\n",
              "      <td>...</td>\n",
              "      <td>...</td>\n",
              "      <td>...</td>\n",
              "      <td>...</td>\n",
              "      <td>...</td>\n",
              "      <td>...</td>\n",
              "      <td>...</td>\n",
              "      <td>...</td>\n",
              "      <td>...</td>\n",
              "      <td>...</td>\n",
              "    </tr>\n",
              "    <tr>\n",
              "      <th>2106</th>\n",
              "      <td>Female</td>\n",
              "      <td>20.976842</td>\n",
              "      <td>1.710730</td>\n",
              "      <td>131.408528</td>\n",
              "      <td>yes</td>\n",
              "      <td>yes</td>\n",
              "      <td>3.0</td>\n",
              "      <td>3.0</td>\n",
              "      <td>Sometimes</td>\n",
              "      <td>no</td>\n",
              "      <td>1.728139</td>\n",
              "      <td>no</td>\n",
              "      <td>1.676269</td>\n",
              "      <td>0.906247</td>\n",
              "      <td>Sometimes</td>\n",
              "      <td>Public_Transportation</td>\n",
              "      <td>Obesity_Type_III</td>\n",
              "    </tr>\n",
              "    <tr>\n",
              "      <th>2107</th>\n",
              "      <td>Female</td>\n",
              "      <td>21.982942</td>\n",
              "      <td>1.748584</td>\n",
              "      <td>133.742943</td>\n",
              "      <td>yes</td>\n",
              "      <td>yes</td>\n",
              "      <td>3.0</td>\n",
              "      <td>3.0</td>\n",
              "      <td>Sometimes</td>\n",
              "      <td>no</td>\n",
              "      <td>2.005130</td>\n",
              "      <td>no</td>\n",
              "      <td>1.341390</td>\n",
              "      <td>0.599270</td>\n",
              "      <td>Sometimes</td>\n",
              "      <td>Public_Transportation</td>\n",
              "      <td>Obesity_Type_III</td>\n",
              "    </tr>\n",
              "    <tr>\n",
              "      <th>2108</th>\n",
              "      <td>Female</td>\n",
              "      <td>22.524036</td>\n",
              "      <td>1.752206</td>\n",
              "      <td>133.689352</td>\n",
              "      <td>yes</td>\n",
              "      <td>yes</td>\n",
              "      <td>3.0</td>\n",
              "      <td>3.0</td>\n",
              "      <td>Sometimes</td>\n",
              "      <td>no</td>\n",
              "      <td>2.054193</td>\n",
              "      <td>no</td>\n",
              "      <td>1.414209</td>\n",
              "      <td>0.646288</td>\n",
              "      <td>Sometimes</td>\n",
              "      <td>Public_Transportation</td>\n",
              "      <td>Obesity_Type_III</td>\n",
              "    </tr>\n",
              "    <tr>\n",
              "      <th>2109</th>\n",
              "      <td>Female</td>\n",
              "      <td>24.361936</td>\n",
              "      <td>1.739450</td>\n",
              "      <td>133.346641</td>\n",
              "      <td>yes</td>\n",
              "      <td>yes</td>\n",
              "      <td>3.0</td>\n",
              "      <td>3.0</td>\n",
              "      <td>Sometimes</td>\n",
              "      <td>no</td>\n",
              "      <td>2.852339</td>\n",
              "      <td>no</td>\n",
              "      <td>1.139107</td>\n",
              "      <td>0.586035</td>\n",
              "      <td>Sometimes</td>\n",
              "      <td>Public_Transportation</td>\n",
              "      <td>Obesity_Type_III</td>\n",
              "    </tr>\n",
              "    <tr>\n",
              "      <th>2110</th>\n",
              "      <td>Female</td>\n",
              "      <td>23.664709</td>\n",
              "      <td>1.738836</td>\n",
              "      <td>133.472641</td>\n",
              "      <td>yes</td>\n",
              "      <td>yes</td>\n",
              "      <td>3.0</td>\n",
              "      <td>3.0</td>\n",
              "      <td>Sometimes</td>\n",
              "      <td>no</td>\n",
              "      <td>2.863513</td>\n",
              "      <td>no</td>\n",
              "      <td>1.026452</td>\n",
              "      <td>0.714137</td>\n",
              "      <td>Sometimes</td>\n",
              "      <td>Public_Transportation</td>\n",
              "      <td>Obesity_Type_III</td>\n",
              "    </tr>\n",
              "  </tbody>\n",
              "</table>\n",
              "<p>2111 rows × 17 columns</p>\n",
              "</div>"
            ],
            "text/plain": [
              "      Gender        Age    Height      Weight family_history_with_overweight  \\\n",
              "0     Female  21.000000  1.620000   64.000000                            yes   \n",
              "1     Female  21.000000  1.520000   56.000000                            yes   \n",
              "2       Male  23.000000  1.800000   77.000000                            yes   \n",
              "3       Male  27.000000  1.800000   87.000000                             no   \n",
              "4       Male  22.000000  1.780000   89.800000                             no   \n",
              "...      ...        ...       ...         ...                            ...   \n",
              "2106  Female  20.976842  1.710730  131.408528                            yes   \n",
              "2107  Female  21.982942  1.748584  133.742943                            yes   \n",
              "2108  Female  22.524036  1.752206  133.689352                            yes   \n",
              "2109  Female  24.361936  1.739450  133.346641                            yes   \n",
              "2110  Female  23.664709  1.738836  133.472641                            yes   \n",
              "\n",
              "     FAVC  FCVC  NCP       CAEC SMOKE      CH2O  SCC       FAF       TUE  \\\n",
              "0      no   2.0  3.0  Sometimes    no  2.000000   no  0.000000  1.000000   \n",
              "1      no   3.0  3.0  Sometimes   yes  3.000000  yes  3.000000  0.000000   \n",
              "2      no   2.0  3.0  Sometimes    no  2.000000   no  2.000000  1.000000   \n",
              "3      no   3.0  3.0  Sometimes    no  2.000000   no  2.000000  0.000000   \n",
              "4      no   2.0  1.0  Sometimes    no  2.000000   no  0.000000  0.000000   \n",
              "...   ...   ...  ...        ...   ...       ...  ...       ...       ...   \n",
              "2106  yes   3.0  3.0  Sometimes    no  1.728139   no  1.676269  0.906247   \n",
              "2107  yes   3.0  3.0  Sometimes    no  2.005130   no  1.341390  0.599270   \n",
              "2108  yes   3.0  3.0  Sometimes    no  2.054193   no  1.414209  0.646288   \n",
              "2109  yes   3.0  3.0  Sometimes    no  2.852339   no  1.139107  0.586035   \n",
              "2110  yes   3.0  3.0  Sometimes    no  2.863513   no  1.026452  0.714137   \n",
              "\n",
              "            CALC                 MTRANS           NObeyesdad  \n",
              "0             no  Public_Transportation        Normal_Weight  \n",
              "1      Sometimes  Public_Transportation        Normal_Weight  \n",
              "2     Frequently  Public_Transportation        Normal_Weight  \n",
              "3     Frequently                Walking   Overweight_Level_I  \n",
              "4      Sometimes  Public_Transportation  Overweight_Level_II  \n",
              "...          ...                    ...                  ...  \n",
              "2106   Sometimes  Public_Transportation     Obesity_Type_III  \n",
              "2107   Sometimes  Public_Transportation     Obesity_Type_III  \n",
              "2108   Sometimes  Public_Transportation     Obesity_Type_III  \n",
              "2109   Sometimes  Public_Transportation     Obesity_Type_III  \n",
              "2110   Sometimes  Public_Transportation     Obesity_Type_III  \n",
              "\n",
              "[2111 rows x 17 columns]"
            ]
          },
          "execution_count": 141,
          "metadata": {},
          "output_type": "execute_result"
        }
      ],
      "source": [
        "obesity = pd.read_csv(\"ObesityDataSet.csv\")\n",
        "obesity"
      ]
    },
    {
      "cell_type": "markdown",
      "id": "2f98c62e-e965-4a72-97b9-bf56260b8b1f",
      "metadata": {},
      "source": [
        "#### Check the columns"
      ]
    },
    {
      "cell_type": "code",
      "execution_count": 104,
      "id": "c4fa1e6b-9c6a-40e2-b517-7b2b61bb0f83",
      "metadata": {
        "trusted": true
      },
      "outputs": [
        {
          "data": {
            "text/plain": [
              "Index(['Gender', 'Age', 'Height', 'Weight', 'family_history_with_overweight',\n",
              "       'FAVC', 'FCVC', 'NCP', 'CAEC', 'SMOKE', 'CH2O', 'SCC', 'FAF', 'TUE',\n",
              "       'CALC', 'MTRANS', 'NObeyesdad'],\n",
              "      dtype='object')"
            ]
          },
          "execution_count": 104,
          "metadata": {},
          "output_type": "execute_result"
        }
      ],
      "source": [
        "obesity.columns"
      ]
    },
    {
      "cell_type": "markdown",
      "id": "01753c1e-b50e-42b3-b92f-29b1a05ff53a",
      "metadata": {},
      "source": [
        "Here are the attributes in the dataset:\n",
        "* Gender\n",
        "* Age\n",
        "* Height\n",
        "* Weight\n",
        "* family_history_with_overweight\n",
        "* FAVC: Frequent consumption of high caloric food\n",
        "* FCVC: Frequency of consumption of vegetables \n",
        "* NCP: Number of main meals\n",
        "* CAEC: Consumption of food between meals \n",
        "* SMOKE: Smoker or not\n",
        "* CH20: Consumption of water daily\n",
        "* SCC: Calories consumption monitoring\n",
        "* FAF: Physical activity frequency\n",
        "* TUR: Time using technology devices\n",
        "* CALC: Consumption of alcohol\n",
        "* MTRANS: Transportation used\n",
        "* Nobeyesdad: Obesity level deducted"
      ]
    },
    {
      "cell_type": "markdown",
      "id": "6203b3ef",
      "metadata": {},
      "source": [
        "### 2. Data Preprocessing"
      ]
    },
    {
      "cell_type": "markdown",
      "id": "2daaf82e",
      "metadata": {},
      "source": [
        "#### Get basic information from the dataset"
      ]
    },
    {
      "cell_type": "code",
      "execution_count": 105,
      "id": "efc36dd4",
      "metadata": {
        "trusted": true
      },
      "outputs": [
        {
          "name": "stdout",
          "output_type": "stream",
          "text": [
            "<class 'pandas.core.frame.DataFrame'>\n",
            "RangeIndex: 2111 entries, 0 to 2110\n",
            "Data columns (total 17 columns):\n",
            " #   Column                          Non-Null Count  Dtype  \n",
            "---  ------                          --------------  -----  \n",
            " 0   Gender                          2111 non-null   object \n",
            " 1   Age                             2111 non-null   float64\n",
            " 2   Height                          2111 non-null   float64\n",
            " 3   Weight                          2111 non-null   float64\n",
            " 4   family_history_with_overweight  2111 non-null   object \n",
            " 5   FAVC                            2111 non-null   object \n",
            " 6   FCVC                            2111 non-null   float64\n",
            " 7   NCP                             2111 non-null   float64\n",
            " 8   CAEC                            2111 non-null   object \n",
            " 9   SMOKE                           2111 non-null   object \n",
            " 10  CH2O                            2111 non-null   float64\n",
            " 11  SCC                             2111 non-null   object \n",
            " 12  FAF                             2111 non-null   float64\n",
            " 13  TUE                             2111 non-null   float64\n",
            " 14  CALC                            2111 non-null   object \n",
            " 15  MTRANS                          2111 non-null   object \n",
            " 16  NObeyesdad                      2111 non-null   object \n",
            "dtypes: float64(8), object(9)\n",
            "memory usage: 206.2+ KB\n"
          ]
        }
      ],
      "source": [
        "obesity.info()"
      ]
    },
    {
      "cell_type": "markdown",
      "id": "8ed8e6d7",
      "metadata": {},
      "source": [
        "The dataset has 2111 entries and 17 columns"
      ]
    },
    {
      "cell_type": "markdown",
      "id": "1561b227",
      "metadata": {},
      "source": [
        "#### Finding missing values"
      ]
    },
    {
      "cell_type": "code",
      "execution_count": 106,
      "id": "7c9e731a",
      "metadata": {
        "trusted": true
      },
      "outputs": [
        {
          "data": {
            "text/plain": [
              "Gender                            0\n",
              "Age                               0\n",
              "Height                            0\n",
              "Weight                            0\n",
              "family_history_with_overweight    0\n",
              "FAVC                              0\n",
              "FCVC                              0\n",
              "NCP                               0\n",
              "CAEC                              0\n",
              "SMOKE                             0\n",
              "CH2O                              0\n",
              "SCC                               0\n",
              "FAF                               0\n",
              "TUE                               0\n",
              "CALC                              0\n",
              "MTRANS                            0\n",
              "NObeyesdad                        0\n",
              "dtype: int64"
            ]
          },
          "execution_count": 106,
          "metadata": {},
          "output_type": "execute_result"
        }
      ],
      "source": [
        "obesity.isnull().sum()"
      ]
    },
    {
      "cell_type": "markdown",
      "id": "9eb0e2ca",
      "metadata": {},
      "source": [
        "The results above shows that the dataset does not have missing values"
      ]
    },
    {
      "cell_type": "markdown",
      "id": "ca0a5efc-4e4d-41f5-93cc-f5974384ef9c",
      "metadata": {},
      "source": [
        "#### Looking for duplicated observations"
      ]
    },
    {
      "cell_type": "code",
      "execution_count": 124,
      "id": "ae629090-885c-45ac-b48d-03d7b8b265a5",
      "metadata": {
        "trusted": true
      },
      "outputs": [
        {
          "data": {
            "text/plain": [
              "24"
            ]
          },
          "execution_count": 124,
          "metadata": {},
          "output_type": "execute_result"
        }
      ],
      "source": [
        "obesity.duplicated().sum()"
      ]
    },
    {
      "cell_type": "markdown",
      "id": "c9782e72-b21a-4ab6-96b7-965f4f3ca6f7",
      "metadata": {},
      "source": [
        "There are 24 duplicated observations in the dataset, we will drop the duplicates."
      ]
    },
    {
      "cell_type": "code",
      "execution_count": 142,
      "id": "7fa87521-e28a-43de-af00-ff9f28e6f095",
      "metadata": {
        "trusted": true
      },
      "outputs": [],
      "source": [
        "obesity = obesity.drop_duplicates()"
      ]
    },
    {
      "cell_type": "code",
      "execution_count": 126,
      "id": "4f051c1c-987b-47c6-9b97-b24507013a11",
      "metadata": {
        "trusted": true
      },
      "outputs": [
        {
          "data": {
            "text/plain": [
              "0"
            ]
          },
          "execution_count": 126,
          "metadata": {},
          "output_type": "execute_result"
        }
      ],
      "source": [
        "obesity.duplicated().sum()"
      ]
    },
    {
      "cell_type": "markdown",
      "id": "91af869a-002a-47ff-92bf-3ef0673f0a6d",
      "metadata": {},
      "source": [
        "#### Visualize correlation"
      ]
    },
    {
      "cell_type": "code",
      "execution_count": 110,
      "id": "eeda7d9f-3208-4569-88ee-5024e8907889",
      "metadata": {
        "trusted": true
      },
      "outputs": [
        {
          "data": {
            "text/plain": [
              "<AxesSubplot:>"
            ]
          },
          "execution_count": 110,
          "metadata": {},
          "output_type": "execute_result"
        },
        {
          "data": {
            "image/png": "[encoded data removed]",
            "text/plain": [
              "<Figure size 1000x600 with 2 Axes>"
            ]
          },
          "metadata": {},
          "output_type": "display_data"
        }
      ],
      "source": [
        "pyplot.figure(figsize=(10, 6))\n",
        "correlations = obesity.corr(numeric_only=True)\n",
        "sn.heatmap(correlations, annot=True)"
      ]
    },
    {
      "cell_type": "markdown",
      "id": "712a941e-4565-4885-b27d-1e35cb45b780",
      "metadata": {},
      "source": [
        "From this correlation plot, we can see the correlation between the numerical variables. It seems that there aren't any attributes that are highly correlated. The highest positive correlation we can see is between **Height** and **Weight** which is 0.46."
      ]
    },
    {
      "cell_type": "markdown",
      "id": "36f1e2b6-5437-4fe2-884f-10a2177f2a42",
      "metadata": {},
      "source": [
        "#### Visualizing data distribution with a box plot"
      ]
    },
    {
      "cell_type": "code",
      "execution_count": 111,
      "id": "dc0bbbd3-26b3-4f5a-887b-3e78182384f9",
      "metadata": {
        "trusted": true
      },
      "outputs": [
        {
          "data": {
            "image/png": "[encoded data removed]",
            "text/plain": [
              "<Figure size 640x480 with 16 Axes>"
            ]
          },
          "metadata": {},
          "output_type": "display_data"
        }
      ],
      "source": [
        "obesity.plot(kind='box', subplots=True, layout=(4,4), sharex=False,sharey=False)\n",
        "pyplot.subplots_adjust(top=0.92, bottom=0.08, left=0.10, right=0.95, hspace=0.75, wspace=0.50)"
      ]
    },
    {
      "cell_type": "markdown",
      "id": "0d156a3f-588e-48fc-b4b8-310f2903758e",
      "metadata": {},
      "source": [
        "We can see from the above box plots that some variables such as Age, Height, Weight and NCP have outliers. Let's inspect those variables for further insights."
      ]
    },
    {
      "cell_type": "markdown",
      "id": "17fd5b65-f222-4efe-968b-fc97ca7276e4",
      "metadata": {},
      "source": [
        "##### Age against Height distribution"
      ]
    },
    {
      "cell_type": "code",
      "execution_count": 112,
      "id": "89b89687-ddf1-4613-91be-7d11fca32dd2",
      "metadata": {
        "trusted": true
      },
      "outputs": [
        {
          "data": {
            "text/plain": [
              "<AxesSubplot:xlabel='Height', ylabel='Age'>"
            ]
          },
          "execution_count": 112,
          "metadata": {},
          "output_type": "execute_result"
        },
        {
          "data": {
            "image/png": "[encoded data removed]",
            "text/plain": [
              "<Figure size 640x480 with 1 Axes>"
            ]
          },
          "metadata": {},
          "output_type": "display_data"
        }
      ],
      "source": [
        "sn.scatterplot(data=obesity, x=\"Height\", y=\"Age\")"
      ]
    },
    {
      "cell_type": "markdown",
      "id": "276759e1-b4b6-45dd-822a-458e03c3fbe4",
      "metadata": {},
      "source": [
        "We can see from this graph that most of the individuals in the dataset are below 50 years old and shorter than 1,90m.\n",
        "We can see the remaining outliers."
      ]
    },
    {
      "cell_type": "markdown",
      "id": "a4b6a580-a91d-4e4d-a7e8-b25b16877e77",
      "metadata": {},
      "source": [
        "##### Number of main meals per day (NCP) against Age"
      ]
    },
    {
      "cell_type": "code",
      "execution_count": 113,
      "id": "4d300a6e-1abc-491c-a6a2-92ee58442b3e",
      "metadata": {
        "trusted": true
      },
      "outputs": [
        {
          "data": {
            "text/plain": [
              "<AxesSubplot:xlabel='Age', ylabel='NCP'>"
            ]
          },
          "execution_count": 113,
          "metadata": {},
          "output_type": "execute_result"
        },
        {
          "data": {
            "image/png": "[encoded data removed]",
            "text/plain": [
              "<Figure size 640x480 with 1 Axes>"
            ]
          },
          "metadata": {},
          "output_type": "display_data"
        }
      ],
      "source": [
        "sn.scatterplot(data=obesity, x=\"Age\", y=\"NCP\")"
      ]
    },
    {
      "cell_type": "markdown",
      "id": "0abc00f1-745f-4909-a116-8405cf845d4b",
      "metadata": {},
      "source": [
        "We can see from this visualization that most of the individuals from the observation take 3 main meals per day. We can see from the other observations, that people take between 1 and 4 main meals per day."
      ]
    },
    {
      "cell_type": "markdown",
      "id": "a7d059a2-c2ca-44b8-ad32-a00ea7a1a16e",
      "metadata": {},
      "source": [
        "We will not remove the outliers since they do not appear to be wrong input. These different data points allow us to correctly classify the obesity level of an individual."
      ]
    },
    {
      "cell_type": "markdown",
      "id": "26d07155-1a35-421b-9070-34d83d1b31c9",
      "metadata": {},
      "source": [
        "#### Handling the variable types"
      ]
    },
    {
      "cell_type": "code",
      "execution_count": 114,
      "id": "9cf7e2b6-6611-46b3-8051-1506d175baa9",
      "metadata": {
        "trusted": true
      },
      "outputs": [
        {
          "data": {
            "text/plain": [
              "Gender                             object\n",
              "Age                               float64\n",
              "Height                            float64\n",
              "Weight                            float64\n",
              "family_history_with_overweight     object\n",
              "FAVC                               object\n",
              "FCVC                              float64\n",
              "NCP                               float64\n",
              "CAEC                               object\n",
              "SMOKE                              object\n",
              "CH2O                              float64\n",
              "SCC                                object\n",
              "FAF                               float64\n",
              "TUE                               float64\n",
              "CALC                               object\n",
              "MTRANS                             object\n",
              "NObeyesdad                         object\n",
              "dtype: object"
            ]
          },
          "execution_count": 114,
          "metadata": {},
          "output_type": "execute_result"
        }
      ],
      "source": [
        "obesity.dtypes"
      ]
    },
    {
      "cell_type": "markdown",
      "id": "38346d77-df94-4326-9a5b-57fb5262ae12",
      "metadata": {},
      "source": [
        "Let's look at each of the object variables and their unique values."
      ]
    },
    {
      "cell_type": "code",
      "execution_count": 127,
      "id": "86f5c599-6e2f-40a8-94a8-bf3f172c0af8",
      "metadata": {
        "trusted": true
      },
      "outputs": [
        {
          "name": "stdout",
          "output_type": "stream",
          "text": [
            "Unique values for Gender : ['Female' 'Male']\n",
            "Unique values for family_history_with_overweight : ['yes' 'no']\n",
            "Unique values for FAVC : ['no' 'yes']\n",
            "Unique values for CAEC : ['Sometimes' 'Frequently' 'Always' 'no']\n",
            "Unique values for SMOKE : ['no' 'yes']\n",
            "Unique values for SCC : ['no' 'yes']\n",
            "Unique values for CALC : ['no' 'Sometimes' 'Frequently' 'Always']\n",
            "Unique values for MTRANS : ['Public_Transportation' 'Walking' 'Automobile' 'Motorbike' 'Bike']\n",
            "Unique values for NObeyesdad : ['Normal_Weight' 'Overweight_Level_I' 'Overweight_Level_II'\n",
            " 'Obesity_Type_I' 'Insufficient_Weight' 'Obesity_Type_II'\n",
            " 'Obesity_Type_III']\n"
          ]
        }
      ],
      "source": [
        "column = obesity.select_dtypes(include=['object']).columns\n",
        "for i in column:\n",
        "    print(\"Unique values for {0} :\".format(i), obesity[i].unique())"
      ]
    },
    {
      "cell_type": "markdown",
      "id": "8d998782-a385-40e8-97e4-11e9ba6c253b",
      "metadata": {},
      "source": [
        "For the object variables, we will divide the variables into three groups: binary, ordinal, and nominal."
      ]
    },
    {
      "cell_type": "code",
      "execution_count": 143,
      "id": "8b639f1b-3b80-4631-bdfc-82cdd33ecdaf",
      "metadata": {
        "trusted": true
      },
      "outputs": [],
      "source": [
        "continuous_variables = ['Age', 'Height', 'Weight', 'FCVC', 'NCP', 'CH2O', 'FAF', 'TUE']\n",
        "\n",
        "binary_variables = ['Gender', 'family_history_with_overweight', 'FAVC', 'CAEC', 'SMOKE', 'SCC']\n",
        "                    \n",
        "categorical_variables = ['CALC', 'MTRANS']"
      ]
    },
    {
      "cell_type": "markdown",
      "id": "ea6ffaeb-ede3-448c-af22-4e12c82b6f8e",
      "metadata": {},
      "source": [
        "#### Adressing the binary values"
      ]
    },
    {
      "cell_type": "code",
      "execution_count": 145,
      "id": "936e006a-7d85-49d7-b5e1-3590d6e73964",
      "metadata": {
        "trusted": true
      },
      "outputs": [
        {
          "name": "stderr",
          "output_type": "stream",
          "text": [
            "<ipython-input-145-6293b6d12f78>:4: SettingWithCopyWarning: \n",
            "A value is trying to be set on a copy of a slice from a DataFrame.\n",
            "Try using .loc[row_indexer,col_indexer] = value instead\n",
            "\n",
            "See the caveats in the documentation: https://pandas.pydata.org/pandas-docs/stable/user_guide/indexing.html#returning-a-view-versus-a-copy\n",
            "  obesity[i] = le.fit_transform(obesity[i])\n",
            "<ipython-input-145-6293b6d12f78>:4: SettingWithCopyWarning: \n",
            "A value is trying to be set on a copy of a slice from a DataFrame.\n",
            "Try using .loc[row_indexer,col_indexer] = value instead\n",
            "\n",
            "See the caveats in the documentation: https://pandas.pydata.org/pandas-docs/stable/user_guide/indexing.html#returning-a-view-versus-a-copy\n",
            "  obesity[i] = le.fit_transform(obesity[i])\n",
            "<ipython-input-145-6293b6d12f78>:4: SettingWithCopyWarning: \n",
            "A value is trying to be set on a copy of a slice from a DataFrame.\n",
            "Try using .loc[row_indexer,col_indexer] = value instead\n",
            "\n",
            "See the caveats in the documentation: https://pandas.pydata.org/pandas-docs/stable/user_guide/indexing.html#returning-a-view-versus-a-copy\n",
            "  obesity[i] = le.fit_transform(obesity[i])\n",
            "<ipython-input-145-6293b6d12f78>:4: SettingWithCopyWarning: \n",
            "A value is trying to be set on a copy of a slice from a DataFrame.\n",
            "Try using .loc[row_indexer,col_indexer] = value instead\n",
            "\n",
            "See the caveats in the documentation: https://pandas.pydata.org/pandas-docs/stable/user_guide/indexing.html#returning-a-view-versus-a-copy\n",
            "  obesity[i] = le.fit_transform(obesity[i])\n",
            "<ipython-input-145-6293b6d12f78>:4: SettingWithCopyWarning: \n",
            "A value is trying to be set on a copy of a slice from a DataFrame.\n",
            "Try using .loc[row_indexer,col_indexer] = value instead\n",
            "\n",
            "See the caveats in the documentation: https://pandas.pydata.org/pandas-docs/stable/user_guide/indexing.html#returning-a-view-versus-a-copy\n",
            "  obesity[i] = le.fit_transform(obesity[i])\n",
            "<ipython-input-145-6293b6d12f78>:4: SettingWithCopyWarning: \n",
            "A value is trying to be set on a copy of a slice from a DataFrame.\n",
            "Try using .loc[row_indexer,col_indexer] = value instead\n",
            "\n",
            "See the caveats in the documentation: https://pandas.pydata.org/pandas-docs/stable/user_guide/indexing.html#returning-a-view-versus-a-copy\n",
            "  obesity[i] = le.fit_transform(obesity[i])\n"
          ]
        },
        {
          "data": {
            "text/html": [
              "<div>\n",
              "<style scoped>\n",
              "    .dataframe tbody tr th:only-of-type {\n",
              "        vertical-align: middle;\n",
              "    }\n",
              "\n",
              "    .dataframe tbody tr th {\n",
              "        vertical-align: top;\n",
              "    }\n",
              "\n",
              "    .dataframe thead th {\n",
              "        text-align: right;\n",
              "    }\n",
              "</style>\n",
              "<table border=\"1\" class=\"dataframe\">\n",
              "  <thead>\n",
              "    <tr style=\"text-align: right;\">\n",
              "      <th></th>\n",
              "      <th>Gender</th>\n",
              "      <th>Age</th>\n",
              "      <th>Height</th>\n",
              "      <th>Weight</th>\n",
              "      <th>family_history_with_overweight</th>\n",
              "      <th>FAVC</th>\n",
              "      <th>FCVC</th>\n",
              "      <th>NCP</th>\n",
              "      <th>CAEC</th>\n",
              "      <th>SMOKE</th>\n",
              "      <th>CH2O</th>\n",
              "      <th>SCC</th>\n",
              "      <th>FAF</th>\n",
              "      <th>TUE</th>\n",
              "      <th>CALC</th>\n",
              "      <th>MTRANS</th>\n",
              "      <th>NObeyesdad</th>\n",
              "    </tr>\n",
              "  </thead>\n",
              "  <tbody>\n",
              "    <tr>\n",
              "      <th>0</th>\n",
              "      <td>0</td>\n",
              "      <td>21.0</td>\n",
              "      <td>1.62</td>\n",
              "      <td>64.0</td>\n",
              "      <td>1</td>\n",
              "      <td>0</td>\n",
              "      <td>2.0</td>\n",
              "      <td>3.0</td>\n",
              "      <td>2</td>\n",
              "      <td>0</td>\n",
              "      <td>2.0</td>\n",
              "      <td>0</td>\n",
              "      <td>0.0</td>\n",
              "      <td>1.0</td>\n",
              "      <td>no</td>\n",
              "      <td>Public_Transportation</td>\n",
              "      <td>Normal_Weight</td>\n",
              "    </tr>\n",
              "    <tr>\n",
              "      <th>1</th>\n",
              "      <td>0</td>\n",
              "      <td>21.0</td>\n",
              "      <td>1.52</td>\n",
              "      <td>56.0</td>\n",
              "      <td>1</td>\n",
              "      <td>0</td>\n",
              "      <td>3.0</td>\n",
              "      <td>3.0</td>\n",
              "      <td>2</td>\n",
              "      <td>1</td>\n",
              "      <td>3.0</td>\n",
              "      <td>1</td>\n",
              "      <td>3.0</td>\n",
              "      <td>0.0</td>\n",
              "      <td>Sometimes</td>\n",
              "      <td>Public_Transportation</td>\n",
              "      <td>Normal_Weight</td>\n",
              "    </tr>\n",
              "    <tr>\n",
              "      <th>2</th>\n",
              "      <td>1</td>\n",
              "      <td>23.0</td>\n",
              "      <td>1.80</td>\n",
              "      <td>77.0</td>\n",
              "      <td>1</td>\n",
              "      <td>0</td>\n",
              "      <td>2.0</td>\n",
              "      <td>3.0</td>\n",
              "      <td>2</td>\n",
              "      <td>0</td>\n",
              "      <td>2.0</td>\n",
              "      <td>0</td>\n",
              "      <td>2.0</td>\n",
              "      <td>1.0</td>\n",
              "      <td>Frequently</td>\n",
              "      <td>Public_Transportation</td>\n",
              "      <td>Normal_Weight</td>\n",
              "    </tr>\n",
              "    <tr>\n",
              "      <th>3</th>\n",
              "      <td>1</td>\n",
              "      <td>27.0</td>\n",
              "      <td>1.80</td>\n",
              "      <td>87.0</td>\n",
              "      <td>0</td>\n",
              "      <td>0</td>\n",
              "      <td>3.0</td>\n",
              "      <td>3.0</td>\n",
              "      <td>2</td>\n",
              "      <td>0</td>\n",
              "      <td>2.0</td>\n",
              "      <td>0</td>\n",
              "      <td>2.0</td>\n",
              "      <td>0.0</td>\n",
              "      <td>Frequently</td>\n",
              "      <td>Walking</td>\n",
              "      <td>Overweight_Level_I</td>\n",
              "    </tr>\n",
              "    <tr>\n",
              "      <th>4</th>\n",
              "      <td>1</td>\n",
              "      <td>22.0</td>\n",
              "      <td>1.78</td>\n",
              "      <td>89.8</td>\n",
              "      <td>0</td>\n",
              "      <td>0</td>\n",
              "      <td>2.0</td>\n",
              "      <td>1.0</td>\n",
              "      <td>2</td>\n",
              "      <td>0</td>\n",
              "      <td>2.0</td>\n",
              "      <td>0</td>\n",
              "      <td>0.0</td>\n",
              "      <td>0.0</td>\n",
              "      <td>Sometimes</td>\n",
              "      <td>Public_Transportation</td>\n",
              "      <td>Overweight_Level_II</td>\n",
              "    </tr>\n",
              "  </tbody>\n",
              "</table>\n",
              "</div>"
            ],
            "text/plain": [
              "   Gender   Age  Height  Weight  family_history_with_overweight  FAVC  FCVC  \\\n",
              "0       0  21.0    1.62    64.0                               1     0   2.0   \n",
              "1       0  21.0    1.52    56.0                               1     0   3.0   \n",
              "2       1  23.0    1.80    77.0                               1     0   2.0   \n",
              "3       1  27.0    1.80    87.0                               0     0   3.0   \n",
              "4       1  22.0    1.78    89.8                               0     0   2.0   \n",
              "\n",
              "   NCP  CAEC  SMOKE  CH2O  SCC  FAF  TUE        CALC                 MTRANS  \\\n",
              "0  3.0     2      0   2.0    0  0.0  1.0          no  Public_Transportation   \n",
              "1  3.0     2      1   3.0    1  3.0  0.0   Sometimes  Public_Transportation   \n",
              "2  3.0     2      0   2.0    0  2.0  1.0  Frequently  Public_Transportation   \n",
              "3  3.0     2      0   2.0    0  2.0  0.0  Frequently                Walking   \n",
              "4  1.0     2      0   2.0    0  0.0  0.0   Sometimes  Public_Transportation   \n",
              "\n",
              "            NObeyesdad  \n",
              "0        Normal_Weight  \n",
              "1        Normal_Weight  \n",
              "2        Normal_Weight  \n",
              "3   Overweight_Level_I  \n",
              "4  Overweight_Level_II  "
            ]
          },
          "execution_count": 145,
          "metadata": {},
          "output_type": "execute_result"
        }
      ],
      "source": [
        " le = LabelEncoder()\n",
        "\n",
        "for i in binary_variables:\n",
        "    obesity[i] = le.fit_transform(obesity[i])\n",
        "    \n",
        "obesity.head()"
      ]
    },
    {
      "cell_type": "markdown",
      "id": "19e96889-9124-464d-a16f-9e7ef6c7393f",
      "metadata": {},
      "source": [
        "We can see from the table above that the binary values have been transformed into integer values."
      ]
    },
    {
      "cell_type": "markdown",
      "id": "b35ad39e-891f-4163-9d95-f6f898507e63",
      "metadata": {},
      "source": [
        "#### Addressing the categorical variables"
      ]
    },
    {
      "cell_type": "markdown",
      "id": "547282b7-2547-40cc-8727-2182b2fe4acb",
      "metadata": {},
      "source": [
        "We will address the categorical variables with one hot encoding."
      ]
    },
    {
      "cell_type": "code",
      "execution_count": 146,
      "id": "088839ee-6b6b-4f23-9fb6-f2213faae049",
      "metadata": {
        "trusted": true
      },
      "outputs": [],
      "source": [
        "obesity = pd.get_dummies(obesity, columns=categorical_variables)"
      ]
    },
    {
      "cell_type": "code",
      "execution_count": 147,
      "id": "847d6266-3d05-4976-ac09-460c98f76978",
      "metadata": {
        "trusted": true
      },
      "outputs": [
        {
          "data": {
            "text/html": [
              "<div>\n",
              "<style scoped>\n",
              "    .dataframe tbody tr th:only-of-type {\n",
              "        vertical-align: middle;\n",
              "    }\n",
              "\n",
              "    .dataframe tbody tr th {\n",
              "        vertical-align: top;\n",
              "    }\n",
              "\n",
              "    .dataframe thead th {\n",
              "        text-align: right;\n",
              "    }\n",
              "</style>\n",
              "<table border=\"1\" class=\"dataframe\">\n",
              "  <thead>\n",
              "    <tr style=\"text-align: right;\">\n",
              "      <th></th>\n",
              "      <th>Gender</th>\n",
              "      <th>Age</th>\n",
              "      <th>Height</th>\n",
              "      <th>Weight</th>\n",
              "      <th>family_history_with_overweight</th>\n",
              "      <th>FAVC</th>\n",
              "      <th>FCVC</th>\n",
              "      <th>NCP</th>\n",
              "      <th>CAEC</th>\n",
              "      <th>SMOKE</th>\n",
              "      <th>...</th>\n",
              "      <th>NObeyesdad</th>\n",
              "      <th>CALC_Always</th>\n",
              "      <th>CALC_Frequently</th>\n",
              "      <th>CALC_Sometimes</th>\n",
              "      <th>CALC_no</th>\n",
              "      <th>MTRANS_Automobile</th>\n",
              "      <th>MTRANS_Bike</th>\n",
              "      <th>MTRANS_Motorbike</th>\n",
              "      <th>MTRANS_Public_Transportation</th>\n",
              "      <th>MTRANS_Walking</th>\n",
              "    </tr>\n",
              "  </thead>\n",
              "  <tbody>\n",
              "    <tr>\n",
              "      <th>0</th>\n",
              "      <td>0</td>\n",
              "      <td>21.0</td>\n",
              "      <td>1.62</td>\n",
              "      <td>64.0</td>\n",
              "      <td>1</td>\n",
              "      <td>0</td>\n",
              "      <td>2.0</td>\n",
              "      <td>3.0</td>\n",
              "      <td>2</td>\n",
              "      <td>0</td>\n",
              "      <td>...</td>\n",
              "      <td>Normal_Weight</td>\n",
              "      <td>0</td>\n",
              "      <td>0</td>\n",
              "      <td>0</td>\n",
              "      <td>1</td>\n",
              "      <td>0</td>\n",
              "      <td>0</td>\n",
              "      <td>0</td>\n",
              "      <td>1</td>\n",
              "      <td>0</td>\n",
              "    </tr>\n",
              "    <tr>\n",
              "      <th>1</th>\n",
              "      <td>0</td>\n",
              "      <td>21.0</td>\n",
              "      <td>1.52</td>\n",
              "      <td>56.0</td>\n",
              "      <td>1</td>\n",
              "      <td>0</td>\n",
              "      <td>3.0</td>\n",
              "      <td>3.0</td>\n",
              "      <td>2</td>\n",
              "      <td>1</td>\n",
              "      <td>...</td>\n",
              "      <td>Normal_Weight</td>\n",
              "      <td>0</td>\n",
              "      <td>0</td>\n",
              "      <td>1</td>\n",
              "      <td>0</td>\n",
              "      <td>0</td>\n",
              "      <td>0</td>\n",
              "      <td>0</td>\n",
              "      <td>1</td>\n",
              "      <td>0</td>\n",
              "    </tr>\n",
              "    <tr>\n",
              "      <th>2</th>\n",
              "      <td>1</td>\n",
              "      <td>23.0</td>\n",
              "      <td>1.80</td>\n",
              "      <td>77.0</td>\n",
              "      <td>1</td>\n",
              "      <td>0</td>\n",
              "      <td>2.0</td>\n",
              "      <td>3.0</td>\n",
              "      <td>2</td>\n",
              "      <td>0</td>\n",
              "      <td>...</td>\n",
              "      <td>Normal_Weight</td>\n",
              "      <td>0</td>\n",
              "      <td>1</td>\n",
              "      <td>0</td>\n",
              "      <td>0</td>\n",
              "      <td>0</td>\n",
              "      <td>0</td>\n",
              "      <td>0</td>\n",
              "      <td>1</td>\n",
              "      <td>0</td>\n",
              "    </tr>\n",
              "    <tr>\n",
              "      <th>3</th>\n",
              "      <td>1</td>\n",
              "      <td>27.0</td>\n",
              "      <td>1.80</td>\n",
              "      <td>87.0</td>\n",
              "      <td>0</td>\n",
              "      <td>0</td>\n",
              "      <td>3.0</td>\n",
              "      <td>3.0</td>\n",
              "      <td>2</td>\n",
              "      <td>0</td>\n",
              "      <td>...</td>\n",
              "      <td>Overweight_Level_I</td>\n",
              "      <td>0</td>\n",
              "      <td>1</td>\n",
              "      <td>0</td>\n",
              "      <td>0</td>\n",
              "      <td>0</td>\n",
              "      <td>0</td>\n",
              "      <td>0</td>\n",
              "      <td>0</td>\n",
              "      <td>1</td>\n",
              "    </tr>\n",
              "    <tr>\n",
              "      <th>4</th>\n",
              "      <td>1</td>\n",
              "      <td>22.0</td>\n",
              "      <td>1.78</td>\n",
              "      <td>89.8</td>\n",
              "      <td>0</td>\n",
              "      <td>0</td>\n",
              "      <td>2.0</td>\n",
              "      <td>1.0</td>\n",
              "      <td>2</td>\n",
              "      <td>0</td>\n",
              "      <td>...</td>\n",
              "      <td>Overweight_Level_II</td>\n",
              "      <td>0</td>\n",
              "      <td>0</td>\n",
              "      <td>1</td>\n",
              "      <td>0</td>\n",
              "      <td>0</td>\n",
              "      <td>0</td>\n",
              "      <td>0</td>\n",
              "      <td>1</td>\n",
              "      <td>0</td>\n",
              "    </tr>\n",
              "  </tbody>\n",
              "</table>\n",
              "<p>5 rows × 24 columns</p>\n",
              "</div>"
            ],
            "text/plain": [
              "   Gender   Age  Height  Weight  family_history_with_overweight  FAVC  FCVC  \\\n",
              "0       0  21.0    1.62    64.0                               1     0   2.0   \n",
              "1       0  21.0    1.52    56.0                               1     0   3.0   \n",
              "2       1  23.0    1.80    77.0                               1     0   2.0   \n",
              "3       1  27.0    1.80    87.0                               0     0   3.0   \n",
              "4       1  22.0    1.78    89.8                               0     0   2.0   \n",
              "\n",
              "   NCP  CAEC  SMOKE  ...           NObeyesdad  CALC_Always  CALC_Frequently  \\\n",
              "0  3.0     2      0  ...        Normal_Weight            0                0   \n",
              "1  3.0     2      1  ...        Normal_Weight            0                0   \n",
              "2  3.0     2      0  ...        Normal_Weight            0                1   \n",
              "3  3.0     2      0  ...   Overweight_Level_I            0                1   \n",
              "4  1.0     2      0  ...  Overweight_Level_II            0                0   \n",
              "\n",
              "   CALC_Sometimes CALC_no  MTRANS_Automobile  MTRANS_Bike  MTRANS_Motorbike  \\\n",
              "0               0       1                  0            0                 0   \n",
              "1               1       0                  0            0                 0   \n",
              "2               0       0                  0            0                 0   \n",
              "3               0       0                  0            0                 0   \n",
              "4               1       0                  0            0                 0   \n",
              "\n",
              "   MTRANS_Public_Transportation  MTRANS_Walking  \n",
              "0                             1               0  \n",
              "1                             1               0  \n",
              "2                             1               0  \n",
              "3                             0               1  \n",
              "4                             1               0  \n",
              "\n",
              "[5 rows x 24 columns]"
            ]
          },
          "execution_count": 147,
          "metadata": {},
          "output_type": "execute_result"
        }
      ],
      "source": [
        "obesity.head()"
      ]
    },
    {
      "cell_type": "code",
      "execution_count": 148,
      "id": "2fe14c93-b1f4-4082-b55e-9548770c08e9",
      "metadata": {
        "trusted": true
      },
      "outputs": [
        {
          "data": {
            "text/plain": [
              "Gender                              int32\n",
              "Age                               float64\n",
              "Height                            float64\n",
              "Weight                            float64\n",
              "family_history_with_overweight      int32\n",
              "FAVC                                int32\n",
              "FCVC                              float64\n",
              "NCP                               float64\n",
              "CAEC                                int32\n",
              "SMOKE                               int32\n",
              "CH2O                              float64\n",
              "SCC                                 int32\n",
              "FAF                               float64\n",
              "TUE                               float64\n",
              "NObeyesdad                         object\n",
              "CALC_Always                         uint8\n",
              "CALC_Frequently                     uint8\n",
              "CALC_Sometimes                      uint8\n",
              "CALC_no                             uint8\n",
              "MTRANS_Automobile                   uint8\n",
              "MTRANS_Bike                         uint8\n",
              "MTRANS_Motorbike                    uint8\n",
              "MTRANS_Public_Transportation        uint8\n",
              "MTRANS_Walking                      uint8\n",
              "dtype: object"
            ]
          },
          "execution_count": 148,
          "metadata": {},
          "output_type": "execute_result"
        }
      ],
      "source": [
        "obesity.dtypes"
      ]
    },
    {
      "cell_type": "markdown",
      "id": "e9d7ac6f-ab05-4565-b12e-7ff16a5c645a",
      "metadata": {},
      "source": [
        "Now, our dataset is ready for the next step."
      ]
    },
    {
      "cell_type": "markdown",
      "id": "50d0b65a",
      "metadata": {},
      "source": [
        "### 3. Model Implementation and 4. Evaluation"
      ]
    },
    {
      "cell_type": "markdown",
      "id": "c66ba0e0-5858-4350-ae24-466582086cb2",
      "metadata": {},
      "source": [
        "##### Split the dataset into training and testing sets"
      ]
    },
    {
      "cell_type": "code",
      "execution_count": 149,
      "id": "0ddc46fd-97a7-4f71-b2a0-53dbb5ad5471",
      "metadata": {
        "trusted": true
      },
      "outputs": [],
      "source": [
        "X = obesity.drop(['NObeyesdad'], axis=1)\n",
        "y = obesity['NObeyesdad']\n",
        "\n",
        "X_train, X_test, y_train, y_test = train_test_split(X, y, test_size=0.2, random_state=42)"
      ]
    },
    {
      "cell_type": "markdown",
      "id": "4515d6d3-f9b9-4a5c-825a-5f33c939b3b5",
      "metadata": {},
      "source": [
        "#### 3.1. Decision Tree Classifier"
      ]
    },
    {
      "cell_type": "markdown",
      "id": "b9446404-f13d-4177-8cfe-2effc288cfb0",
      "metadata": {},
      "source": [
        "#### Create and train the model"
      ]
    },
    {
      "cell_type": "code",
      "execution_count": 151,
      "id": "70217a55-c126-47a1-9c58-ce43f0e9c6b7",
      "metadata": {
        "trusted": true
      },
      "outputs": [
        {
          "data": {
            "text/html": [
              "<style>#sk-container-id-18 {color: black;}#sk-container-id-18 pre{padding: 0;}#sk-container-id-18 div.sk-toggleable {background-color: white;}#sk-container-id-18 label.sk-toggleable__label {cursor: pointer;display: block;width: 100%;margin-bottom: 0;padding: 0.3em;box-sizing: border-box;text-align: center;}#sk-container-id-18 label.sk-toggleable__label-arrow:before {content: \"▸\";float: left;margin-right: 0.25em;color: #696969;}#sk-container-id-18 label.sk-toggleable__label-arrow:hover:before {color: black;}#sk-container-id-18 div.sk-estimator:hover label.sk-toggleable__label-arrow:before {color: black;}#sk-container-id-18 div.sk-toggleable__content {max-height: 0;max-width: 0;overflow: hidden;text-align: left;background-color: #f0f8ff;}#sk-container-id-18 div.sk-toggleable__content pre {margin: 0.2em;color: black;border-radius: 0.25em;background-color: #f0f8ff;}#sk-container-id-18 input.sk-toggleable__control:checked~div.sk-toggleable__content {max-height: 200px;max-width: 100%;overflow: auto;}#sk-container-id-18 input.sk-toggleable__control:checked~label.sk-toggleable__label-arrow:before {content: \"▾\";}#sk-container-id-18 div.sk-estimator input.sk-toggleable__control:checked~label.sk-toggleable__label {background-color: #d4ebff;}#sk-container-id-18 div.sk-label input.sk-toggleable__control:checked~label.sk-toggleable__label {background-color: #d4ebff;}#sk-container-id-18 input.sk-hidden--visually {border: 0;clip: rect(1px 1px 1px 1px);clip: rect(1px, 1px, 1px, 1px);height: 1px;margin: -1px;overflow: hidden;padding: 0;position: absolute;width: 1px;}#sk-container-id-18 div.sk-estimator {font-family: monospace;background-color: #f0f8ff;border: 1px dotted black;border-radius: 0.25em;box-sizing: border-box;margin-bottom: 0.5em;}#sk-container-id-18 div.sk-estimator:hover {background-color: #d4ebff;}#sk-container-id-18 div.sk-parallel-item::after {content: \"\";width: 100%;border-bottom: 1px solid gray;flex-grow: 1;}#sk-container-id-18 div.sk-label:hover label.sk-toggleable__label {background-color: #d4ebff;}#sk-container-id-18 div.sk-serial::before {content: \"\";position: absolute;border-left: 1px solid gray;box-sizing: border-box;top: 0;bottom: 0;left: 50%;z-index: 0;}#sk-container-id-18 div.sk-serial {display: flex;flex-direction: column;align-items: center;background-color: white;padding-right: 0.2em;padding-left: 0.2em;position: relative;}#sk-container-id-18 div.sk-item {position: relative;z-index: 1;}#sk-container-id-18 div.sk-parallel {display: flex;align-items: stretch;justify-content: center;background-color: white;position: relative;}#sk-container-id-18 div.sk-item::before, #sk-container-id-18 div.sk-parallel-item::before {content: \"\";position: absolute;border-left: 1px solid gray;box-sizing: border-box;top: 0;bottom: 0;left: 50%;z-index: -1;}#sk-container-id-18 div.sk-parallel-item {display: flex;flex-direction: column;z-index: 1;position: relative;background-color: white;}#sk-container-id-18 div.sk-parallel-item:first-child::after {align-self: flex-end;width: 50%;}#sk-container-id-18 div.sk-parallel-item:last-child::after {align-self: flex-start;width: 50%;}#sk-container-id-18 div.sk-parallel-item:only-child::after {width: 0;}#sk-container-id-18 div.sk-dashed-wrapped {border: 1px dashed gray;margin: 0 0.4em 0.5em 0.4em;box-sizing: border-box;padding-bottom: 0.4em;background-color: white;}#sk-container-id-18 div.sk-label label {font-family: monospace;font-weight: bold;display: inline-block;line-height: 1.2em;}#sk-container-id-18 div.sk-label-container {text-align: center;}#sk-container-id-18 div.sk-container {/* jupyter's `normalize.less` sets `[hidden] { display: none; }` but bootstrap.min.css set `[hidden] { display: none !important; }` so we also need the `!important` here to be able to override the default hidden behavior on the sphinx rendered scikit-learn.org. See: https://github.com/scikit-learn/scikit-learn/issues/21755 */display: inline-block !important;position: relative;}#sk-container-id-18 div.sk-text-repr-fallback {display: none;}</style><div id=\"sk-container-id-18\" class=\"sk-top-container\"><div class=\"sk-text-repr-fallback\"><pre>DecisionTreeClassifier()</pre><b>In a Jupyter environment, please rerun this cell to show the HTML representation or trust the notebook. <br />On GitHub, the HTML representation is unable to render, please try loading this page with nbviewer.org.</b></div><div class=\"sk-container\" hidden><div class=\"sk-item\"><div class=\"sk-estimator sk-toggleable\"><input class=\"sk-toggleable__control sk-hidden--visually\" id=\"sk-estimator-id-18\" type=\"checkbox\" checked><label for=\"sk-estimator-id-18\" class=\"sk-toggleable__label sk-toggleable__label-arrow\">DecisionTreeClassifier</label><div class=\"sk-toggleable__content\"><pre>DecisionTreeClassifier()</pre></div></div></div></div></div>"
            ],
            "text/plain": [
              "DecisionTreeClassifier()"
            ]
          },
          "execution_count": 151,
          "metadata": {},
          "output_type": "execute_result"
        }
      ],
      "source": [
        "decisionTree_classifier = DecisionTreeClassifier()\n",
        "decisionTree_classifier.fit(X_train, y_train)"
      ]
    },
    {
      "cell_type": "markdown",
      "id": "5538c41a-b1a0-42a0-89b9-49e511f5e313",
      "metadata": {},
      "source": [
        "#### Model evaluation"
      ]
    },
    {
      "cell_type": "code",
      "execution_count": 155,
      "id": "eaaae2d5-8e97-41ed-9d4e-6b03837efa73",
      "metadata": {
        "trusted": true
      },
      "outputs": [
        {
          "name": "stdout",
          "output_type": "stream",
          "text": [
            "                     precision    recall  f1-score   support\n",
            "\n",
            "Insufficient_Weight       0.89      0.92      0.90        59\n",
            "      Normal_Weight       0.81      0.70      0.75        61\n",
            "     Obesity_Type_I       0.94      0.96      0.95        70\n",
            "    Obesity_Type_II       0.98      0.98      0.98        64\n",
            "   Obesity_Type_III       1.00      1.00      1.00        60\n",
            " Overweight_Level_I       0.81      0.87      0.84        55\n",
            "Overweight_Level_II       0.94      0.96      0.95        49\n",
            "\n",
            "           accuracy                           0.91       418\n",
            "          macro avg       0.91      0.91      0.91       418\n",
            "       weighted avg       0.91      0.91      0.91       418\n",
            "\n",
            "Accuracy:91.38755980861244%\n"
          ]
        }
      ],
      "source": [
        "predictions = decisionTree_classifier.predict(X_test)\n",
        "accuracy_dt = accuracy_score(y_test, predictions)* 100\n",
        "\n",
        "print(classification_report(y_test, predictions))\n",
        "print(f\"Accuracy:{accuracy_dt}%\" )"
      ]
    },
    {
      "cell_type": "markdown",
      "id": "29a36d29-c2ee-469f-ac35-6159613bb120",
      "metadata": {},
      "source": [
        "With this model, we have an overal accuracy of around 91% which suggests that model is doing a good job.\n",
        "From the result we have a list of the F1 score per each of the category of the target variable. The F1 scores ranges from 0.75 to 1, and is on average 0.91."
      ]
    },
    {
      "cell_type": "markdown",
      "id": "08c77e54-bd30-4e58-8bd7-f88e11084f3f",
      "metadata": {},
      "source": [
        "#### 3.2. KNeighborsClassifier"
      ]
    },
    {
      "cell_type": "markdown",
      "id": "ffca721a-0b6f-4cf9-8ce9-d0a16bc1183a",
      "metadata": {},
      "source": [
        "#### Create and train the model"
      ]
    },
    {
      "cell_type": "code",
      "execution_count": 156,
      "id": "98aa7d87-4b92-42c1-a80e-2ec4cc989866",
      "metadata": {
        "trusted": true
      },
      "outputs": [
        {
          "data": {
            "text/html": [
              "<style>#sk-container-id-19 {color: black;}#sk-container-id-19 pre{padding: 0;}#sk-container-id-19 div.sk-toggleable {background-color: white;}#sk-container-id-19 label.sk-toggleable__label {cursor: pointer;display: block;width: 100%;margin-bottom: 0;padding: 0.3em;box-sizing: border-box;text-align: center;}#sk-container-id-19 label.sk-toggleable__label-arrow:before {content: \"▸\";float: left;margin-right: 0.25em;color: #696969;}#sk-container-id-19 label.sk-toggleable__label-arrow:hover:before {color: black;}#sk-container-id-19 div.sk-estimator:hover label.sk-toggleable__label-arrow:before {color: black;}#sk-container-id-19 div.sk-toggleable__content {max-height: 0;max-width: 0;overflow: hidden;text-align: left;background-color: #f0f8ff;}#sk-container-id-19 div.sk-toggleable__content pre {margin: 0.2em;color: black;border-radius: 0.25em;background-color: #f0f8ff;}#sk-container-id-19 input.sk-toggleable__control:checked~div.sk-toggleable__content {max-height: 200px;max-width: 100%;overflow: auto;}#sk-container-id-19 input.sk-toggleable__control:checked~label.sk-toggleable__label-arrow:before {content: \"▾\";}#sk-container-id-19 div.sk-estimator input.sk-toggleable__control:checked~label.sk-toggleable__label {background-color: #d4ebff;}#sk-container-id-19 div.sk-label input.sk-toggleable__control:checked~label.sk-toggleable__label {background-color: #d4ebff;}#sk-container-id-19 input.sk-hidden--visually {border: 0;clip: rect(1px 1px 1px 1px);clip: rect(1px, 1px, 1px, 1px);height: 1px;margin: -1px;overflow: hidden;padding: 0;position: absolute;width: 1px;}#sk-container-id-19 div.sk-estimator {font-family: monospace;background-color: #f0f8ff;border: 1px dotted black;border-radius: 0.25em;box-sizing: border-box;margin-bottom: 0.5em;}#sk-container-id-19 div.sk-estimator:hover {background-color: #d4ebff;}#sk-container-id-19 div.sk-parallel-item::after {content: \"\";width: 100%;border-bottom: 1px solid gray;flex-grow: 1;}#sk-container-id-19 div.sk-label:hover label.sk-toggleable__label {background-color: #d4ebff;}#sk-container-id-19 div.sk-serial::before {content: \"\";position: absolute;border-left: 1px solid gray;box-sizing: border-box;top: 0;bottom: 0;left: 50%;z-index: 0;}#sk-container-id-19 div.sk-serial {display: flex;flex-direction: column;align-items: center;background-color: white;padding-right: 0.2em;padding-left: 0.2em;position: relative;}#sk-container-id-19 div.sk-item {position: relative;z-index: 1;}#sk-container-id-19 div.sk-parallel {display: flex;align-items: stretch;justify-content: center;background-color: white;position: relative;}#sk-container-id-19 div.sk-item::before, #sk-container-id-19 div.sk-parallel-item::before {content: \"\";position: absolute;border-left: 1px solid gray;box-sizing: border-box;top: 0;bottom: 0;left: 50%;z-index: -1;}#sk-container-id-19 div.sk-parallel-item {display: flex;flex-direction: column;z-index: 1;position: relative;background-color: white;}#sk-container-id-19 div.sk-parallel-item:first-child::after {align-self: flex-end;width: 50%;}#sk-container-id-19 div.sk-parallel-item:last-child::after {align-self: flex-start;width: 50%;}#sk-container-id-19 div.sk-parallel-item:only-child::after {width: 0;}#sk-container-id-19 div.sk-dashed-wrapped {border: 1px dashed gray;margin: 0 0.4em 0.5em 0.4em;box-sizing: border-box;padding-bottom: 0.4em;background-color: white;}#sk-container-id-19 div.sk-label label {font-family: monospace;font-weight: bold;display: inline-block;line-height: 1.2em;}#sk-container-id-19 div.sk-label-container {text-align: center;}#sk-container-id-19 div.sk-container {/* jupyter's `normalize.less` sets `[hidden] { display: none; }` but bootstrap.min.css set `[hidden] { display: none !important; }` so we also need the `!important` here to be able to override the default hidden behavior on the sphinx rendered scikit-learn.org. See: https://github.com/scikit-learn/scikit-learn/issues/21755 */display: inline-block !important;position: relative;}#sk-container-id-19 div.sk-text-repr-fallback {display: none;}</style><div id=\"sk-container-id-19\" class=\"sk-top-container\"><div class=\"sk-text-repr-fallback\"><pre>KNeighborsClassifier()</pre><b>In a Jupyter environment, please rerun this cell to show the HTML representation or trust the notebook. <br />On GitHub, the HTML representation is unable to render, please try loading this page with nbviewer.org.</b></div><div class=\"sk-container\" hidden><div class=\"sk-item\"><div class=\"sk-estimator sk-toggleable\"><input class=\"sk-toggleable__control sk-hidden--visually\" id=\"sk-estimator-id-19\" type=\"checkbox\" checked><label for=\"sk-estimator-id-19\" class=\"sk-toggleable__label sk-toggleable__label-arrow\">KNeighborsClassifier</label><div class=\"sk-toggleable__content\"><pre>KNeighborsClassifier()</pre></div></div></div></div></div>"
            ],
            "text/plain": [
              "KNeighborsClassifier()"
            ]
          },
          "execution_count": 156,
          "metadata": {},
          "output_type": "execute_result"
        }
      ],
      "source": [
        "knn_classifier = KNeighborsClassifier()\n",
        "knn_classifier.fit(X_train, y_train)"
      ]
    },
    {
      "cell_type": "markdown",
      "id": "5c7d3a4b-2b6d-4ef3-b767-3854da9c07e2",
      "metadata": {},
      "source": [
        "#### Model evaluation"
      ]
    },
    {
      "cell_type": "code",
      "execution_count": 157,
      "id": "558190f1-2a24-4380-a7d7-ec40d5a58336",
      "metadata": {
        "trusted": true
      },
      "outputs": [
        {
          "name": "stderr",
          "output_type": "stream",
          "text": [
            "/lib/python3.11/site-packages/threadpoolctl.py:1019: RuntimeWarning: libc not found. The ctypes module in Python 3.11 is maybe too old for this OS.\n",
            "  warnings.warn(\n"
          ]
        },
        {
          "name": "stdout",
          "output_type": "stream",
          "text": [
            "                     precision    recall  f1-score   support\n",
            "\n",
            "Insufficient_Weight       0.80      1.00      0.89        59\n",
            "      Normal_Weight       0.90      0.46      0.61        61\n",
            "     Obesity_Type_I       0.93      0.94      0.94        70\n",
            "    Obesity_Type_II       1.00      1.00      1.00        64\n",
            "   Obesity_Type_III       0.97      1.00      0.98        60\n",
            " Overweight_Level_I       0.75      0.87      0.81        55\n",
            "Overweight_Level_II       0.83      0.88      0.85        49\n",
            "\n",
            "           accuracy                           0.88       418\n",
            "          macro avg       0.88      0.88      0.87       418\n",
            "       weighted avg       0.89      0.88      0.87       418\n",
            "\n",
            "Accuracy:88.03827751196172%\n"
          ]
        }
      ],
      "source": [
        "predictions = knn_classifier.predict(X_test)\n",
        "accuracy_knn = accuracy_score(y_test, predictions)* 100\n",
        "\n",
        "print(classification_report(y_test, predictions))\n",
        "print(f\"Accuracy:{accuracy_knn}%\" )"
      ]
    },
    {
      "cell_type": "markdown",
      "id": "f949cc35-bc65-49ff-abec-7fa73313a2f0",
      "metadata": {},
      "source": [
        "With this model, we have an overal accuracy of around 88% which suggets sthat model is doing a fairly good job.\n",
        "From the result we have a list of the F1 score per each of the category of the target variable. \n",
        "The F1 scores ranges from 0.61 to 1, and is on average 0.87."
      ]
    },
    {
      "cell_type": "markdown",
      "id": "ac0e90f4-b12b-4c15-b6c8-705f8232d10f",
      "metadata": {},
      "source": [
        "#### 3.3. RandomForestClassifier"
      ]
    },
    {
      "cell_type": "code",
      "execution_count": 158,
      "id": "230c30cc-a211-46ad-9b7e-332dfa9f4f61",
      "metadata": {
        "trusted": true
      },
      "outputs": [
        {
          "data": {
            "text/html": [
              "<style>#sk-container-id-20 {color: black;}#sk-container-id-20 pre{padding: 0;}#sk-container-id-20 div.sk-toggleable {background-color: white;}#sk-container-id-20 label.sk-toggleable__label {cursor: pointer;display: block;width: 100%;margin-bottom: 0;padding: 0.3em;box-sizing: border-box;text-align: center;}#sk-container-id-20 label.sk-toggleable__label-arrow:before {content: \"▸\";float: left;margin-right: 0.25em;color: #696969;}#sk-container-id-20 label.sk-toggleable__label-arrow:hover:before {color: black;}#sk-container-id-20 div.sk-estimator:hover label.sk-toggleable__label-arrow:before {color: black;}#sk-container-id-20 div.sk-toggleable__content {max-height: 0;max-width: 0;overflow: hidden;text-align: left;background-color: #f0f8ff;}#sk-container-id-20 div.sk-toggleable__content pre {margin: 0.2em;color: black;border-radius: 0.25em;background-color: #f0f8ff;}#sk-container-id-20 input.sk-toggleable__control:checked~div.sk-toggleable__content {max-height: 200px;max-width: 100%;overflow: auto;}#sk-container-id-20 input.sk-toggleable__control:checked~label.sk-toggleable__label-arrow:before {content: \"▾\";}#sk-container-id-20 div.sk-estimator input.sk-toggleable__control:checked~label.sk-toggleable__label {background-color: #d4ebff;}#sk-container-id-20 div.sk-label input.sk-toggleable__control:checked~label.sk-toggleable__label {background-color: #d4ebff;}#sk-container-id-20 input.sk-hidden--visually {border: 0;clip: rect(1px 1px 1px 1px);clip: rect(1px, 1px, 1px, 1px);height: 1px;margin: -1px;overflow: hidden;padding: 0;position: absolute;width: 1px;}#sk-container-id-20 div.sk-estimator {font-family: monospace;background-color: #f0f8ff;border: 1px dotted black;border-radius: 0.25em;box-sizing: border-box;margin-bottom: 0.5em;}#sk-container-id-20 div.sk-estimator:hover {background-color: #d4ebff;}#sk-container-id-20 div.sk-parallel-item::after {content: \"\";width: 100%;border-bottom: 1px solid gray;flex-grow: 1;}#sk-container-id-20 div.sk-label:hover label.sk-toggleable__label {background-color: #d4ebff;}#sk-container-id-20 div.sk-serial::before {content: \"\";position: absolute;border-left: 1px solid gray;box-sizing: border-box;top: 0;bottom: 0;left: 50%;z-index: 0;}#sk-container-id-20 div.sk-serial {display: flex;flex-direction: column;align-items: center;background-color: white;padding-right: 0.2em;padding-left: 0.2em;position: relative;}#sk-container-id-20 div.sk-item {position: relative;z-index: 1;}#sk-container-id-20 div.sk-parallel {display: flex;align-items: stretch;justify-content: center;background-color: white;position: relative;}#sk-container-id-20 div.sk-item::before, #sk-container-id-20 div.sk-parallel-item::before {content: \"\";position: absolute;border-left: 1px solid gray;box-sizing: border-box;top: 0;bottom: 0;left: 50%;z-index: -1;}#sk-container-id-20 div.sk-parallel-item {display: flex;flex-direction: column;z-index: 1;position: relative;background-color: white;}#sk-container-id-20 div.sk-parallel-item:first-child::after {align-self: flex-end;width: 50%;}#sk-container-id-20 div.sk-parallel-item:last-child::after {align-self: flex-start;width: 50%;}#sk-container-id-20 div.sk-parallel-item:only-child::after {width: 0;}#sk-container-id-20 div.sk-dashed-wrapped {border: 1px dashed gray;margin: 0 0.4em 0.5em 0.4em;box-sizing: border-box;padding-bottom: 0.4em;background-color: white;}#sk-container-id-20 div.sk-label label {font-family: monospace;font-weight: bold;display: inline-block;line-height: 1.2em;}#sk-container-id-20 div.sk-label-container {text-align: center;}#sk-container-id-20 div.sk-container {/* jupyter's `normalize.less` sets `[hidden] { display: none; }` but bootstrap.min.css set `[hidden] { display: none !important; }` so we also need the `!important` here to be able to override the default hidden behavior on the sphinx rendered scikit-learn.org. See: https://github.com/scikit-learn/scikit-learn/issues/21755 */display: inline-block !important;position: relative;}#sk-container-id-20 div.sk-text-repr-fallback {display: none;}</style><div id=\"sk-container-id-20\" class=\"sk-top-container\"><div class=\"sk-text-repr-fallback\"><pre>RandomForestClassifier()</pre><b>In a Jupyter environment, please rerun this cell to show the HTML representation or trust the notebook. <br />On GitHub, the HTML representation is unable to render, please try loading this page with nbviewer.org.</b></div><div class=\"sk-container\" hidden><div class=\"sk-item\"><div class=\"sk-estimator sk-toggleable\"><input class=\"sk-toggleable__control sk-hidden--visually\" id=\"sk-estimator-id-20\" type=\"checkbox\" checked><label for=\"sk-estimator-id-20\" class=\"sk-toggleable__label sk-toggleable__label-arrow\">RandomForestClassifier</label><div class=\"sk-toggleable__content\"><pre>RandomForestClassifier()</pre></div></div></div></div></div>"
            ],
            "text/plain": [
              "RandomForestClassifier()"
            ]
          },
          "execution_count": 158,
          "metadata": {},
          "output_type": "execute_result"
        }
      ],
      "source": [
        "rdf_classifier = RandomForestClassifier()\n",
        "rdf_classifier.fit(X_train, y_train)"
      ]
    },
    {
      "cell_type": "code",
      "execution_count": 159,
      "id": "3ff8e732-09ba-447d-bf3b-9fc2ee3f0602",
      "metadata": {
        "trusted": true
      },
      "outputs": [
        {
          "name": "stdout",
          "output_type": "stream",
          "text": [
            "                     precision    recall  f1-score   support\n",
            "\n",
            "Insufficient_Weight       0.98      0.92      0.95        59\n",
            "      Normal_Weight       0.81      0.93      0.87        61\n",
            "     Obesity_Type_I       1.00      0.96      0.98        70\n",
            "    Obesity_Type_II       1.00      1.00      1.00        64\n",
            "   Obesity_Type_III       1.00      1.00      1.00        60\n",
            " Overweight_Level_I       0.94      0.85      0.90        55\n",
            "Overweight_Level_II       0.90      0.96      0.93        49\n",
            "\n",
            "           accuracy                           0.95       418\n",
            "          macro avg       0.95      0.95      0.95       418\n",
            "       weighted avg       0.95      0.95      0.95       418\n",
            "\n",
            "Accuracy:94.73684210526315%\n"
          ]
        }
      ],
      "source": [
        "predictions = rdf_classifier.predict(X_test)\n",
        "accuracy_rdf = accuracy_score(y_test, predictions)* 100\n",
        "\n",
        "print(classification_report(y_test, predictions))\n",
        "print(f\"Accuracy:{accuracy_rdf}%\" )"
      ]
    },
    {
      "cell_type": "markdown",
      "id": "4c962729-da9c-4c14-bf9e-c2f9dd7c5bba",
      "metadata": {},
      "source": [
        "With this model, we have an overal accuracy of around 94% which suggests that model is doing a good job. From the result we have a list of the F1 score per each of the category of the target variable. The F1 scores ranges from 0.87 to 1, and is on average 0.95."
      ]
    },
    {
      "cell_type": "markdown",
      "id": "c004843e",
      "metadata": {},
      "source": [
        "### 5. Results Interpretation"
      ]
    },
    {
      "cell_type": "markdown",
      "id": "706ca1d7-3f9d-40c3-8199-bf61eda36f6d",
      "metadata": {},
      "source": [
        "If we use the accuracy as a metric, the random forest model performs the best among the 3 models with an accuracy score of 94%. It is followed by the decision model and the KNeighbors model with respectively around 91% and 88% accuracy.\n",
        "When using F1 score, we are getting the same results."
      ]
    },
    {
      "cell_type": "markdown",
      "id": "15555cf2-c56b-4036-a8d9-18f61a75c50f",
      "metadata": {},
      "source": [
        "#### Visualizing the findings"
      ]
    },
    {
      "cell_type": "code",
      "execution_count": 163,
      "id": "2143b4aa-9770-487b-a1a1-6420b3ffdb0b",
      "metadata": {
        "trusted": true
      },
      "outputs": [],
      "source": [
        "f1_dt = 0.91\n",
        "f1_knn = 0.87\n",
        "f1_rdf = 0.95\n",
        "\n",
        "class_models = ['Decision Tree Classifier', 'KNeighbors Classifier', 'Random Forest']\n",
        "accuracy_list = [accuracy_dt, accuracy_knn, accuracy_rdf]\n",
        "f1_list = [f1_dt, f1_knn, f1_rdf]"
      ]
    },
    {
      "cell_type": "code",
      "execution_count": 164,
      "id": "fd569fce-7d05-4478-af15-acb17d9fb0fc",
      "metadata": {
        "trusted": true
      },
      "outputs": [
        {
          "data": {
            "image/png": "[encoded data removed]",
            "text/plain": [
              "<Figure size 640x480 with 2 Axes>"
            ]
          },
          "metadata": {},
          "output_type": "display_data"
        }
      ],
      "source": [
        "fig, axs = pyplot.subplots(nrows=2)\n",
        "sn.barplot(x=class_models, y=accuracy_list, ax=axs[0])\n",
        "axs[0].set_title('Accuracy Comparison')\n",
        "axs[0].set_ylabel('Accuracy')\n",
        "\n",
        "sn.barplot(x=class_models, y=f1_list, ax=axs[1])\n",
        "axs[1].set_title('F1 score Comparison')\n",
        "axs[1].set_ylabel('F1 score')\n",
        "\n",
        "pyplot.tight_layout()\n",
        "pyplot.show()"
      ]
    },
    {
      "cell_type": "markdown",
      "id": "7eab7c1d-c87a-482d-81ba-ca873c005b31",
      "metadata": {},
      "source": [
        "As we have stated earlier, we can see that the Random Forest model has the highest F1 Score and the best accuracy, followed by the decision tree classifier, then the KNeighbors classifier. "
      ]
    },
    {
      "cell_type": "markdown",
      "id": "bc885c18",
      "metadata": {},
      "source": [
        "## Potential implications of results in real-world scenarios"
      ]
    },
    {
      "cell_type": "markdown",
      "id": "ee7ed0f8-fa4b-4752-8e30-68145e61cb64",
      "metadata": {},
      "source": [
        "The car prediction model can be used as a starting point to generate a rough estimate of car prices for a company that wishes to enter a market. We have seen that a Random Forest Regressor performs the best. \n",
        "The obesity level prediction model can also be used as a starting point to predict obesity in individuals, helping individuals to switch their habits to become healthier."
      ]
    },
    {
      "cell_type": "markdown",
      "id": "b6c0709a",
      "metadata": {},
      "source": [
        "## Summary"
      ]
    },
    {
      "cell_type": "markdown",
      "id": "dda1b415-b6a8-48ca-a315-af3906c10f76",
      "metadata": {},
      "source": [
        "Through this project, we have applied regression methods to predict the price of vehicles based on features such as aspiration, door numbers, fuel types, cylinder numbers, horsepower, etc. We downloaded the dataset online from Kaggle, pre-processed it by finding missing values or duplicated values, addressing outliers, handling variable types, and feature engineering. After training a Linear Regression model, a Random Forest model, and a Gradient Boosting Regressor model, we have seen from the evaluation that the Random Forest Regressor performs better than the other models.\n",
        "\n",
        "In the second half of this project, we have utilized classification methods to categorize the level of obesity of an individual based on their lifestyle and their background. We have also downloaded this dataset from Kaggle, and pre-processed it by finding missing values, addressing duplicated values, and transforming the variables. After creating and training a Decision Tree Classifier, a KNeighbors Classifier, and a Random Forest Classifier, we have seen that the Random Forest Classifier has the best performance."
      ]
    },
    {
      "cell_type": "markdown",
      "id": "c8234f14",
      "metadata": {},
      "source": [
        "## Reflection"
      ]
    },
    {
      "cell_type": "markdown",
      "id": "07402713-c583-4ff8-be02-3b89def3273f",
      "metadata": {},
      "source": [
        "The first challenge while working on this project was choosing topics that were relevant and that I found good enough to work with. I have browsed different datasets online and investigated them one by one. The only way to address this challenge was by researching. I took my time to browse different datasets on Kaggle until I found the car price prediction and the obesity classification data sets.\n",
        "\n",
        "Then, the second challenge was finding what kind of preprocessing should I apply to the data set. We have been taught data preprocessing techniques in class, but I knew that more was expected from this project as written in the project guidelines. To address that, I researched similar problems online and investigated how machine learning practitioners solved the same issue.\n",
        "\n",
        "This project allowed me to experiment with algorithms I have not used before, and helped me learn more about these algorithms as I had to read about them."
      ]
    }
  ],
  "metadata": {
    "kernelspec": {
      "display_name": "Python (Pyodide)",
      "language": "python",
      "name": "python"
    },
    "language_info": {
      "codemirror_mode": {
        "name": "python",
        "version": 3
      },
      "file_extension": ".py",
      "mimetype": "text/x-python",
      "name": "python",
      "nbconvert_exporter": "python",
      "pygments_lexer": "ipython3",
      "version": "3.8"
    }
  },
  "nbformat": 4,
  "nbformat_minor": 5
}
