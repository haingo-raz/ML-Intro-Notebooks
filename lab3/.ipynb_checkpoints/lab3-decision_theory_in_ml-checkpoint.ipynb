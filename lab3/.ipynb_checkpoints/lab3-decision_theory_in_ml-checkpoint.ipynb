{
 "cells": [
  {
   "cell_type": "markdown",
   "metadata": {},
   "source": [
    "# Lab 3 - Decision Theory in Machine Learning\n",
    "\n",
    "Welcome to this week's lab on Decision Theory! This week, we are going to explore the basics of making decisions using simple and intuitive examples. Ads we have not yet started discussing neural networks, there is no need for deep knowledge in machine learning or neural networks here. We are focusing on the core principles that underlie decision-making in computational systems.\n",
    "\n",
    "## Objectives\n",
    "\n",
    "1. Understand the fundamentals of Decision Theory.\n",
    "2. Apply Decision Theory to solve simple problems.\n",
    "3. Develop the skills to implement basic decision-making systems."
   ]
  },
  {
   "cell_type": "markdown",
   "metadata": {},
   "source": [
    "## Part 1: Choosing a Vacation Destination\n",
    "\n",
    "In this example, we will decide on a vacation destination based on various factors like cost, distance, and activities."
   ]
  },
  {
   "cell_type": "markdown",
   "metadata": {},
   "source": [
    "### Step 1: Define the Problem\n",
    "\n",
    "Let's define the problem:\n",
    "- We have 3 vacation destinations: Beach, Mountain, and City.\n",
    "- Each destination is evaluated based on three criteria: cost (low, medium, high), distance (near, far), and activities (few, many)."
   ]
  },
  {
   "cell_type": "markdown",
   "metadata": {},
   "source": [
    "### Step 2: Create the Decision Matrix\n",
    "\n",
    "One approach to tackle such problems is to create a Decision Matrix! A Dcision Matrix for this problem can be created as below:"
   ]
  },
  {
   "cell_type": "code",
   "execution_count": 5,
   "metadata": {},
   "outputs": [],
   "source": [
    "import pandas as pd\n",
    "\n",
    "# Define the decision matrix\n",
    "data = {\n",
    "    'Cost': ['Low', 'High', 'Medium'],\n",
    "    'Distance': ['Near', 'Far', 'Near'],\n",
    "    'Activities': ['Many', 'Few', 'Many']\n",
    "}\n",
    "destinations = pd.DataFrame(data, index=['Beach', 'Mountain', 'City'])\n"
   ]
  },
  {
   "cell_type": "markdown",
   "metadata": {},
   "source": [
    "### Step 3: Apply Decision Rules\n",
    "\n",
    "We can create a simple scoring system for each criterion (e.g., Low Cost = 3 points, High Cost = 1 point). Then we can calculate the total score for each destination."
   ]
  },
  {
   "cell_type": "code",
   "execution_count": 3,
   "metadata": {},
   "outputs": [],
   "source": [
    "# Decision rules as functions\n",
    "def cost_score(cost):\n",
    "    if cost == 'Low':\n",
    "        return 3\n",
    "    elif cost == 'Medium':\n",
    "        return 2\n",
    "    else:\n",
    "        return 1\n",
    "\n",
    "def distance_score(distance):\n",
    "    return 3 if distance == 'Near' else 1\n",
    "\n",
    "def activities_score(activities):\n",
    "    return 3 if activities == 'Many' else 1"
   ]
  },
  {
   "cell_type": "markdown",
   "metadata": {},
   "source": [
    "### Step 4: Make a Decision\n",
    "\n",
    "Now, we are ready to make a decision on which destination to choose based on the highest score."
   ]
  },
  {
   "cell_type": "code",
   "execution_count": 4,
   "metadata": {},
   "outputs": [
    {
     "data": {
      "text/html": [
       "<div>\n",
       "<style scoped>\n",
       "    .dataframe tbody tr th:only-of-type {\n",
       "        vertical-align: middle;\n",
       "    }\n",
       "\n",
       "    .dataframe tbody tr th {\n",
       "        vertical-align: top;\n",
       "    }\n",
       "\n",
       "    .dataframe thead th {\n",
       "        text-align: right;\n",
       "    }\n",
       "</style>\n",
       "<table border=\"1\" class=\"dataframe\">\n",
       "  <thead>\n",
       "    <tr style=\"text-align: right;\">\n",
       "      <th></th>\n",
       "      <th>Cost</th>\n",
       "      <th>Distance</th>\n",
       "      <th>Activities</th>\n",
       "      <th>Total Score</th>\n",
       "    </tr>\n",
       "  </thead>\n",
       "  <tbody>\n",
       "    <tr>\n",
       "      <th>Beach</th>\n",
       "      <td>Low</td>\n",
       "      <td>Near</td>\n",
       "      <td>Many</td>\n",
       "      <td>9</td>\n",
       "    </tr>\n",
       "    <tr>\n",
       "      <th>Mountain</th>\n",
       "      <td>High</td>\n",
       "      <td>Far</td>\n",
       "      <td>Few</td>\n",
       "      <td>3</td>\n",
       "    </tr>\n",
       "    <tr>\n",
       "      <th>City</th>\n",
       "      <td>Medium</td>\n",
       "      <td>Near</td>\n",
       "      <td>Many</td>\n",
       "      <td>8</td>\n",
       "    </tr>\n",
       "  </tbody>\n",
       "</table>\n",
       "</div>"
      ],
      "text/plain": [
       "            Cost Distance Activities  Total Score\n",
       "Beach        Low     Near       Many            9\n",
       "Mountain    High      Far        Few            3\n",
       "City      Medium     Near       Many            8"
      ]
     },
     "execution_count": 4,
     "metadata": {},
     "output_type": "execute_result"
    }
   ],
   "source": [
    "# Calculate scores\n",
    "destinations['Total Score'] = destinations.apply(lambda x: cost_score(x['Cost']) + distance_score(x['Distance']) + activities_score(x['Activities']), axis=1)\n",
    "\n",
    "# Display the result\n",
    "destinations"
   ]
  },
  {
   "cell_type": "markdown",
   "metadata": {},
   "source": [
    "## Part 2: Choosing a Smartphone\n",
    "\n",
    "Your task is to choose a smartphone based on different criteria like price, battery life, and camera quality.\n",
    "\n",
    "Tasks\n",
    "Define your criteria for selecting a smartphone.\n",
    "Set up a decision matrix for different smartphone options.\n",
    "Apply decision rules to score each smartphone.\n",
    "Make a decision based on the highest score.\n",
    "Guidelines\n",
    "Think about the factors that are most important to you in a smartphone.\n",
    "Be creative in defining your scoring system."
   ]
  },
  {
   "cell_type": "markdown",
   "metadata": {},
   "source": [
    "### Task 1: Criteria\n",
    "Define your criteria for selecting a smartphone."
   ]
  },
  {
   "cell_type": "markdown",
   "metadata": {},
   "source": [
    "The criterias that are going to be used to choose a smartphone are: \n",
    "- Price\n",
    "- Memory\n",
    "- Camera quality\n",
    "- Battery life"
   ]
  },
  {
   "cell_type": "markdown",
   "metadata": {},
   "source": [
    "### Task 2: Decision Matrix\n",
    "Set up a decision matrix for different smartphone options."
   ]
  },
  {
   "cell_type": "code",
   "execution_count": 17,
   "metadata": {},
   "outputs": [
    {
     "data": {
      "text/html": [
       "<div>\n",
       "<style scoped>\n",
       "    .dataframe tbody tr th:only-of-type {\n",
       "        vertical-align: middle;\n",
       "    }\n",
       "\n",
       "    .dataframe tbody tr th {\n",
       "        vertical-align: top;\n",
       "    }\n",
       "\n",
       "    .dataframe thead th {\n",
       "        text-align: right;\n",
       "    }\n",
       "</style>\n",
       "<table border=\"1\" class=\"dataframe\">\n",
       "  <thead>\n",
       "    <tr style=\"text-align: right;\">\n",
       "      <th></th>\n",
       "      <th>Price</th>\n",
       "      <th>Memory</th>\n",
       "      <th>Camera Quality</th>\n",
       "      <th>Battery Life</th>\n",
       "    </tr>\n",
       "  </thead>\n",
       "  <tbody>\n",
       "    <tr>\n",
       "      <th>Phone 1</th>\n",
       "      <td>Low</td>\n",
       "      <td>Low</td>\n",
       "      <td>Low</td>\n",
       "      <td>Medium</td>\n",
       "    </tr>\n",
       "    <tr>\n",
       "      <th>Phone 2</th>\n",
       "      <td>Medium</td>\n",
       "      <td>Low</td>\n",
       "      <td>High</td>\n",
       "      <td>Short</td>\n",
       "    </tr>\n",
       "    <tr>\n",
       "      <th>Phone 3</th>\n",
       "      <td>Expensive</td>\n",
       "      <td>High</td>\n",
       "      <td>High</td>\n",
       "      <td>Long</td>\n",
       "    </tr>\n",
       "  </tbody>\n",
       "</table>\n",
       "</div>"
      ],
      "text/plain": [
       "             Price Memory Camera Quality Battery Life\n",
       "Phone 1        Low    Low            Low       Medium\n",
       "Phone 2     Medium    Low           High        Short\n",
       "Phone 3  Expensive   High           High         Long"
      ]
     },
     "execution_count": 17,
     "metadata": {},
     "output_type": "execute_result"
    }
   ],
   "source": [
    "criteria = {\n",
    "    'Price': ['Low', 'Medium', 'Expensive'],\n",
    "    'Memory': ['Low', 'Low', 'High'],\n",
    "    'Camera Quality': ['Low', 'High', 'High'],\n",
    "    'Battery Life': ['Medium', 'Short', 'Long']   \n",
    "}\n",
    "\n",
    "smartphones = pd.DataFrame(criteria, index=['Phone 1', 'Phone 2', 'Phone 3'])\n",
    "\n",
    "smartphones"
   ]
  },
  {
   "cell_type": "markdown",
   "metadata": {},
   "source": [
    "### Task 3: Apply Decision Rules\n",
    "Apply decision rules to score each smartphone."
   ]
  },
  {
   "cell_type": "code",
   "execution_count": 20,
   "metadata": {},
   "outputs": [],
   "source": [
    "def price_score(price):\n",
    "    if price == 'Low':\n",
    "        return 3\n",
    "    elif price == 'Medium':\n",
    "        return 2\n",
    "    else:\n",
    "        return 1\n",
    "    \n",
    "def memory_score(memory):\n",
    "    return 3 if memory == 'High' else 1\n",
    "\n",
    "def camera_q_score(camera_q):\n",
    "    return 3 if camera_q == 'High' else 1\n",
    "\n",
    "def battery_score(battery):\n",
    "    if battery == 'Long':\n",
    "        return 3\n",
    "    elif battery == 'Medium':\n",
    "        return 2\n",
    "    else:\n",
    "        return 1 "
   ]
  },
  {
   "cell_type": "markdown",
   "metadata": {},
   "source": [
    "### Task 4: Final Decision\n",
    "Make a decision based on the highest score."
   ]
  },
  {
   "cell_type": "code",
   "execution_count": 21,
   "metadata": {},
   "outputs": [
    {
     "data": {
      "text/html": [
       "<div>\n",
       "<style scoped>\n",
       "    .dataframe tbody tr th:only-of-type {\n",
       "        vertical-align: middle;\n",
       "    }\n",
       "\n",
       "    .dataframe tbody tr th {\n",
       "        vertical-align: top;\n",
       "    }\n",
       "\n",
       "    .dataframe thead th {\n",
       "        text-align: right;\n",
       "    }\n",
       "</style>\n",
       "<table border=\"1\" class=\"dataframe\">\n",
       "  <thead>\n",
       "    <tr style=\"text-align: right;\">\n",
       "      <th></th>\n",
       "      <th>Price</th>\n",
       "      <th>Memory</th>\n",
       "      <th>Camera Quality</th>\n",
       "      <th>Battery Life</th>\n",
       "      <th>Total Score</th>\n",
       "    </tr>\n",
       "  </thead>\n",
       "  <tbody>\n",
       "    <tr>\n",
       "      <th>Phone 1</th>\n",
       "      <td>Low</td>\n",
       "      <td>Low</td>\n",
       "      <td>Low</td>\n",
       "      <td>Medium</td>\n",
       "      <td>7</td>\n",
       "    </tr>\n",
       "    <tr>\n",
       "      <th>Phone 2</th>\n",
       "      <td>Medium</td>\n",
       "      <td>Low</td>\n",
       "      <td>High</td>\n",
       "      <td>Short</td>\n",
       "      <td>7</td>\n",
       "    </tr>\n",
       "    <tr>\n",
       "      <th>Phone 3</th>\n",
       "      <td>Expensive</td>\n",
       "      <td>High</td>\n",
       "      <td>High</td>\n",
       "      <td>Long</td>\n",
       "      <td>10</td>\n",
       "    </tr>\n",
       "  </tbody>\n",
       "</table>\n",
       "</div>"
      ],
      "text/plain": [
       "             Price Memory Camera Quality Battery Life  Total Score\n",
       "Phone 1        Low    Low            Low       Medium            7\n",
       "Phone 2     Medium    Low           High        Short            7\n",
       "Phone 3  Expensive   High           High         Long           10"
      ]
     },
     "execution_count": 21,
     "metadata": {},
     "output_type": "execute_result"
    }
   ],
   "source": [
    "# Calculate scores\n",
    "smartphones['Total Score'] = smartphones.apply(lambda x: price_score(x['Price']) + memory_score(x['Memory']) + camera_q_score(x['Camera Quality']) + battery_score(x['Battery Life']), axis=1)\n",
    "\n",
    "# Display the result\n",
    "smartphones\n",
    "\n",
    "# Phone 3 gets the highest score"
   ]
  },
  {
   "cell_type": "markdown",
   "metadata": {},
   "source": [
    "### Task 5: Evaluation and Reflection\n",
    "Write your perspective about Decision Theory. Could the given problem be solved using a different methodology? Explain your answer."
   ]
  },
  {
   "cell_type": "markdown",
   "metadata": {},
   "source": [
    "Perspective about Decision Theory\n",
    "I think decision theory is effective when it comes to choosing the best course of action among multiple options. Especially \n",
    "in this lab, it was used to translate features into scores that can help us decide on the best smartphone.\n",
    "\n",
    "\n",
    "Different methodologies\n",
    "Yes, this given problem could have been solved using other methodologies such as:\n",
    "1) Collaborative filtering whereby a group of people with similar preferences is used as a reference in order to provide a smartphone recommendation.\n",
    "2) Reinforcement learning whereby an agent would be trained to recommend a smartphone based on user preferences."
   ]
  },
  {
   "cell_type": "markdown",
   "metadata": {},
   "source": [
    "## Submission\n",
    "Submit a link to your completed Jupyter Notebook file hosted on your private GitHub repository through the submission link in Blackboard."
   ]
  }
 ],
 "metadata": {
  "kernelspec": {
   "display_name": "Python 3 (ipykernel)",
   "language": "python",
   "name": "python3"
  },
  "language_info": {
   "codemirror_mode": {
    "name": "ipython",
    "version": 3
   },
   "file_extension": ".py",
   "mimetype": "text/x-python",
   "name": "python",
   "nbconvert_exporter": "python",
   "pygments_lexer": "ipython3",
   "version": "3.11.5"
  }
 },
 "nbformat": 4,
 "nbformat_minor": 2
}
