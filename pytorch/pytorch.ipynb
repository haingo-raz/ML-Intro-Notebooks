{
 "cells": [
  {
   "cell_type": "markdown",
   "metadata": {},
   "source": [
    "# Lab 8 - PyTorch\n",
    "\n",
    "Pytorch is a popular open-source library widely used for applications such as computer vision and natural language processing. PyTorch is known for its ease of use, efficiency, and dynamic computational graph."
   ]
  },
  {
   "cell_type": "markdown",
   "metadata": {},
   "source": [
    "## Part 1: Getting Started with PyTorch"
   ]
  },
  {
   "cell_type": "markdown",
   "metadata": {},
   "source": [
    "Run this command to install Pytorch locally"
   ]
  },
  {
   "cell_type": "code",
   "execution_count": null,
   "metadata": {},
   "outputs": [],
   "source": [
    "conda install pytorch torchvision torchaudio cpuonly -c pytorch"
   ]
  },
  {
   "cell_type": "markdown",
   "metadata": {},
   "source": [
    "### Basic Concepts\n",
    "#### Tensors\n",
    "Tensors are the fundamental unit of data in PyTorch, similar to NumPy arrays but with GPU acceleration."
   ]
  },
  {
   "cell_type": "code",
   "execution_count": 1,
   "metadata": {},
   "outputs": [
    {
     "name": "stdout",
     "output_type": "stream",
     "text": [
      "tensor([[1, 2],\n",
      "        [3, 4]])\n"
     ]
    }
   ],
   "source": [
    "import torch\n",
    "\n",
    "# Create a tensor\n",
    "tensor = torch.tensor([[1, 2], [3, 4]])\n",
    "print(tensor)"
   ]
  },
  {
   "cell_type": "markdown",
   "metadata": {},
   "source": [
    "#### Operations\n",
    "Operations in PyTorch allow you to perform mathematical computations on tensors."
   ]
  },
  {
   "cell_type": "code",
   "execution_count": 2,
   "metadata": {},
   "outputs": [
    {
     "name": "stdout",
     "output_type": "stream",
     "text": [
      "tensor([[6, 7],\n",
      "        [8, 9]])\n",
      "tensor([[2, 4],\n",
      "        [6, 8]])\n"
     ]
    }
   ],
   "source": [
    "# Addition\n",
    "tensor_add = tensor + 5\n",
    "print(tensor_add)\n",
    "\n",
    "# Multiplication\n",
    "tensor_mul = tensor * 2\n",
    "print(tensor_mul)"
   ]
  },
  {
   "cell_type": "markdown",
   "metadata": {},
   "source": [
    "#### Autograd\n",
    "PyTorch's automatic differentiation engine, `torch.autograd`, is one of its most powerful features, enabling the automatic computation of gradients—essential for backpropagation in neural networks."
   ]
  },
  {
   "cell_type": "code",
   "execution_count": 3,
   "metadata": {},
   "outputs": [
    {
     "name": "stdout",
     "output_type": "stream",
     "text": [
      "tensor([[4.5000, 4.5000],\n",
      "        [4.5000, 4.5000]])\n"
     ]
    }
   ],
   "source": [
    "# Create tensors with requires_grad=True to track computation\n",
    "x = torch.ones(2, 2, requires_grad=True)\n",
    "y = x + 2\n",
    "z = y * y * 3\n",
    "out = z.mean()\n",
    "\n",
    "# Compute gradients\n",
    "out.backward()\n",
    "print(x.grad)"
   ]
  },
  {
   "cell_type": "markdown",
   "metadata": {},
   "source": [
    "### Gradients and backpropagation"
   ]
  },
  {
   "cell_type": "markdown",
   "metadata": {},
   "source": [
    "In the context of backpropagation, gradients are used to indicate how the loss or error function changes with respect to the weights and biases of the network. Gradients also provide informatin about how the parameters of a neural network should be adjusted to minimize the error between predicted and actual outputs.\n",
    "\n",
    "GeeksforGeeks (2024) Backpropagation in Machine Learning. Available at: https://www.geeksforgeeks.org/backpropagation-in-machine-learning/"
   ]
  },
  {
   "cell_type": "markdown",
   "metadata": {},
   "source": [
    "#### Building a Simple Model\n"
   ]
  },
  {
   "cell_type": "code",
   "execution_count": 4,
   "metadata": {},
   "outputs": [],
   "source": [
    "# Define a linear model\n",
    "model = torch.nn.Linear(1, 1)\n",
    "\n",
    "# Loss function and optimizer\n",
    "criterion = torch.nn.MSELoss()\n",
    "optimizer = torch.optim.SGD(model.parameters(), lr=0.01)"
   ]
  },
  {
   "cell_type": "markdown",
   "metadata": {},
   "source": [
    "* The first input provided in `torch.nn.Linear` is the size of each input sample.\n",
    "* The second input is the size of each output sample."
   ]
  },
  {
   "cell_type": "markdown",
   "metadata": {},
   "source": [
    "## Part 2: Implement a Multi-Layer Neural Network with PyTorch\n",
    "\n",
    "Let's build a multi-layer neural network to classify points into two categories based on their location in a 2D space. This is a step up in complexity and will help illustrate the power of deep neural networks."
   ]
  },
  {
   "cell_type": "markdown",
   "metadata": {},
   "source": [
    "### Task 1: Generate Synthetic Data\n",
    "First, we need to generate some data that isn't linearly separable, which will require the expressiveness of a multi-layer network to classify correctly."
   ]
  },
  {
   "cell_type": "code",
   "execution_count": 5,
   "metadata": {},
   "outputs": [],
   "source": [
    "import torch\n",
    "import numpy as np\n",
    "\n",
    "# Generating a spiral dataset\n",
    "N = 100  # number of points per class\n",
    "D = 2  # dimensionality\n",
    "K = 2  # number of classes\n",
    "X = np.zeros((N*K, D))  # data matrix (each row = single example)\n",
    "y = np.zeros(N*K, dtype='uint8')  # class labels\n",
    "\n",
    "for j in range(K):\n",
    "  ix = range(N*j, N*(j+1))\n",
    "  r = np.linspace(0.0, 1, N)  # radius\n",
    "  t = np.linspace(j*4, (j+1)*4, N) + np.random.randn(N)*0.2  # theta\n",
    "  X[ix] = np.c_[r*np.sin(t), r*np.cos(t)]\n",
    "  y[ix] = j\n",
    "\n",
    "X = torch.from_numpy(X).float()\n",
    "y = torch.from_numpy(y).long()"
   ]
  },
  {
   "cell_type": "markdown",
   "metadata": {},
   "source": [
    "### Task 2: Define the Model\n",
    "You need to define a model with two hidden layers. Each hidden layer will have a `ReLU` activation function for non-linearity. Use `Cross Entropy` as the loss function and use `Adam` as the optimizer.\n",
    "    "
   ]
  },
  {
   "cell_type": "code",
   "execution_count": 6,
   "metadata": {},
   "outputs": [],
   "source": [
    "# Define a simple multi-layer network\n",
    "model = torch.nn.Sequential(\n",
    "    torch.nn.Linear(2, 100),  # 2 inputs, to 100 neurons in the first hidden layer\n",
    "    torch.nn.ReLU(),\n",
    "    torch.nn.Linear(100, 50),  # Second hidden layer, 50 neurons\n",
    "    torch.nn.ReLU(),\n",
    "    torch.nn.Linear(50, 2)  # Output layer, 2 outputs for our classes\n",
    ")\n",
    "\n",
    "# Loss and optimizer\n",
    "criterion = torch.nn.CrossEntropyLoss()\n",
    "optimizer = torch.optim.Adam(model.parameters(), lr=0.01)"
   ]
  },
  {
   "cell_type": "markdown",
   "metadata": {},
   "source": [
    "### Task 3: Train the Model\n",
    "With our data and model defined, let's train the network for `1000` epochs!"
   ]
  },
  {
   "cell_type": "code",
   "execution_count": 7,
   "metadata": {},
   "outputs": [
    {
     "name": "stdout",
     "output_type": "stream",
     "text": [
      "Epoch 0: loss = 0.7031658291816711\n",
      "Epoch 100: loss = 0.012976198457181454\n",
      "Epoch 200: loss = 0.008972019888460636\n",
      "Epoch 300: loss = 0.00788886658847332\n",
      "Epoch 400: loss = 0.007473694626241922\n",
      "Epoch 500: loss = 0.0072898841463029385\n",
      "Epoch 600: loss = 0.007188757881522179\n",
      "Epoch 700: loss = 0.007222925312817097\n",
      "Epoch 800: loss = 0.007346448954194784\n",
      "Epoch 900: loss = 0.007383047137409449\n"
     ]
    }
   ],
   "source": [
    "# Train the model\n",
    "# Training loop\n",
    "for epoch in range(1000):\n",
    "    # Forward pass: Compute predicted y\n",
    "    y_pred = model(X)\n",
    "\n",
    "    # Compute loss\n",
    "    loss = criterion(y_pred, y)\n",
    "    \n",
    "    # Zero gradients, backward pass, and update\n",
    "    optimizer.zero_grad()\n",
    "    loss.backward()\n",
    "    optimizer.step()\n",
    "    \n",
    "    if epoch % 100 == 0:\n",
    "        print(f'Epoch {epoch}: loss = {loss.item()}')"
   ]
  },
  {
   "cell_type": "markdown",
   "metadata": {},
   "source": [
    "### Task 4: Evaluate the Model\n",
    "To evaluate our model, we will visualize how well it separates the classes in our 2D space."
   ]
  },
  {
   "cell_type": "code",
   "execution_count": 8,
   "metadata": {},
   "outputs": [
    {
     "data": {
      "image/png": "[encoded data removed]",
      "text/plain": [
       "<Figure size 640x480 with 1 Axes>"
      ]
     },
     "metadata": {},
     "output_type": "display_data"
    }
   ],
   "source": [
    "# We will use matplotlib to plot the decision boundary\n",
    "import matplotlib.pyplot as plt\n",
    "\n",
    "def plot_decision_boundary(pred_func):\n",
    "    # Set min and max values and give it some padding\n",
    "    x_min, x_max = X[:, 0].min() - .5, X[:, 0].max() + .5\n",
    "    y_min, y_max = X[:, 1].min() - .5, X[:, 1].max() + .5\n",
    "    h = 0.01\n",
    "    \n",
    "    # Generate a grid of points with distance h between them\n",
    "    xx, yy = np.meshgrid(np.arange(x_min, x_max, h), np.arange(y_min, y_max, h))\n",
    "    \n",
    "    # Predict the function value for the whole grid\n",
    "    Z = pred_func(np.c_[xx.ravel(), yy.ravel()])\n",
    "    Z = Z.reshape(xx.shape)\n",
    "    \n",
    "    # Plot the contour and training examples\n",
    "    plt.contourf(xx, yy, Z, alpha=0.8)\n",
    "    plt.scatter(X[:, 0], X[:, 1], c=y, s=40, edgecolor='k')\n",
    "    plt.xlim(xx.min(), xx.max())\n",
    "    plt.ylim(yy.min(), yy.max())\n",
    "\n",
    "# Model prediction for a numpy array\n",
    "def predict(X):\n",
    "    X = torch.from_numpy(X).float()\n",
    "    y_pred = model(X)\n",
    "    return np.argmax(y_pred.data.numpy(), axis=1)\n",
    "\n",
    "# Plot the decision boundary\n",
    "plot_decision_boundary(lambda x: predict(x))\n",
    "plt.title(\"Decision Boundary\")\n",
    "plt.show()"
   ]
  }
 ],
 "metadata": {
  "kernelspec": {
   "display_name": "Python 3 (ipykernel)",
   "language": "python",
   "name": "python3"
  },
  "language_info": {
   "codemirror_mode": {
    "name": "ipython",
    "version": 3
   },
   "file_extension": ".py",
   "mimetype": "text/x-python",
   "name": "python",
   "nbconvert_exporter": "python",
   "pygments_lexer": "ipython3",
   "version": "3.11.7"
  }
 },
 "nbformat": 4,
 "nbformat_minor": 4
}
