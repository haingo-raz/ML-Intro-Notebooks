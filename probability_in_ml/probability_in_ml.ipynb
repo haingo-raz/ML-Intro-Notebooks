{
 "cells": [
  {
   "cell_type": "markdown",
   "metadata": {},
   "source": [
    "# Probability in Machine Learning\n",
    "\n",
    "Exploring how probability theory plays a crucial role in machine learning. Using a simple coin flip example to grasp the basics and then move on to build a Bayesian email classifier. Let's dive in!\n",
    "\n",
    "## Setting Up the Environment\n"
   ]
  },
  {
   "cell_type": "code",
   "execution_count": 1,
   "metadata": {},
   "outputs": [],
   "source": [
    "import pandas as pd\n",
    "import numpy as np"
   ]
  },
  {
   "cell_type": "markdown",
   "metadata": {},
   "source": [
    "## Part 1: Coin Flip Probability Example\n",
    "\n",
    "\n",
    "### Simulating Coin Flips\n",
    "We will simulate flipping a coin 1000 times.\n"
   ]
  },
  {
   "cell_type": "code",
   "execution_count": 3,
   "metadata": {},
   "outputs": [
    {
     "name": "stdout",
     "output_type": "stream",
     "text": [
      "['tails' 'tails' 'heads' 'tails' 'heads' 'tails' 'tails' 'tails' 'heads'\n",
      " 'heads' 'tails' 'tails' 'heads' 'tails' 'heads' 'heads' 'tails' 'heads'\n",
      " 'heads' 'tails' 'tails' 'heads' 'tails' 'tails' 'tails' 'heads' 'heads'\n",
      " 'heads' 'tails' 'heads' 'tails' 'heads' 'tails' 'tails' 'tails' 'heads'\n",
      " 'heads' 'heads' 'heads' 'tails' 'heads' 'tails' 'heads' 'heads' 'heads'\n",
      " 'tails' 'tails' 'tails' 'tails' 'heads' 'tails' 'tails' 'heads' 'tails'\n",
      " 'tails' 'heads' 'heads' 'tails' 'tails' 'tails' 'tails' 'heads' 'tails'\n",
      " 'heads' 'tails' 'heads' 'tails' 'heads' 'heads' 'tails' 'heads' 'heads'\n",
      " 'heads' 'heads' 'heads' 'heads' 'heads' 'tails' 'tails' 'heads' 'heads'\n",
      " 'heads' 'tails' 'heads' 'tails' 'heads' 'heads' 'heads' 'tails' 'tails'\n",
      " 'tails' 'heads' 'tails' 'heads' 'heads' 'tails' 'heads' 'tails' 'heads'\n",
      " 'tails' 'tails' 'heads' 'heads' 'tails' 'tails' 'heads' 'heads' 'tails'\n",
      " 'tails' 'heads' 'tails' 'heads' 'tails' 'tails' 'tails' 'tails' 'heads'\n",
      " 'tails' 'tails' 'tails' 'heads' 'tails' 'tails' 'tails' 'heads' 'heads'\n",
      " 'tails' 'tails' 'tails' 'heads' 'tails' 'heads' 'tails' 'heads' 'tails'\n",
      " 'tails' 'tails' 'tails' 'tails' 'heads' 'heads' 'heads' 'tails' 'tails'\n",
      " 'heads' 'tails' 'heads' 'tails' 'heads' 'heads' 'heads' 'heads' 'heads'\n",
      " 'heads' 'tails' 'tails' 'heads' 'tails' 'tails' 'heads' 'tails' 'heads'\n",
      " 'heads' 'tails' 'heads' 'heads' 'tails' 'heads' 'tails' 'heads' 'tails'\n",
      " 'tails' 'tails' 'tails' 'heads' 'tails' 'tails' 'tails' 'tails' 'tails'\n",
      " 'tails' 'tails' 'tails' 'heads' 'tails' 'tails' 'tails' 'heads' 'tails'\n",
      " 'tails' 'tails' 'heads' 'heads' 'tails' 'heads' 'heads' 'tails' 'heads'\n",
      " 'heads' 'tails' 'heads' 'heads' 'tails' 'heads' 'tails' 'heads' 'heads'\n",
      " 'heads' 'heads' 'tails' 'heads' 'tails' 'heads' 'heads' 'tails' 'heads'\n",
      " 'heads' 'tails' 'heads' 'heads' 'heads' 'tails' 'heads' 'tails' 'tails'\n",
      " 'heads' 'heads' 'heads' 'heads' 'tails' 'tails' 'heads' 'tails' 'heads'\n",
      " 'tails' 'tails' 'tails' 'tails' 'tails' 'heads' 'heads' 'heads' 'heads'\n",
      " 'heads' 'tails' 'heads' 'tails' 'heads' 'tails' 'tails' 'tails' 'heads'\n",
      " 'heads' 'tails' 'heads' 'heads' 'tails' 'heads' 'heads' 'heads' 'heads'\n",
      " 'tails' 'tails' 'tails' 'tails' 'tails' 'heads' 'tails' 'heads' 'heads'\n",
      " 'heads' 'tails' 'heads' 'heads' 'heads' 'heads' 'tails' 'heads' 'tails'\n",
      " 'heads' 'heads' 'tails' 'tails' 'tails' 'tails' 'tails' 'heads' 'heads'\n",
      " 'tails' 'heads' 'tails' 'heads' 'heads' 'tails' 'tails' 'heads' 'heads'\n",
      " 'heads' 'tails' 'heads' 'heads' 'heads' 'tails' 'tails' 'heads' 'tails'\n",
      " 'tails' 'heads' 'heads' 'tails' 'tails' 'tails' 'heads' 'heads' 'heads'\n",
      " 'heads' 'tails' 'heads' 'tails' 'tails' 'tails' 'heads' 'heads' 'tails'\n",
      " 'heads' 'heads' 'heads' 'heads' 'heads' 'tails' 'tails' 'tails' 'heads'\n",
      " 'tails' 'heads' 'tails' 'heads' 'heads' 'heads' 'tails' 'heads' 'tails'\n",
      " 'heads' 'tails' 'heads' 'tails' 'heads' 'heads' 'tails' 'tails' 'tails'\n",
      " 'heads' 'tails' 'heads' 'heads' 'heads' 'heads' 'tails' 'tails' 'heads'\n",
      " 'tails' 'tails' 'tails' 'heads' 'tails' 'tails' 'tails' 'tails' 'tails'\n",
      " 'tails' 'heads' 'heads' 'tails' 'heads' 'heads' 'tails' 'heads' 'tails'\n",
      " 'tails' 'tails' 'heads' 'tails' 'tails' 'heads' 'tails' 'heads' 'tails'\n",
      " 'heads' 'tails' 'tails' 'heads' 'heads' 'tails' 'heads' 'tails' 'heads'\n",
      " 'tails' 'tails' 'tails' 'heads' 'heads' 'heads' 'tails' 'heads' 'tails'\n",
      " 'tails' 'tails' 'heads' 'tails' 'heads' 'heads' 'tails' 'heads' 'heads'\n",
      " 'heads' 'tails' 'heads' 'heads' 'tails' 'heads' 'tails' 'tails' 'tails'\n",
      " 'tails' 'tails' 'heads' 'tails' 'tails' 'heads' 'heads' 'tails' 'tails'\n",
      " 'tails' 'tails' 'tails' 'tails' 'heads' 'tails' 'heads' 'tails' 'tails'\n",
      " 'heads' 'tails' 'tails' 'tails' 'tails' 'tails' 'heads' 'tails' 'heads'\n",
      " 'tails' 'heads' 'tails' 'heads' 'heads' 'heads' 'tails' 'tails' 'tails'\n",
      " 'heads' 'tails' 'heads' 'heads' 'heads' 'heads' 'heads' 'heads' 'tails'\n",
      " 'tails' 'tails' 'heads' 'heads' 'tails' 'heads' 'tails' 'tails' 'tails'\n",
      " 'tails' 'heads' 'heads' 'heads' 'heads' 'heads' 'heads' 'tails' 'tails'\n",
      " 'heads' 'tails' 'heads' 'heads' 'heads' 'heads' 'heads' 'tails' 'heads'\n",
      " 'tails' 'heads' 'tails' 'heads' 'tails' 'tails' 'heads' 'heads' 'tails'\n",
      " 'tails' 'heads' 'tails' 'heads' 'tails' 'heads' 'tails' 'tails' 'heads'\n",
      " 'heads' 'tails' 'tails' 'heads' 'tails' 'tails' 'heads' 'tails' 'heads'\n",
      " 'tails' 'heads' 'heads' 'tails' 'tails' 'tails' 'tails' 'tails' 'tails'\n",
      " 'tails' 'tails' 'heads' 'heads' 'tails' 'heads' 'tails' 'heads' 'heads'\n",
      " 'heads' 'heads' 'tails' 'tails' 'heads' 'tails' 'heads' 'tails' 'heads'\n",
      " 'tails' 'heads' 'tails' 'heads' 'tails' 'tails' 'tails' 'tails' 'heads'\n",
      " 'tails' 'tails' 'tails' 'tails' 'heads' 'heads' 'tails' 'tails' 'heads'\n",
      " 'tails' 'tails' 'heads' 'heads' 'heads' 'heads' 'heads' 'tails' 'tails'\n",
      " 'heads' 'heads' 'heads' 'heads' 'tails' 'tails' 'heads' 'heads' 'heads'\n",
      " 'tails' 'heads' 'tails' 'tails' 'tails' 'heads' 'tails' 'heads' 'tails'\n",
      " 'tails' 'heads' 'tails' 'heads' 'heads' 'heads' 'tails' 'tails' 'heads'\n",
      " 'tails' 'heads' 'tails' 'heads' 'heads' 'heads' 'heads' 'tails' 'heads'\n",
      " 'heads' 'tails' 'tails' 'heads' 'heads' 'heads' 'tails' 'tails' 'heads'\n",
      " 'heads' 'tails' 'heads' 'tails' 'tails' 'heads' 'tails' 'heads' 'tails'\n",
      " 'tails' 'tails' 'heads' 'tails' 'heads' 'tails' 'heads' 'heads' 'tails'\n",
      " 'tails' 'tails' 'heads' 'heads' 'heads' 'tails' 'heads' 'tails' 'heads'\n",
      " 'tails' 'tails' 'tails' 'heads' 'tails' 'tails' 'heads' 'heads' 'heads'\n",
      " 'tails' 'tails' 'tails' 'heads' 'tails' 'heads' 'heads' 'tails' 'tails'\n",
      " 'heads' 'tails' 'tails' 'heads' 'heads' 'heads' 'tails' 'heads' 'heads'\n",
      " 'tails' 'heads' 'tails' 'heads' 'tails' 'tails' 'tails' 'tails' 'heads'\n",
      " 'tails' 'tails' 'heads' 'tails' 'heads' 'heads' 'heads' 'heads' 'heads'\n",
      " 'heads' 'heads' 'tails' 'tails' 'heads' 'heads' 'heads' 'heads' 'heads'\n",
      " 'heads' 'tails' 'tails' 'tails' 'tails' 'tails' 'tails' 'tails' 'tails'\n",
      " 'heads' 'tails' 'heads' 'tails' 'tails' 'tails' 'heads' 'tails' 'tails'\n",
      " 'heads' 'heads' 'tails' 'tails' 'tails' 'tails' 'tails' 'tails' 'heads'\n",
      " 'heads' 'heads' 'tails' 'tails' 'tails' 'tails' 'tails' 'heads' 'heads'\n",
      " 'heads' 'heads' 'tails' 'tails' 'heads' 'tails' 'heads' 'heads' 'heads'\n",
      " 'tails' 'tails' 'tails' 'tails' 'heads' 'tails' 'tails' 'tails' 'tails'\n",
      " 'tails' 'tails' 'heads' 'heads' 'heads' 'tails' 'heads' 'tails' 'heads'\n",
      " 'tails' 'heads' 'tails' 'heads' 'heads' 'heads' 'tails' 'heads' 'tails'\n",
      " 'tails' 'tails' 'heads' 'heads' 'heads' 'tails' 'heads' 'tails' 'tails'\n",
      " 'heads' 'tails' 'heads' 'heads' 'heads' 'tails' 'tails' 'tails' 'tails'\n",
      " 'tails' 'heads' 'heads' 'heads' 'heads' 'tails' 'heads' 'heads' 'tails'\n",
      " 'tails' 'tails' 'heads' 'tails' 'tails' 'tails' 'tails' 'tails' 'tails'\n",
      " 'tails' 'tails' 'tails' 'heads' 'tails' 'tails' 'tails' 'tails' 'heads'\n",
      " 'heads' 'heads' 'heads' 'heads' 'tails' 'tails' 'heads' 'heads' 'heads'\n",
      " 'tails' 'tails' 'heads' 'tails' 'tails' 'heads' 'tails' 'tails' 'heads'\n",
      " 'heads' 'heads' 'tails' 'heads' 'heads' 'heads' 'heads' 'tails' 'tails'\n",
      " 'heads' 'heads' 'heads' 'tails' 'tails' 'heads' 'tails' 'tails' 'heads'\n",
      " 'heads' 'tails' 'tails' 'heads' 'tails' 'heads' 'heads' 'tails' 'tails'\n",
      " 'heads' 'heads' 'tails' 'tails' 'heads' 'heads' 'heads' 'heads' 'tails'\n",
      " 'tails' 'tails' 'tails' 'heads' 'heads' 'heads' 'heads' 'tails' 'tails'\n",
      " 'heads' 'tails' 'heads' 'tails' 'heads' 'heads' 'tails' 'tails' 'heads'\n",
      " 'heads' 'tails' 'heads' 'tails' 'heads' 'heads' 'tails' 'tails' 'tails'\n",
      " 'heads' 'tails' 'tails' 'tails' 'tails' 'heads' 'heads' 'tails' 'heads'\n",
      " 'tails' 'heads' 'heads' 'tails' 'heads' 'heads' 'tails' 'tails' 'tails'\n",
      " 'heads' 'tails' 'tails' 'tails' 'heads' 'tails' 'tails' 'tails' 'heads'\n",
      " 'heads' 'heads' 'tails' 'heads' 'tails' 'tails' 'heads' 'heads' 'heads'\n",
      " 'tails' 'tails' 'heads' 'heads' 'heads' 'tails' 'heads' 'tails' 'tails'\n",
      " 'tails' 'heads' 'heads' 'heads' 'heads' 'heads' 'tails' 'tails' 'heads'\n",
      " 'tails' 'tails' 'heads' 'heads' 'tails' 'tails' 'tails' 'heads' 'heads'\n",
      " 'heads' 'heads' 'tails' 'tails' 'tails' 'tails' 'tails' 'heads' 'heads'\n",
      " 'tails' 'tails' 'heads' 'tails' 'tails' 'tails' 'heads' 'tails' 'heads'\n",
      " 'heads' 'tails' 'heads' 'tails' 'heads' 'heads' 'heads' 'tails' 'heads'\n",
      " 'heads' 'tails' 'heads' 'heads' 'heads' 'heads' 'heads' 'heads' 'heads'\n",
      " 'heads']\n",
      "    flip_result\n",
      "0         tails\n",
      "1         tails\n",
      "2         heads\n",
      "3         tails\n",
      "4         heads\n",
      "..          ...\n",
      "995       heads\n",
      "996       heads\n",
      "997       heads\n",
      "998       heads\n",
      "999       heads\n",
      "\n",
      "[1000 rows x 1 columns]\n"
     ]
    }
   ],
   "source": [
    "# Simulating 1000 coin flips, 0 for 'tails' and 1 for 'heads'\n",
    "coin_flips = np.random.choice(['heads', 'tails'], size=1000)\n",
    "df_coin = pd.DataFrame({'flip_result': coin_flips})\n",
    "print(coin_flips)\n",
    "print(df_coin)"
   ]
  },
  {
   "cell_type": "markdown",
   "metadata": {},
   "source": [
    "### Analyzing Flip Results\n",
    "Now, let's count how many heads and tails we got."
   ]
  },
  {
   "cell_type": "code",
   "execution_count": 4,
   "metadata": {},
   "outputs": [
    {
     "name": "stdout",
     "output_type": "stream",
     "text": [
      "tails    511\n",
      "heads    489\n",
      "Name: flip_result, dtype: int64\n"
     ]
    }
   ],
   "source": [
    "flip_counts = df_coin['flip_result'].value_counts()\n",
    "print(flip_counts)"
   ]
  },
  {
   "cell_type": "markdown",
   "metadata": {},
   "source": [
    "### Calculating Probabilities\n",
    "Next, we will calculate the probability of getting heads or tails."
   ]
  },
  {
   "cell_type": "code",
   "execution_count": 7,
   "metadata": {},
   "outputs": [
    {
     "name": "stdout",
     "output_type": "stream",
     "text": [
      "Probability of Heads: 0.502\n",
      "Probability of Tails: 0.498\n"
     ]
    }
   ],
   "source": [
    "p_heads = flip_counts['heads'] / len(df_coin)\n",
    "p_tails = flip_counts['tails'] / len(df_coin)\n",
    "print(f\"Probability of Heads: {p_heads}\")\n",
    "print(f\"Probability of Tails: {p_tails}\")"
   ]
  },
  {
   "cell_type": "markdown",
   "metadata": {},
   "source": [
    "## Part 2: Bayesian Email Classifier\n",
    "\n",
    "### Objective:\n",
    "Building a Bayesian email classifier to differentiate between 'spam' and 'ham' (not spam) emails.\n",
    "\n",
    "### Task 1: Exploring the Dataset"
   ]
  },
  {
   "cell_type": "code",
   "execution_count": 4,
   "metadata": {},
   "outputs": [
    {
     "name": "stdout",
     "output_type": "stream",
     "text": [
      "     email_length  contains_free  contains_winner time_of_day label\n",
      "0             109              0                0     morning   ham\n",
      "1              97              0                0     morning  spam\n",
      "2             112              0                0     morning  spam\n",
      "3             130              1                0   afternoon   ham\n",
      "4              95              0                1   afternoon  spam\n",
      "..            ...            ...              ...         ...   ...\n",
      "995            94              0                1       night   ham\n",
      "996           135              0                0       night  spam\n",
      "997           112              0                0     evening  spam\n",
      "998            88              0                1   afternoon  spam\n",
      "999           111              0                0     evening  spam\n",
      "\n",
      "[1000 rows x 5 columns]\n"
     ]
    }
   ],
   "source": [
    "# Create a simulated email classification (spam and not spam) dataset with 1000 data points.\n",
    "\n",
    "import pandas as pd\n",
    "import numpy as np\n",
    "\n",
    "# Sample size\n",
    "n_samples = 1000\n",
    "\n",
    "# Simulating data\n",
    "np.random.seed(42)\n",
    "data = {\n",
    "    'email_length': np.random.normal(100, 20, n_samples).astype(int),\n",
    "    'contains_free': np.random.choice([0, 1], size=n_samples, p=[0.7, 0.3]),\n",
    "    'contains_winner': np.random.choice([0, 1], size=n_samples, p=[0.8, 0.2]),\n",
    "    'time_of_day': np.random.choice(['morning', 'afternoon', 'evening', 'night'], n_samples),\n",
    "    'label': np.random.choice(['spam', 'ham'], n_samples, p=[0.4, 0.6])\n",
    "}\n",
    "\n",
    "df = pd.DataFrame(data)\n",
    "print(df)\n",
    "\n",
    "# Saving the dataset\n",
    "df.to_csv('simulated_email_dataset.csv', index=False)\n"
   ]
  },
  {
   "cell_type": "code",
   "execution_count": 63,
   "metadata": {
    "scrolled": true
   },
   "outputs": [
    {
     "data": {
      "text/html": [
       "<div>\n",
       "<style scoped>\n",
       "    .dataframe tbody tr th:only-of-type {\n",
       "        vertical-align: middle;\n",
       "    }\n",
       "\n",
       "    .dataframe tbody tr th {\n",
       "        vertical-align: top;\n",
       "    }\n",
       "\n",
       "    .dataframe thead th {\n",
       "        text-align: right;\n",
       "    }\n",
       "</style>\n",
       "<table border=\"1\" class=\"dataframe\">\n",
       "  <thead>\n",
       "    <tr style=\"text-align: right;\">\n",
       "      <th></th>\n",
       "      <th>email_length</th>\n",
       "      <th>contains_free</th>\n",
       "      <th>contains_winner</th>\n",
       "      <th>time_of_day</th>\n",
       "      <th>label</th>\n",
       "    </tr>\n",
       "  </thead>\n",
       "  <tbody>\n",
       "    <tr>\n",
       "      <th>0</th>\n",
       "      <td>109</td>\n",
       "      <td>0</td>\n",
       "      <td>0</td>\n",
       "      <td>morning</td>\n",
       "      <td>ham</td>\n",
       "    </tr>\n",
       "    <tr>\n",
       "      <th>1</th>\n",
       "      <td>97</td>\n",
       "      <td>0</td>\n",
       "      <td>0</td>\n",
       "      <td>morning</td>\n",
       "      <td>spam</td>\n",
       "    </tr>\n",
       "    <tr>\n",
       "      <th>2</th>\n",
       "      <td>112</td>\n",
       "      <td>0</td>\n",
       "      <td>0</td>\n",
       "      <td>morning</td>\n",
       "      <td>spam</td>\n",
       "    </tr>\n",
       "    <tr>\n",
       "      <th>3</th>\n",
       "      <td>130</td>\n",
       "      <td>1</td>\n",
       "      <td>0</td>\n",
       "      <td>afternoon</td>\n",
       "      <td>ham</td>\n",
       "    </tr>\n",
       "    <tr>\n",
       "      <th>4</th>\n",
       "      <td>95</td>\n",
       "      <td>0</td>\n",
       "      <td>1</td>\n",
       "      <td>afternoon</td>\n",
       "      <td>spam</td>\n",
       "    </tr>\n",
       "  </tbody>\n",
       "</table>\n",
       "</div>"
      ],
      "text/plain": [
       "   email_length  contains_free  contains_winner time_of_day label\n",
       "0           109              0                0     morning   ham\n",
       "1            97              0                0     morning  spam\n",
       "2           112              0                0     morning  spam\n",
       "3           130              1                0   afternoon   ham\n",
       "4            95              0                1   afternoon  spam"
      ]
     },
     "execution_count": 63,
     "metadata": {},
     "output_type": "execute_result"
    }
   ],
   "source": [
    "# Load the dataset (Replace 'path_to_dataset' with the actual file path). You can uncomment the codes below. Notice what `df_emails.head()` is representing.\n",
    "df_emails = pd.read_csv('simulated_email_dataset.csv')\n",
    "\n",
    "# This command prints the first 5 rows of the dataset\n",
    "df_emails.head()"
   ]
  },
  {
   "cell_type": "markdown",
   "metadata": {},
   "source": [
    "### Task 2: Data Preprocessing\n",
    "You need to preprocess the data for analysis. This involves normalizing and encoding the features."
   ]
  },
  {
   "cell_type": "code",
   "execution_count": 64,
   "metadata": {},
   "outputs": [
    {
     "name": "stdout",
     "output_type": "stream",
     "text": [
      "Check for missing values:\n",
      "(array([], dtype=int64), array([], dtype=int64))\n"
     ]
    }
   ],
   "source": [
    "# Checking for missing values in the df_emails dataframe\n",
    "print(\"Check for missing values:\")\n",
    "missing_values = np.where(pd.isnull(df_emails))\n",
    "print(missing_values)"
   ]
  },
  {
   "cell_type": "markdown",
   "metadata": {},
   "source": [
    "The command returns an empty array which means there are no empty values"
   ]
  },
  {
   "cell_type": "code",
   "execution_count": 65,
   "metadata": {},
   "outputs": [
    {
     "name": "stdout",
     "output_type": "stream",
     "text": [
      "Checking for duplicated rows:\n",
      "True\n"
     ]
    }
   ],
   "source": [
    "# Checking for duplicated rows\n",
    "print(\"Checking for duplicated rows:\")\n",
    "duplicated_rows = df_emails.duplicated().any()\n",
    "print(duplicated_rows)"
   ]
  },
  {
   "cell_type": "code",
   "execution_count": 66,
   "metadata": {},
   "outputs": [
    {
     "name": "stdout",
     "output_type": "stream",
     "text": [
      "False\n"
     ]
    }
   ],
   "source": [
    "# Droping duplicated rows\n",
    "df_no_duplicates = df_emails.drop_duplicates()\n",
    "\n",
    "print(df_no_duplicates.duplicated().any())"
   ]
  },
  {
   "cell_type": "markdown",
   "metadata": {},
   "source": [
    "df_no_duplicates does not have any duplicated values anymore as the above command returns false"
   ]
  },
  {
   "cell_type": "code",
   "execution_count": 67,
   "metadata": {
    "scrolled": true
   },
   "outputs": [
    {
     "name": "stdout",
     "output_type": "stream",
     "text": [
      "Checking the data types\n",
      "email_length        int64\n",
      "contains_free       int64\n",
      "contains_winner     int64\n",
      "time_of_day        object\n",
      "label              object\n",
      "dtype: object\n"
     ]
    }
   ],
   "source": [
    "# Checking the data types\n",
    "print(\"Checking the data types\")\n",
    "print(df_no_duplicates.dtypes)"
   ]
  },
  {
   "cell_type": "code",
   "execution_count": 68,
   "metadata": {},
   "outputs": [
    {
     "name": "stdout",
     "output_type": "stream",
     "text": [
      "Rows and Columns left for unique rows\n",
      "(724, 7)\n",
      "Transformed data\n",
      "   email_length  contains_free  contains_winner time_of_day label  \\\n",
      "0           109              0                0     morning   ham   \n",
      "1            97              0                0     morning  spam   \n",
      "2           112              0                0     morning  spam   \n",
      "3           130              1                0   afternoon   ham   \n",
      "4            95              0                1   afternoon  spam   \n",
      "\n",
      "   time_of_day_encoded  label_encoded  \n",
      "0                    0              0  \n",
      "1                    0              1  \n",
      "2                    0              1  \n",
      "3                    1              0  \n",
      "4                    1              1  \n"
     ]
    }
   ],
   "source": [
    "# Converting categorical data to numerical data in time_of_day using label encoding\n",
    "from sklearn.preprocessing import LabelEncoder\n",
    "\n",
    "df_converted = df_no_duplicates.copy()\n",
    "\n",
    "# Define a mapping for label encoding\n",
    "time_of_day_mapping = {'morning': 0, 'afternoon': 1, 'evening': 2, 'night': 3}\n",
    "\n",
    "# Apply label encoding using map\n",
    "df_converted.loc[:, 'time_of_day_encoded'] = df_converted['time_of_day'].map(time_of_day_mapping)\n",
    "\n",
    "# Convert the label into 0s and 1s\n",
    "label_mapping = {'ham': 0, 'spam': 1}\n",
    "df_converted.loc[:, 'label_encoded'] = df_converted['label'].map(label_mapping)\n",
    "\n",
    "# Add transformed data into a csv file\n",
    "df_converted.to_csv('cleaned_dataset.csv')\n",
    "\n",
    "print(\"Rows and Columns left for unique rows\")\n",
    "print(df_converted.shape)\n",
    "\n",
    "print(\"Transformed data\")\n",
    "print(df_converted.head())"
   ]
  },
  {
   "cell_type": "markdown",
   "metadata": {},
   "source": [
    "### Task 3: Probability Calculation\n",
    "Calculate the probability of spam and ham emails in the dataset. We will be using the cleaned the dataset"
   ]
  },
  {
   "cell_type": "code",
   "execution_count": 69,
   "metadata": {},
   "outputs": [
    {
     "name": "stdout",
     "output_type": "stream",
     "text": [
      "Counts\n",
      "ham     411\n",
      "spam    313\n",
      "Name: label, dtype: int64\n",
      "Probability of ham: 0.5676795580110497\n",
      "Probability of spam: 0.43232044198895025\n"
     ]
    }
   ],
   "source": [
    "df_cleaned = pd.read_csv('cleaned_dataset.csv')\n",
    "\n",
    "email_counts = df_cleaned['label'].value_counts()\n",
    "print(\"Counts\")\n",
    "print(email_counts)\n",
    "\n",
    "# prior knowledge\n",
    "p_spam = email_counts['spam'] / len(df_cleaned)\n",
    "p_ham = email_counts['ham'] / len(df_cleaned)\n",
    "print(f\"Probability of ham: {p_ham}\")\n",
    "print(f\"Probability of spam: {p_spam}\")"
   ]
  },
  {
   "cell_type": "markdown",
   "metadata": {},
   "source": [
    "### Task 4: Implementing Bayes' Theorem\n",
    "Implement Bayes' Theorem to classify emails as spam or ham."
   ]
  },
  {
   "cell_type": "code",
   "execution_count": 70,
   "metadata": {},
   "outputs": [
    {
     "data": {
      "text/html": [
       "<style>#sk-container-id-11 {color: black;}#sk-container-id-11 pre{padding: 0;}#sk-container-id-11 div.sk-toggleable {background-color: white;}#sk-container-id-11 label.sk-toggleable__label {cursor: pointer;display: block;width: 100%;margin-bottom: 0;padding: 0.3em;box-sizing: border-box;text-align: center;}#sk-container-id-11 label.sk-toggleable__label-arrow:before {content: \"▸\";float: left;margin-right: 0.25em;color: #696969;}#sk-container-id-11 label.sk-toggleable__label-arrow:hover:before {color: black;}#sk-container-id-11 div.sk-estimator:hover label.sk-toggleable__label-arrow:before {color: black;}#sk-container-id-11 div.sk-toggleable__content {max-height: 0;max-width: 0;overflow: hidden;text-align: left;background-color: #f0f8ff;}#sk-container-id-11 div.sk-toggleable__content pre {margin: 0.2em;color: black;border-radius: 0.25em;background-color: #f0f8ff;}#sk-container-id-11 input.sk-toggleable__control:checked~div.sk-toggleable__content {max-height: 200px;max-width: 100%;overflow: auto;}#sk-container-id-11 input.sk-toggleable__control:checked~label.sk-toggleable__label-arrow:before {content: \"▾\";}#sk-container-id-11 div.sk-estimator input.sk-toggleable__control:checked~label.sk-toggleable__label {background-color: #d4ebff;}#sk-container-id-11 div.sk-label input.sk-toggleable__control:checked~label.sk-toggleable__label {background-color: #d4ebff;}#sk-container-id-11 input.sk-hidden--visually {border: 0;clip: rect(1px 1px 1px 1px);clip: rect(1px, 1px, 1px, 1px);height: 1px;margin: -1px;overflow: hidden;padding: 0;position: absolute;width: 1px;}#sk-container-id-11 div.sk-estimator {font-family: monospace;background-color: #f0f8ff;border: 1px dotted black;border-radius: 0.25em;box-sizing: border-box;margin-bottom: 0.5em;}#sk-container-id-11 div.sk-estimator:hover {background-color: #d4ebff;}#sk-container-id-11 div.sk-parallel-item::after {content: \"\";width: 100%;border-bottom: 1px solid gray;flex-grow: 1;}#sk-container-id-11 div.sk-label:hover label.sk-toggleable__label {background-color: #d4ebff;}#sk-container-id-11 div.sk-serial::before {content: \"\";position: absolute;border-left: 1px solid gray;box-sizing: border-box;top: 0;bottom: 0;left: 50%;z-index: 0;}#sk-container-id-11 div.sk-serial {display: flex;flex-direction: column;align-items: center;background-color: white;padding-right: 0.2em;padding-left: 0.2em;position: relative;}#sk-container-id-11 div.sk-item {position: relative;z-index: 1;}#sk-container-id-11 div.sk-parallel {display: flex;align-items: stretch;justify-content: center;background-color: white;position: relative;}#sk-container-id-11 div.sk-item::before, #sk-container-id-11 div.sk-parallel-item::before {content: \"\";position: absolute;border-left: 1px solid gray;box-sizing: border-box;top: 0;bottom: 0;left: 50%;z-index: -1;}#sk-container-id-11 div.sk-parallel-item {display: flex;flex-direction: column;z-index: 1;position: relative;background-color: white;}#sk-container-id-11 div.sk-parallel-item:first-child::after {align-self: flex-end;width: 50%;}#sk-container-id-11 div.sk-parallel-item:last-child::after {align-self: flex-start;width: 50%;}#sk-container-id-11 div.sk-parallel-item:only-child::after {width: 0;}#sk-container-id-11 div.sk-dashed-wrapped {border: 1px dashed gray;margin: 0 0.4em 0.5em 0.4em;box-sizing: border-box;padding-bottom: 0.4em;background-color: white;}#sk-container-id-11 div.sk-label label {font-family: monospace;font-weight: bold;display: inline-block;line-height: 1.2em;}#sk-container-id-11 div.sk-label-container {text-align: center;}#sk-container-id-11 div.sk-container {/* jupyter's `normalize.less` sets `[hidden] { display: none; }` but bootstrap.min.css set `[hidden] { display: none !important; }` so we also need the `!important` here to be able to override the default hidden behavior on the sphinx rendered scikit-learn.org. See: https://github.com/scikit-learn/scikit-learn/issues/21755 */display: inline-block !important;position: relative;}#sk-container-id-11 div.sk-text-repr-fallback {display: none;}</style><div id=\"sk-container-id-11\" class=\"sk-top-container\"><div class=\"sk-text-repr-fallback\"><pre>MultinomialNB()</pre><b>In a Jupyter environment, please rerun this cell to show the HTML representation or trust the notebook. <br />On GitHub, the HTML representation is unable to render, please try loading this page with nbviewer.org.</b></div><div class=\"sk-container\" hidden><div class=\"sk-item\"><div class=\"sk-estimator sk-toggleable\"><input class=\"sk-toggleable__control sk-hidden--visually\" id=\"sk-estimator-id-11\" type=\"checkbox\" checked><label for=\"sk-estimator-id-11\" class=\"sk-toggleable__label sk-toggleable__label-arrow\">MultinomialNB</label><div class=\"sk-toggleable__content\"><pre>MultinomialNB()</pre></div></div></div></div></div>"
      ],
      "text/plain": [
       "MultinomialNB()"
      ]
     },
     "execution_count": 70,
     "metadata": {},
     "output_type": "execute_result"
    }
   ],
   "source": [
    "from sklearn.model_selection import train_test_split\n",
    "from sklearn.naive_bayes import MultinomialNB\n",
    "from sklearn.metrics import accuracy_score, confusion_matrix\n",
    "\n",
    "# Feature selection (Use contains_free, contains_winner, time_of_day_encoded)\n",
    "# The email length was not considered relevant to the model\n",
    "X = df_cleaned.drop(['label', 'label_encoded', 'time_of_day', 'email_length'], axis=1)\n",
    "\n",
    "# Use the label encoded in 1s and 0s\n",
    "y = df_cleaned['label_encoded']\n",
    "\n",
    "\n",
    "# Spliting the dataset into training (80%) and testing (20%) dataset\n",
    "X_train, X_test, y_train, y_test = train_test_split(X, y, test_size=0.2, random_state=42)\n",
    "\n",
    "# The classifier\n",
    "clf = MultinomialNB()\n",
    "\n",
    "clf.fit(X_train, y_train)"
   ]
  },
  {
   "cell_type": "markdown",
   "metadata": {},
   "source": [
    "### Task 5: Model Testing\n",
    "Test the model on a new dataset and evaluate its performance. You can use a subset of the dataset that you created or create a new one."
   ]
  },
  {
   "cell_type": "code",
   "execution_count": 71,
   "metadata": {
    "scrolled": true
   },
   "outputs": [
    {
     "name": "stdout",
     "output_type": "stream",
     "text": [
      "Accuracy:\n",
      "49.6551724137931%\n"
     ]
    }
   ],
   "source": [
    "# Testing the model with the 20% testing data\n",
    "y_pred = clf.predict(X_test)\n",
    "\n",
    "# Getting the accuracy of the Naive Bayes classifier\n",
    "acc = accuracy_score(y_test, y_pred)\n",
    "\n",
    "print(\"Accuracy:\")\n",
    "print(f\"{accuracy * 100}%\")"
   ]
  }
 ],
 "metadata": {
  "kernelspec": {
   "display_name": "Python 3 (ipykernel)",
   "language": "python",
   "name": "python3"
  },
  "language_info": {
   "codemirror_mode": {
    "name": "ipython",
    "version": 3
   },
   "file_extension": ".py",
   "mimetype": "text/x-python",
   "name": "python",
   "nbconvert_exporter": "python",
   "pygments_lexer": "ipython3",
   "version": "3.11.5"
  }
 },
 "nbformat": 4,
 "nbformat_minor": 2
}
