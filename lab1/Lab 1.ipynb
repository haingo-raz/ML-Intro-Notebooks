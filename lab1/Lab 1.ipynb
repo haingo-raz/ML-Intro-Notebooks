{
 "cells": [
  {
   "cell_type": "markdown",
   "id": "44eb662c",
   "metadata": {},
   "source": [
    "# Lab 1 - Getting Started with Conda and Python\n",
    "This lab provides you with basic essentials of:\n",
    "1. Setting up your development environment (virtual environment)\n",
    "2. Python and Libraries\n"
   ]
  },
  {
   "cell_type": "markdown",
   "id": "7715ced7",
   "metadata": {},
   "source": [
    "\n",
    "# Introduction to Conda\n",
    "\n",
    "## What is Conda?\n",
    "Conda is an open-source package management system and environment management system. It simplifies the installation and management of software packages and their dependencies for Python projects.\n",
    "\n",
    "## Why use Conda?\n",
    "Conda allows you to create isolated environments for different projects, ensuring that each project has its own dependencies and packages without affecting others.\n",
    "\n",
    "## Task\n",
    "1. Install Conda by following the instructions on the official website: [Conda Installation Guide](https://docs.conda.io/projects/conda/en/latest/user-guide/install/index.html).\n",
    "2. Verify the installation by running `conda --version` in your terminal.\n",
    "\n",
    "## Assessment Question\n",
    "- Why is it beneficial to use Conda for Python environment management, especially in machine learning and data science projects?\n"
   ]
  },
  {
   "cell_type": "code",
   "execution_count": null,
   "id": "9c2f4bb7",
   "metadata": {},
   "outputs": [],
   "source": [
    "\n",
    "# Write your answer here\n",
    "\n",
    "# Task \n",
    "Typing `conda --version` returns `conda 23.7.4`\n",
    "\n",
    "# Assessment Question\n",
    "Firstly, conda's package management system supports other languages including C++ and R which are also used in data science and maching learning projects. \n",
    "Furthermore, conda supports packages such as pandas, NumPy, scikit-learn and SciPy which are also commonly used in those fields.\n",
    "Lastly, conda can manage complex dependencies which is used in scientific computing libraries.\n",
    "\n",
    "# Leidel, J (2023) 12 Reasons to Choose Conda. Available at: https://www.anaconda.com/blog/12-reasons-to-choose-conda \n"
   ]
  },
  {
   "cell_type": "markdown",
   "id": "56b6940f",
   "metadata": {},
   "source": [
    "\n",
    "# Setting up a Python Environment with Conda\n",
    "\n",
    "## Creating and Managing Environments\n",
    "Conda allows you to create separate environments for different projects, each with its own set of packages.\n",
    "\n",
    "## Task\n",
    "1. Create a new Conda environment named 'ml_lab1' with Python 3.8: `conda create --name ml_lab1 python=3.8`\n",
    "2. Activate the environment: `conda activate ml_lab1`\n",
    "3. Install NumPy, Pandas, Matplotlib, and SciPy in the environment.\n",
    "\n",
    "## Assessment Question\n",
    "- Describe the steps to create a new environment in Conda and install a specific version of Python and a few packages.\n"
   ]
  },
  {
   "cell_type": "code",
   "execution_count": null,
   "id": "26a50fae",
   "metadata": {},
   "outputs": [],
   "source": [
    "\n",
    "# Write your answer here\n",
    "\n",
    "# Assessment Question\n",
    "# Creating a new environment in Conda and installing a specific version of Python and a few packages\n",
    "1) Follow the conda installation guide\n",
    "2) Open the Anaconda prompt\n",
    "3) Type `conda create --name ml_lab1 python=3.8`\n",
    "4) Users will be prompted to proceed after being presented the new packages that are going to be installed. Type `y`\n",
    "5) Activate the environment with `conda activate ml_lab1`\n",
    "6) To install the libraries, execute `conda install anaconda::numpy anaconda::pandas conda-forge::matplotlib anaconda::scipy`\n",
    "7) There will be a prompt that will ask users if they want to proceed with the installation of the new packages. Type `y`\n",
    "8) The previously mentionned packages will be downloaded and extracted\n",
    "                        "
   ]
  },
  {
   "cell_type": "markdown",
   "id": "81701a45",
   "metadata": {},
   "source": [
    "\n",
    "# Introduction to Python Basics\n",
    "\n",
    "Python is a popular programming language for data analysis and machine learning. In this section, we'll cover basic Python syntax and data types.\n",
    "\n",
    "## Task\n",
    "Write a Python script that takes a list of numbers and returns a list containing only the even numbers.\n",
    "\n",
    "## Assessment Question\n",
    "- Explain the difference between a list and a tuple in Python.\n"
   ]
  },
  {
   "cell_type": "code",
   "execution_count": 5,
   "id": "cc158494",
   "metadata": {},
   "outputs": [
    {
     "name": "stdout",
     "output_type": "stream",
     "text": [
      "Even numbers:  [4, 44, 80, 120]\n"
     ]
    }
   ],
   "source": [
    "\n",
    "# Write your code and answer here\n",
    "\n",
    "# Task\n",
    "# Using NumPy arrays and boolean indexing\n",
    "import numpy as np\n",
    "\n",
    "def get_even_numbers(nums):\n",
    "    arr = np.array(nums)\n",
    "    return arr[arr % 2 == 0].tolist()\n",
    "\n",
    "# Application example\n",
    "listSample = [1, 4, 13, 43, 44, 65, 80, 120, 133]\n",
    "even_nums = get_even_numbers(listSample)\n",
    "print(\"Even numbers: \", even_nums)\n",
    "\n",
    "# Assessment Question\n",
    "# A list is mutable/dynamic in Python whilst a tuple is immutable/static.\n",
    "# Lists in python are represented using square brackets '[]' whils parentheses '()' are used for tuples.\n",
    "# Tuples are lighter and consume less memory than python lists.\n",
    "\n",
    "# GeeksforGeeks (2023) Difference Between List and Tuple in Python. Available at: https://www.geeksforgeeks.org/python-difference-between-list-and-tuple/\n"
   ]
  },
  {
   "cell_type": "markdown",
   "id": "c64a4156",
   "metadata": {},
   "source": [
    "\n",
    "# Working with NumPy\n",
    "\n",
    "NumPy is a fundamental package for scientific computing with Python. It provides support for large, multi-dimensional arrays and matrices, along with a large collection of high-level mathematical functions to operate on these arrays.\n",
    "\n",
    "## Task\n",
    "Create a NumPy array and perform basic array operations (addition, multiplication).\n",
    "\n",
    "## Assessment Question\n",
    "- What are the advantages of using NumPy arrays over standard Python lists for numerical data?\n"
   ]
  },
  {
   "cell_type": "code",
   "execution_count": 6,
   "id": "d2a5aa23",
   "metadata": {},
   "outputs": [
    {
     "name": "stdout",
     "output_type": "stream",
     "text": [
      "Addition results: [24 25 26 27 28]\n",
      "Multiplication results: [105 110 115 120 125]\n"
     ]
    }
   ],
   "source": [
    "\n",
    "# Write your code and answer here\n",
    "\n",
    "# Task\n",
    "import numpy as np\n",
    "\n",
    "arraySample = np.array([21, 22, 23, 24, 25])\n",
    "\n",
    "# Basic operations\n",
    "addition_array = arraySample + 3\n",
    "print(\"Addition results:\", addition_array)\n",
    "\n",
    "multiplication_array = arraySample * 5\n",
    "print(\"Multiplication results:\", multiplication_array)\n",
    "\n",
    "# Assessment Question\n",
    "# NumPy's arrays are more compact and consume less memory than standard python lists\n",
    "# NumPy arrays are more efficient and convenient in terms of performing operations. Numpy arrays are optimized for numerical computations and support several mathematical functions including linear algebra and basic statistics.\n",
    "# Operations are also executed more efficiently as can be seen in the sample code above.\n",
    "\n",
    "# Geeksforgeeks (2023) Python Lists vs Numpy Arrays. Available at: https://www.geeksforgeeks.org/python-lists-vs-numpy-arrays/"
   ]
  },
  {
   "cell_type": "markdown",
   "id": "8a3cb3bb",
   "metadata": {},
   "source": [
    "\n",
    "# Data Manipulation with Pandas\n",
    "\n",
    "Pandas is an open-source data analysis and manipulation tool, built on top of the Python programming language.\n",
    "\n",
    "## Task\n",
    "Read a CSV file into a DataFrame, display the first few rows, and filter the data based on a condition.\n",
    "\n",
    "## Assessment Question\n",
    "- Describe how a Pandas DataFrame is different from a NumPy array.\n"
   ]
  },
  {
   "cell_type": "code",
   "execution_count": 7,
   "id": "0b3deb39",
   "metadata": {},
   "outputs": [
    {
     "name": "stdout",
     "output_type": "stream",
     "text": [
      "First 5 rows\n",
      "   AGE  SEX   BMI     BP   S1     S2    S3   S4      S5  S6    Y\n",
      "0   59    2  32.1  101.0  157   93.2  38.0  4.0  4.8598  87  151\n",
      "1   48    1  21.6   87.0  183  103.2  70.0  3.0  3.8918  69   75\n",
      "2   72    2  30.5   93.0  156   93.6  41.0  4.0  4.6728  85  141\n",
      "3   24    1  25.3   84.0  198  131.4  40.0  5.0  4.8903  89  206\n",
      "4   50    1  23.0  101.0  192  125.4  52.0  4.0  4.2905  80  135\n",
      "BMI less than 30\n",
      "     AGE  SEX   BMI      BP   S1     S2    S3    S4      S5   S6    Y\n",
      "1     48    1  21.6   87.00  183  103.2  70.0  3.00  3.8918   69   75\n",
      "3     24    1  25.3   84.00  198  131.4  40.0  5.00  4.8903   89  206\n",
      "4     50    1  23.0  101.00  192  125.4  52.0  4.00  4.2905   80  135\n",
      "5     23    1  22.6   89.00  139   64.8  61.0  2.00  4.1897   68   97\n",
      "6     36    2  22.0   90.00  160   99.6  50.0  3.00  3.9512   82  138\n",
      "..   ...  ...   ...     ...  ...    ...   ...   ...     ...  ...  ...\n",
      "436   33    1  19.5   80.00  171   85.4  75.0  2.00  3.9703   80   48\n",
      "437   60    2  28.2  112.00  185  113.8  42.0  4.00  4.9836   93  178\n",
      "438   47    2  24.9   75.00  225  166.0  42.0  5.00  4.4427  102  104\n",
      "439   60    2  24.9   99.67  162  106.6  43.0  3.77  4.1271   95  132\n",
      "441   36    1  19.6   71.00  250  133.2  97.0  3.00  4.5951   92   57\n",
      "\n",
      "[343 rows x 11 columns]\n"
     ]
    }
   ],
   "source": [
    "\n",
    "# Write your code and answer here\n",
    "\n",
    "# Task\n",
    "# Suppose we use the diabetes.csv dataset\n",
    "import pandas as pd\n",
    "\n",
    "# Read CSV into a dataframe\n",
    "df = pd.read_csv('diabetes.csv')\n",
    "\n",
    "# Display the first few rows\n",
    "print(\"First 5 rows\")\n",
    "print(df.head()) # display the first 5 rows\n",
    "\n",
    "# Filter data based on condition: BMI is less than 30\n",
    "bmi_less_than_30 = df.loc[df['BMI'] < 30]\n",
    "print(\"BMI less than 30\")\n",
    "print(bmi_less_than_30)\n",
    "\n",
    "# Assessment Question\n",
    "# A Panda dataframe is a two-dimensional (2D) data structure with rows and columns whilst a NumPy array is a type of multi-dimensional data structure\n",
    "# A NumPy arrays contain similar types of objects, but a Panda data frame can have objects of different data types\n",
    "# The element of a NumPy array can be accessed by referring to its index number, but Dataframe elements can be accessed using both index number and named index\n",
    "\n",
    "# Geeksforgeeks (2023) Difference between Pandas VS NumPy. Available at: https://www.geeksforgeeks.org/difference-between-pandas-vs-numpy/"
   ]
  },
  {
   "cell_type": "markdown",
   "id": "e6e65672",
   "metadata": {},
   "source": [
    "\n",
    "# Data Visualization with Matplotlib\n",
    "\n",
    "Matplotlib is a comprehensive library for creating static, animated, and interactive visualizations in Python.\n",
    "\n",
    "## Task\n",
    "Create a basic plot (line plot or bar chart) using data from a Pandas DataFrame.\n",
    "\n",
    "## Assessment Question\n",
    "- Why is data visualization important in data analysis?\n"
   ]
  },
  {
   "cell_type": "code",
   "execution_count": 24,
   "id": "23c11981",
   "metadata": {},
   "outputs": [
    {
     "data": {
      "image/png": "[encoded data removed]",
      "text/plain": [
       "<Figure size 800x600 with 1 Axes>"
      ]
     },
     "metadata": {},
     "output_type": "display_data"
    }
   ],
   "source": [
    "\n",
    "# Write your code and answer here\n",
    "\n",
    "# Task\n",
    "# Creating a basic bar chart with the diabetes dataset\n",
    "import pandas as pd\n",
    "import matplotlib.pyplot as plt\n",
    "\n",
    "# Suppose we use the diabetes.csv dataset\n",
    "df1 = pd.read_csv(\"diabetes.csv\")\n",
    "\n",
    "plt.figure(figsize=(8, 6))\n",
    "plt.bar(df1['AGE'], df1['BMI'])\n",
    "plt.xlabel('AGE')\n",
    "plt.ylabel('BMI')\n",
    "plt.show()\n",
    "\n",
    "# Assessment Question\n",
    "# Data visualisation helps to see patterns, trends and relationships that are not visibile with a raw data.\n",
    "# Data visualisation graphs help in finding anomalies, outliers and clusters.\n",
    "# Data visualisation can help create a narrative around a data\n",
    "# Data visualisation empowers data-driven decision-making"
   ]
  },
  {
   "cell_type": "markdown",
   "id": "fb0497c6",
   "metadata": {},
   "source": [
    "\n",
    "# Basic File Operations in Python\n",
    "\n",
    "File operations are fundamental for data processing. In this section, we'll cover how to read from and write to files in Python.\n",
    "\n",
    "## Task\n",
    "Write a Python script to read a text file and count the frequency of each word in the file.\n",
    "\n",
    "## Assessment Question\n",
    "- Discuss the different modes of opening a file in Python.\n"
   ]
  },
  {
   "cell_type": "code",
   "execution_count": 13,
   "id": "9c87e75d",
   "metadata": {},
   "outputs": [
    {
     "name": "stdout",
     "output_type": "stream",
     "text": [
      "hello: 3\n",
      "yes: 2\n",
      "this: 1\n",
      "is: 1\n",
      "test: 2\n"
     ]
    }
   ],
   "source": [
    "\n",
    "# Write your code and answer here\n",
    "\n",
    "# Task \n",
    "# Counting the frequency of each word in the .txt file using regular expressions and Counter\n",
    "import re\n",
    "from collections import Counter\n",
    "\n",
    "with open('file_test.txt', 'r') as f:\n",
    "    text_sample = f.read().lower()\n",
    "\n",
    "# Extract words using regex pattern\n",
    "pattern = re.findall(r'\\b[a-z]{2,15}\\b', text_sample)\n",
    "\n",
    "counts_word = Counter(pattern)\n",
    "\n",
    "for word, count in counts_word.items():\n",
    "    print(f\"{word}: {count}\")\n",
    "    \n",
    "# Assessment Question\n",
    "# 'r' opens a file for reading only. The file pointer is placed at the beginning of the file\n",
    "# 'r+' opens a file for reading and writing. The file pointer is places at the beginning of the file\n",
    "# 'w' truncates a file  if exists or create a new file for writing.\n",
    "# 'w+' opens a file for reading and writing. It created a file if it does not exist, otherwise it truncates an existing one\n",
    "# 'a' opens a file for appending data. It creates a new file if it does not exist. The file pointer is at the end of the file\n",
    "# 'a+' opens a file for reading and writing\n",
    "# 'x' opens a file for exclusive creation, and throw an error if the file already exists\n",
    "# 'b' binary mode\n",
    "# 't' default text mode\n",
    "\n",
    "# Available at https://docs.python.org/3/library/functions.html#open\n"
   ]
  },
  {
   "cell_type": "markdown",
   "id": "f0324bd0",
   "metadata": {},
   "source": [
    "\n",
    "# Introduction to SciPy\n",
    "\n",
    "SciPy is a Python-based ecosystem of open-source software for mathematics, science, and engineering.\n",
    "\n",
    "## Task\n",
    "Demonstrate a simple mathematical operation using SciPy, like solving a linear equation.\n",
    "\n",
    "## Assessment Question\n",
    "- What is the role of SciPy in scientific computing with Python?\n"
   ]
  },
  {
   "cell_type": "code",
   "execution_count": 34,
   "id": "8dcbaa56",
   "metadata": {},
   "outputs": [
    {
     "name": "stdout",
     "output_type": "stream",
     "text": [
      "x = 2.38\n",
      "y = 1.75\n"
     ]
    }
   ],
   "source": [
    "\n",
    "# Write your code and answer here\n",
    "\n",
    "# Task\n",
    "import numpy as np\n",
    "from scipy.linalg import solve\n",
    "\n",
    "# Coefficient matrix\n",
    "A = np.array([[2, 3], [4, -2]])\n",
    "\n",
    "# Right-hand side vector\n",
    "b = np.array([10, 6])\n",
    "\n",
    "# Solving the system of equations\n",
    "x, y = solve(A, b)\n",
    "\n",
    "print(f\"x = {x:.2f}\")\n",
    "print(f\"y = {y:.2f}\")\n",
    "\n",
    "# Assessment Question\n",
    "# The role of SciPy in scientific computing with Python\n",
    "# Scipy provides solutions to common issues in scientific computing\n",
    "# SciPy extends the capabilities of NumPy, and provides specialized functions for tasks such as optimization, interpolation, image processing, statistics,..\n",
    "\n",
    "# Varoquaux, G et al. (n.d.) 1.5. SciPy : high-level scientific computing. Available at: https://lectures.scientific-python.org/intro/scipy/index.html"
   ]
  },
  {
   "cell_type": "markdown",
   "id": "f05616ad",
   "metadata": {},
   "source": [
    "## Submission\n",
    "Submit a link to your completed Jupyter Notebook file hosted on your private GitHub repository through the submission link in Blackboard."
   ]
  }
 ],
 "metadata": {
  "kernelspec": {
   "display_name": "Python 3 (ipykernel)",
   "language": "python",
   "name": "python3"
  },
  "language_info": {
   "codemirror_mode": {
    "name": "ipython",
    "version": 3
   },
   "file_extension": ".py",
   "mimetype": "text/x-python",
   "name": "python",
   "nbconvert_exporter": "python",
   "pygments_lexer": "ipython3",
   "version": "3.11.5"
  }
 },
 "nbformat": 4,
 "nbformat_minor": 5
}
