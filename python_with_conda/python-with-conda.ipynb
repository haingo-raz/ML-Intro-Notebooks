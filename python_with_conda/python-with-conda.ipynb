{
 "cells": [
  {
   "cell_type": "markdown",
   "id": "7715ced7",
   "metadata": {},
   "source": [
    "\n",
    "# Introduction to Conda\n",
    "\n",
    "### What is Conda?\n",
    "Conda is an open-source package management system and environment management system. It simplifies the installation and management of software packages and their dependencies for Python projects.\n",
    "\n",
    "### Why use Conda?\n",
    "Conda allows you to create isolated environments for different projects, ensuring that each project has its own dependencies and packages without affecting others."
   ]
  },
  {
   "cell_type": "markdown",
   "id": "b12b0727",
   "metadata": {},
   "source": [
    "###  Why is it beneficial to use Conda for Python environment management, especially in machine learning and data science projects?\n",
    "\n",
    "Firstly, conda's package management system supports other languages including C++ and R which are also used in data science\n",
    "and maching learning projects. \n",
    "Furthermore, conda supports packages such as pandas, NumPy, scikit-learn and SciPy which are also commonly used \n",
    "in those fields.\n",
    "Lastly, conda can manage complex dependencies which is used in scientific computing libraries.\n",
    "\n",
    "Leidel, J (2023) 12 Reasons to Choose Conda. Available at: https://www.anaconda.com/blog/12-reasons-to-choose-conda \n"
   ]
  },
  {
   "cell_type": "markdown",
   "id": "56b6940f",
   "metadata": {},
   "source": [
    "\n",
    "# Setting up a Python Environment with Conda\n",
    "\n",
    "### Creating and Managing Environments\n",
    "Conda allows you to create separate environments for different projects, each with its own set of packages.\n",
    "\n",
    "\n",
    "### Describe the steps to create a new environment in Conda and install a specific version of Python and a few packages.\n"
   ]
  },
  {
   "cell_type": "markdown",
   "id": "c6a7cb0b",
   "metadata": {},
   "source": [
    "### Creating a new environment in Conda and installing a specific version of Python and a few packages\n",
    "1) Follow the conda installation guide\n",
    "2) Open the Anaconda prompt\n",
    "3) Type `conda create --name <env_name> python=3.8`\n",
    "4) Users will be prompted to proceed after being presented the new packages that are going to be installed. Type `y`\n",
    "5) Activate the environment with `conda activate <env_name>`\n",
    "6) To install the libraries, execute `conda install anaconda::numpy anaconda::pandas conda-forge::matplotlib anaconda::scipy`\n",
    "7) There will be a prompt that will ask users if they want to proceed with the installation of the new packages. Type `y`\n",
    "8) The previously mentionned packages will be downloaded and extracted\n",
    "                        "
   ]
  },
  {
   "cell_type": "markdown",
   "id": "81701a45",
   "metadata": {},
   "source": [
    "\n",
    "# Introduction to Python Basics\n",
    "\n",
    "Python is a popular programming language for data analysis and machine learning. In this section, we'll cover basic Python syntax and data types.\n",
    "\n",
    "## Task\n",
    "Writing a Python script that takes a list of numbers and returns a list containing only the even numbers."
   ]
  },
  {
   "cell_type": "code",
   "execution_count": 13,
   "id": "cc158494",
   "metadata": {},
   "outputs": [
    {
     "name": "stdout",
     "output_type": "stream",
     "text": [
      "Even numbers:  [4, 44, 80, 120]\n"
     ]
    }
   ],
   "source": [
    "\n",
    "# Task\n",
    "# Using NumPy arrays and boolean indexing\n",
    "import numpy as np\n",
    "\n",
    "def get_even_numbers(nums):\n",
    "    arr = np.array(nums)\n",
    "    return arr[arr % 2 == 0].tolist()\n",
    "\n",
    "# Application example\n",
    "listSample = [1, 4, 13, 43, 44, 65, 80, 120, 133]\n",
    "even_nums = get_even_numbers(listSample)\n",
    "print(\"Even numbers: \", even_nums)\n"
   ]
  },
  {
   "cell_type": "markdown",
   "id": "db0a1db4",
   "metadata": {},
   "source": [
    "### The difference between a list and a tuple in Python.\n",
    "\n",
    "A list is mutable/dynamic in Python whilst a tuple is immutable/static.\n",
    "Lists in python are represented using square brackets '[]' whils parentheses '()' are used for tuples.\n",
    "Tuples are lighter and consume less memory than python lists.\n",
    "\n",
    "GeeksforGeeks (2023) Difference Between List and Tuple in Python. Available at: https://www.geeksforgeeks.org/python-difference-between-list-and-tuple/"
   ]
  },
  {
   "cell_type": "markdown",
   "id": "c64a4156",
   "metadata": {},
   "source": [
    "# Working with NumPy\n",
    "\n",
    "NumPy is a fundamental package for scientific computing with Python. It provides support for large, multi-dimensional arrays and matrices, along with a large collection of high-level mathematical functions to operate on these arrays.\n",
    "\n",
    "## Create a NumPy array and perform basic array operations (addition, multiplication)."
   ]
  },
  {
   "cell_type": "code",
   "execution_count": 12,
   "id": "d2a5aa23",
   "metadata": {},
   "outputs": [
    {
     "name": "stdout",
     "output_type": "stream",
     "text": [
      "Addition results: [24 25 26 27 28]\n",
      "Multiplication results: [105 110 115 120 125]\n"
     ]
    }
   ],
   "source": [
    "\n",
    "# Task\n",
    "import numpy as np\n",
    "\n",
    "arraySample = np.array([21, 22, 23, 24, 25])\n",
    "\n",
    "# Basic operations\n",
    "addition_array = arraySample + 3\n",
    "print(\"Addition results:\", addition_array)\n",
    "\n",
    "multiplication_array = arraySample * 5\n",
    "print(\"Multiplication results:\", multiplication_array)"
   ]
  },
  {
   "cell_type": "markdown",
   "id": "465369e3",
   "metadata": {},
   "source": [
    "### Advantages of using NumPy arrays over standard Python lists for numerical data\n",
    "\n",
    "NumPy's arrays are more compact and consume less memory than standard python lists\n",
    "NumPy arrays are more efficient and convenient in terms of performing operations.\n",
    "Numpy arrays are optimized for numerical computations and support several mathematical\n",
    "functions including linear algebra and basic statistics.\n",
    "Operations are also executed more efficiently as can be seen in the sample code above.\n",
    "\n",
    "Geeksforgeeks (2023) Python Lists vs Numpy Arrays.Available at: https://www.geeksforgeeks.org/python-lists-vs-numpy-arrays/"
   ]
  },
  {
   "cell_type": "markdown",
   "id": "8a3cb3bb",
   "metadata": {},
   "source": [
    "\n",
    "# Data Manipulation with Pandas\n",
    "\n",
    "Pandas is an open-source data analysis and manipulation tool, built on top of the Python programming language.\n",
    "\n",
    "### Read a CSV file into a DataFrame, display the first few rows, and filter the data based on a condition."
   ]
  },
  {
   "cell_type": "code",
   "execution_count": 11,
   "id": "0b3deb39",
   "metadata": {},
   "outputs": [
    {
     "name": "stdout",
     "output_type": "stream",
     "text": [
      "First 5 rows\n",
      "   AGE  SEX   BMI     BP   S1     S2    S3   S4      S5  S6    Y\n",
      "0   59    2  32.1  101.0  157   93.2  38.0  4.0  4.8598  87  151\n",
      "1   48    1  21.6   87.0  183  103.2  70.0  3.0  3.8918  69   75\n",
      "2   72    2  30.5   93.0  156   93.6  41.0  4.0  4.6728  85  141\n",
      "3   24    1  25.3   84.0  198  131.4  40.0  5.0  4.8903  89  206\n",
      "4   50    1  23.0  101.0  192  125.4  52.0  4.0  4.2905  80  135\n",
      "BMI less than 30\n",
      "     AGE  SEX   BMI      BP   S1     S2    S3    S4      S5   S6    Y\n",
      "1     48    1  21.6   87.00  183  103.2  70.0  3.00  3.8918   69   75\n",
      "3     24    1  25.3   84.00  198  131.4  40.0  5.00  4.8903   89  206\n",
      "4     50    1  23.0  101.00  192  125.4  52.0  4.00  4.2905   80  135\n",
      "5     23    1  22.6   89.00  139   64.8  61.0  2.00  4.1897   68   97\n",
      "6     36    2  22.0   90.00  160   99.6  50.0  3.00  3.9512   82  138\n",
      "..   ...  ...   ...     ...  ...    ...   ...   ...     ...  ...  ...\n",
      "436   33    1  19.5   80.00  171   85.4  75.0  2.00  3.9703   80   48\n",
      "437   60    2  28.2  112.00  185  113.8  42.0  4.00  4.9836   93  178\n",
      "438   47    2  24.9   75.00  225  166.0  42.0  5.00  4.4427  102  104\n",
      "439   60    2  24.9   99.67  162  106.6  43.0  3.77  4.1271   95  132\n",
      "441   36    1  19.6   71.00  250  133.2  97.0  3.00  4.5951   92   57\n",
      "\n",
      "[343 rows x 11 columns]\n"
     ]
    }
   ],
   "source": [
    "\n",
    "# Task\n",
    "# Suppose we use the diabetes.csv dataset\n",
    "import pandas as pd\n",
    "\n",
    "# Read CSV into a dataframe\n",
    "df = pd.read_csv('diabetes.csv')\n",
    "\n",
    "# Display the first few rows\n",
    "print(\"First 5 rows\")\n",
    "print(df.head()) # display the first 5 rows\n",
    "\n",
    "# Filter data based on condition: BMI is less than 30\n",
    "bmi_less_than_30 = df.loc[df['BMI'] < 30]\n",
    "print(\"BMI less than 30\")\n",
    "print(bmi_less_than_30)\n"
   ]
  },
  {
   "cell_type": "markdown",
   "id": "8e20173c",
   "metadata": {},
   "source": [
    "### How a Pandas DataFrame is different from a NumPy array\n",
    "\n",
    "A Panda dataframe is a two-dimensional (2D) data structure with rows and columns whilst a NumPy arrayis a type of multi-dimensional data structure\n",
    "A NumPy arrays contain similar types of objects, but a Panda data frame can have objects of different data types\n",
    "The element of a NumPy array can be accessed by referring to its index number, but Dataframe elementscan be accessed using both index number and named index\n",
    "\n",
    "Geeksforgeeks (2023) Difference between Pandas VS NumPy.\n",
    "Available at: https://www.geeksforgeeks.org/difference-between-pandas-vs-numpy/"
   ]
  },
  {
   "cell_type": "markdown",
   "id": "e6e65672",
   "metadata": {},
   "source": [
    "\n",
    "# Data Visualization with Matplotlib\n",
    "\n",
    "Matplotlib is a comprehensive library for creating static, animated, and interactive visualizations in Python.\n",
    "\n",
    "### Basic plot (line plot or bar chart) using data from a Pandas DataFrame.\n"
   ]
  },
  {
   "cell_type": "code",
   "execution_count": null,
   "id": "70cf72b6",
   "metadata": {},
   "outputs": [],
   "source": [
    "\n",
    "# Task\n",
    "# Creating a basic bar chart with the diabetes dataset\n",
    "import pandas as pd\n",
    "import matplotlib.pyplot as plt\n",
    "\n",
    "# Suppose we use the diabetes.csv dataset\n",
    "df1 = pd.read_csv(\"diabetes.csv\")\n",
    "\n",
    "plt.figure(figsize=(8, 6))\n",
    "plt.bar(df1['AGE'], df1['BMI'])\n",
    "plt.xlabel('AGE')\n",
    "plt.ylabel('BMI')\n",
    "plt.show()\n"
   ]
  },
  {
   "cell_type": "markdown",
   "id": "694f235b",
   "metadata": {},
   "source": [
    "\n",
    "### Importance of data visualization in Data Analysis \n",
    "\n",
    "Data visualisation helps to see patterns, trends and relationships that are not visibile with a raw data.\n",
    "Data visualisation graphs help in finding anomalies, outliers and clusters.\n",
    "Data visualisation can help create a narrative around a data\n",
    "Data visualisation empowers data-driven decision-making"
   ]
  },
  {
   "cell_type": "markdown",
   "id": "fb0497c6",
   "metadata": {},
   "source": [
    "\n",
    "# Basic File Operations in Python\n",
    "\n",
    "File operations are fundamental for data processing. In this section, we'll cover how to read from and write to files in Python.\n",
    "\n",
    "### Write a Python script to read a text file and count the frequency of each word in the file."
   ]
  },
  {
   "cell_type": "code",
   "execution_count": 8,
   "id": "9c87e75d",
   "metadata": {},
   "outputs": [
    {
     "name": "stdout",
     "output_type": "stream",
     "text": [
      "hello: 3\n",
      "yes: 2\n",
      "this: 1\n",
      "is: 1\n",
      "test: 2\n"
     ]
    }
   ],
   "source": [
    "\n",
    "# Task \n",
    "# Counting the frequency of each word in the .txt file using regular expressions and Counter\n",
    "import re\n",
    "from collections import Counter\n",
    "\n",
    "with open('file_test.txt', 'r') as f:\n",
    "    text_sample = f.read().lower()\n",
    "\n",
    "# Extract words using regex pattern\n",
    "pattern = re.findall(r'\\b[a-z]{2,15}\\b', text_sample)\n",
    "\n",
    "counts_word = Counter(pattern)\n",
    "\n",
    "for word, count in counts_word.items():\n",
    "    print(f\"{word}: {count}\")"
   ]
  },
  {
   "cell_type": "markdown",
   "id": "3ec840a7",
   "metadata": {},
   "source": [
    "### Different modes of opening a file in Python.\n",
    "- 'r' opens a file for reading only. The file pointer is placed at the beginning of the file\n",
    "- 'r+' opens a file for reading and writing. The file pointer is places at the beginning of the file\n",
    "- 'w' truncates a file  if exists or create a new file for writing.\n",
    "- 'w+' opens a file for reading and writing. It created a file if it does not exist, otherwise it\n",
    "- truncates an existing one\n",
    "- 'a' opens a file for appending data. It creates a new file if it does not exist. The file pointer\n",
    "- is at the end of the file\n",
    "- 'a+' opens a file for reading and writing\n",
    "- 'x' opens a file for exclusive creation, and throw an error if the file already exists\n",
    "- 'b' binary mode\n",
    "- 't' default text mode\n",
    "\n",
    "Available at https://docs.python.org/3/library/functions.html#open"
   ]
  },
  {
   "cell_type": "markdown",
   "id": "f0324bd0",
   "metadata": {},
   "source": [
    "\n",
    "# Introduction to SciPy\n",
    "\n",
    "SciPy is a Python-based ecosystem of open-source software for mathematics, science, and engineering.\n",
    "\n",
    "### Demonstrate a simple mathematical operation using SciPy, like solving a linear equation."
   ]
  },
  {
   "cell_type": "code",
   "execution_count": 7,
   "id": "8dcbaa56",
   "metadata": {},
   "outputs": [
    {
     "name": "stdout",
     "output_type": "stream",
     "text": [
      "x = 5.00\n",
      "y = 4.00\n"
     ]
    }
   ],
   "source": [
    "\n",
    "# Task\n",
    "import numpy as np\n",
    "from scipy.linalg import solve\n",
    "\n",
    "# 2x + 3y = 22\n",
    "# 6x - 2y = 22\n",
    "\n",
    "# Coefficient matrix\n",
    "A = np.array([[2, 3], [6,-2]])\n",
    "\n",
    "# Right-hand side vector\n",
    "b = np.array([22, 22])\n",
    "\n",
    "# Solving the system of equations\n",
    "x, y = solve(A, b)\n",
    "\n",
    "print(f\"x = {x:.2f}\")\n",
    "print(f\"y = {y:.2f}\")\n"
   ]
  },
  {
   "cell_type": "markdown",
   "id": "4ac9cac3",
   "metadata": {},
   "source": [
    "### Role of SciPy in scientific computing with Python\n"
   ]
  },
  {
   "cell_type": "markdown",
   "id": "0eae9e49",
   "metadata": {},
   "source": [
    "- The role of SciPy in scientific computing with Python\n",
    "- Scipy provides solutions to common issues in scientific computing\n",
    "- SciPy extends the capabilities of NumPy, and provides specialized functions for tasks such as optimization,\n",
    "- Interpolation, image processing, statistics,...\n",
    "\n",
    " Varoquaux, G et al. (n.d.) 1.5. SciPy : high-level scientific computing.Available at: https://lectures.scientific-python.org/intro/scipy/index.html"
   ]
  }
 ],
 "metadata": {
  "kernelspec": {
   "display_name": "Python 3 (ipykernel)",
   "language": "python",
   "name": "python3"
  },
  "language_info": {
   "codemirror_mode": {
    "name": "ipython",
    "version": 3
   },
   "file_extension": ".py",
   "mimetype": "text/x-python",
   "name": "python",
   "nbconvert_exporter": "python",
   "pygments_lexer": "ipython3",
   "version": "3.11.5"
  }
 },
 "nbformat": 4,
 "nbformat_minor": 5
}
